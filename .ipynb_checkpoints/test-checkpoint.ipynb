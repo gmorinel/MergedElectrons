{
 "cells": [
  {
   "cell_type": "markdown",
   "metadata": {},
   "source": [
    "Codice per analizzare i dati di segnale e di background sui merged electrons (ME)"
   ]
  },
  {
   "cell_type": "code",
   "execution_count": 1,
   "metadata": {},
   "outputs": [],
   "source": [
    "# import libraries\n",
    "\n",
    "import uproot\n",
    "import matplotlib.pyplot as plt\n",
    "import numpy as np\n",
    "import lightgbm as lgb\n",
    "import pandas as pd\n",
    "from sklearn.model_selection import train_test_split\n",
    "from sklearn.model_selection import GridSearchCV\n",
    "from sklearn.metrics import confusion_matrix\n",
    "\n",
    "# import scikitplot as skplt\n",
    "\n",
    "import os"
   ]
  },
  {
   "cell_type": "code",
   "execution_count": 2,
   "metadata": {},
   "outputs": [],
   "source": [
    "# define variables (features)\n",
    "\n",
    "# discriminating_variables = [\"pt\", \"eta\", \"phi\", \"true_E\", \"Rhad\", \"Rhad1\", \n",
    "#                            \"Reta\", \"Rphi\", \"Eratio\", \"DeltaE\", \"wEta1\", \"wEta2\",\n",
    "#                            \"wTotS1\"]\n",
    "discriminating_variables = [\"pt\", \"eta\", \"true_E\", \"Rhad\", \"Rhad1\",\n",
    "                            \"Reta\", \"Rphi\", \"Eratio\", \"DeltaE\", \"f3\", \"wEta2\",\n",
    "                            \"wTotS1\", \"trk_dEta1\", \"EoverP\",\n",
    "                            \"vtx_dphi\", \"vtx_deta\", \"vtx_deltaZ0\", \n",
    "                            \"trk_TRT_PID1\", \"trk_TRT_PID2\"]\n",
    "\n",
    "variables = [\"eventNumber\", \"pdgId\", \"parentPdgId\", \"isLoose\", \"isTight\"] + discriminating_variables\n"
   ]
  },
  {
   "cell_type": "code",
   "execution_count": 3,
   "metadata": {},
   "outputs": [
    {
     "data": {
      "text/plain": [
       "['pt',\n",
       " 'pt_true',\n",
       " 'eta',\n",
       " 'cl_eta',\n",
       " 'eta_s2',\n",
       " 'cl_etaCalo',\n",
       " 'etaModCalo',\n",
       " 'cellIndexCalo',\n",
       " 'phi',\n",
       " 'cl_phi',\n",
       " 'cl_phiCalo',\n",
       " 'phiModCalo1',\n",
       " 'true_E',\n",
       " 'calibrated_E',\n",
       " 'cl_E_TileGap3',\n",
       " 'rawcl_E',\n",
       " 'rawcl_Eacc',\n",
       " 'rawcl_Es0',\n",
       " 'rawcl_Es1',\n",
       " 'rawcl_Es2',\n",
       " 'rawcl_Es3',\n",
       " 'R12',\n",
       " 'f0',\n",
       " 'f1',\n",
       " 'f3',\n",
       " 'AverageMu',\n",
       " 'ActualMu',\n",
       " 'calibrated_E_ph',\n",
       " 'calibrated_E_ph_50',\n",
       " 'calibrated_E_ph_100',\n",
       " 'calibrated_E_ph_200',\n",
       " 'calibrated_E_ph_400',\n",
       " 'true_M',\n",
       " 'reco_M',\n",
       " 'Rhad',\n",
       " 'Rhad1',\n",
       " 'Reta',\n",
       " 'Rphi',\n",
       " 'Eratio',\n",
       " 'DeltaE',\n",
       " 'wEta1',\n",
       " 'wEta2',\n",
       " 'wTotS1',\n",
       " 'trk_dEta1',\n",
       " 'trk_abs_dEta1',\n",
       " 'EoverP',\n",
       " 'trk1_dphi',\n",
       " 'trk2_dphi',\n",
       " 'trk1_deta',\n",
       " 'trk2_deta',\n",
       " 'vtx_deltaZ0',\n",
       " 'delta_R_ll',\n",
       " 'delta_R_ll_true',\n",
       " 'm_ll',\n",
       " 'n_el',\n",
       " 'n_truth_el',\n",
       " 'trk_dphi',\n",
       " 'trk_deta',\n",
       " 'vtx_dphi',\n",
       " 'vtx_deta',\n",
       " 'trk_TRT_PID1',\n",
       " 'trk_TRT_PID2',\n",
       " 'trk_d0sig1',\n",
       " 'trk_d0sig2',\n",
       " 'vtx_R',\n",
       " 'passPID',\n",
       " 'isTight',\n",
       " 'isMedium',\n",
       " 'isLoose',\n",
       " 'eventNumber',\n",
       " 'runNumber',\n",
       " 'mcChannelNumber',\n",
       " 'isIsoWithCorr_Loose',\n",
       " 'isIsoWithCorr_Tight',\n",
       " 'pdgId',\n",
       " 'parentPdgId',\n",
       " 'truthOrigin_reco',\n",
       " 'truthOrigin_truth',\n",
       " 'author',\n",
       " 'truthType']"
      ]
     },
     "execution_count": 3,
     "metadata": {},
     "output_type": "execute_result"
    }
   ],
   "source": [
    "# Read from the sample file\n",
    "# uproot converts the root format into pandas dataframe\n",
    "\n",
    "# pick one of many files in MergedElectrons\n",
    "sf = uproot.open(\n",
    "    \"/storage_tmp/atlas/lnasella/yystar/MergedElectronID\"+\n",
    "    \"/Run3/Ntuples/yys_ME002/signal/mc23a.PhPy8EG_NNPDF23_A14_ggH125_yys_ME002.root\")\n",
    "sf.keys()\n",
    "\n",
    "# signal tree\n",
    "st = sf[\"MergedElectron\"]\n",
    "st.keys()\n"
   ]
  },
  {
   "cell_type": "code",
   "execution_count": 4,
   "metadata": {},
   "outputs": [
    {
     "data": {
      "text/html": [
       "<div>\n",
       "<style scoped>\n",
       "    .dataframe tbody tr th:only-of-type {\n",
       "        vertical-align: middle;\n",
       "    }\n",
       "\n",
       "    .dataframe tbody tr th {\n",
       "        vertical-align: top;\n",
       "    }\n",
       "\n",
       "    .dataframe thead th {\n",
       "        text-align: right;\n",
       "    }\n",
       "</style>\n",
       "<table border=\"1\" class=\"dataframe\">\n",
       "  <thead>\n",
       "    <tr style=\"text-align: right;\">\n",
       "      <th></th>\n",
       "      <th>eventNumber</th>\n",
       "      <th>pdgId</th>\n",
       "      <th>parentPdgId</th>\n",
       "      <th>isLoose</th>\n",
       "      <th>isTight</th>\n",
       "      <th>pt</th>\n",
       "      <th>eta</th>\n",
       "      <th>true_E</th>\n",
       "      <th>Rhad</th>\n",
       "      <th>Rhad1</th>\n",
       "      <th>...</th>\n",
       "      <th>f3</th>\n",
       "      <th>wEta2</th>\n",
       "      <th>wTotS1</th>\n",
       "      <th>trk_dEta1</th>\n",
       "      <th>EoverP</th>\n",
       "      <th>vtx_dphi</th>\n",
       "      <th>vtx_deta</th>\n",
       "      <th>vtx_deltaZ0</th>\n",
       "      <th>trk_TRT_PID1</th>\n",
       "      <th>trk_TRT_PID2</th>\n",
       "    </tr>\n",
       "  </thead>\n",
       "  <tbody>\n",
       "    <tr>\n",
       "      <th>0</th>\n",
       "      <td>216001</td>\n",
       "      <td>-11</td>\n",
       "      <td>22</td>\n",
       "      <td>0</td>\n",
       "      <td>0</td>\n",
       "      <td>22.755053</td>\n",
       "      <td>-2.289498</td>\n",
       "      <td>146130.046875</td>\n",
       "      <td>-0.007179</td>\n",
       "      <td>-0.007179</td>\n",
       "      <td>...</td>\n",
       "      <td>0.002777</td>\n",
       "      <td>0.011478</td>\n",
       "      <td>1.152734</td>\n",
       "      <td>0.002138</td>\n",
       "      <td>5.548630</td>\n",
       "      <td>-0.011435</td>\n",
       "      <td>-0.000552</td>\n",
       "      <td>0.114830</td>\n",
       "      <td>-0.000000</td>\n",
       "      <td>-0.000000</td>\n",
       "    </tr>\n",
       "    <tr>\n",
       "      <th>1</th>\n",
       "      <td>216035</td>\n",
       "      <td>11</td>\n",
       "      <td>22</td>\n",
       "      <td>1</td>\n",
       "      <td>0</td>\n",
       "      <td>90.648857</td>\n",
       "      <td>-0.126479</td>\n",
       "      <td>-999.000000</td>\n",
       "      <td>0.001414</td>\n",
       "      <td>0.001414</td>\n",
       "      <td>...</td>\n",
       "      <td>0.004400</td>\n",
       "      <td>0.009576</td>\n",
       "      <td>2.288915</td>\n",
       "      <td>0.000310</td>\n",
       "      <td>1.007238</td>\n",
       "      <td>0.004516</td>\n",
       "      <td>-0.001034</td>\n",
       "      <td>161.324081</td>\n",
       "      <td>-0.013623</td>\n",
       "      <td>-0.026559</td>\n",
       "    </tr>\n",
       "    <tr>\n",
       "      <th>2</th>\n",
       "      <td>216028</td>\n",
       "      <td>11</td>\n",
       "      <td>11</td>\n",
       "      <td>1</td>\n",
       "      <td>0</td>\n",
       "      <td>69.194923</td>\n",
       "      <td>0.243375</td>\n",
       "      <td>69884.984375</td>\n",
       "      <td>-0.000153</td>\n",
       "      <td>-0.000153</td>\n",
       "      <td>...</td>\n",
       "      <td>0.002733</td>\n",
       "      <td>0.009601</td>\n",
       "      <td>1.959671</td>\n",
       "      <td>0.003101</td>\n",
       "      <td>1.181469</td>\n",
       "      <td>0.000508</td>\n",
       "      <td>0.003027</td>\n",
       "      <td>0.189831</td>\n",
       "      <td>-0.027880</td>\n",
       "      <td>-0.006519</td>\n",
       "    </tr>\n",
       "    <tr>\n",
       "      <th>3</th>\n",
       "      <td>216004</td>\n",
       "      <td>11</td>\n",
       "      <td>11</td>\n",
       "      <td>0</td>\n",
       "      <td>0</td>\n",
       "      <td>23.591095</td>\n",
       "      <td>1.128625</td>\n",
       "      <td>83809.289062</td>\n",
       "      <td>-0.003850</td>\n",
       "      <td>0.000377</td>\n",
       "      <td>...</td>\n",
       "      <td>0.003284</td>\n",
       "      <td>0.010591</td>\n",
       "      <td>2.776890</td>\n",
       "      <td>-0.001529</td>\n",
       "      <td>0.472209</td>\n",
       "      <td>0.021275</td>\n",
       "      <td>0.000882</td>\n",
       "      <td>0.028795</td>\n",
       "      <td>0.023110</td>\n",
       "      <td>0.096197</td>\n",
       "    </tr>\n",
       "    <tr>\n",
       "      <th>4</th>\n",
       "      <td>216005</td>\n",
       "      <td>-11</td>\n",
       "      <td>-11</td>\n",
       "      <td>1</td>\n",
       "      <td>0</td>\n",
       "      <td>59.034683</td>\n",
       "      <td>0.146982</td>\n",
       "      <td>66662.125000</td>\n",
       "      <td>-0.005290</td>\n",
       "      <td>-0.005290</td>\n",
       "      <td>...</td>\n",
       "      <td>0.004438</td>\n",
       "      <td>0.010150</td>\n",
       "      <td>1.904832</td>\n",
       "      <td>-0.000149</td>\n",
       "      <td>0.993656</td>\n",
       "      <td>0.002240</td>\n",
       "      <td>-0.008324</td>\n",
       "      <td>0.101280</td>\n",
       "      <td>0.003245</td>\n",
       "      <td>0.103180</td>\n",
       "    </tr>\n",
       "    <tr>\n",
       "      <th>...</th>\n",
       "      <td>...</td>\n",
       "      <td>...</td>\n",
       "      <td>...</td>\n",
       "      <td>...</td>\n",
       "      <td>...</td>\n",
       "      <td>...</td>\n",
       "      <td>...</td>\n",
       "      <td>...</td>\n",
       "      <td>...</td>\n",
       "      <td>...</td>\n",
       "      <td>...</td>\n",
       "      <td>...</td>\n",
       "      <td>...</td>\n",
       "      <td>...</td>\n",
       "      <td>...</td>\n",
       "      <td>...</td>\n",
       "      <td>...</td>\n",
       "      <td>...</td>\n",
       "      <td>...</td>\n",
       "      <td>...</td>\n",
       "      <td>...</td>\n",
       "    </tr>\n",
       "    <tr>\n",
       "      <th>181031</th>\n",
       "      <td>287990</td>\n",
       "      <td>11</td>\n",
       "      <td>22</td>\n",
       "      <td>1</td>\n",
       "      <td>0</td>\n",
       "      <td>56.414829</td>\n",
       "      <td>-0.474305</td>\n",
       "      <td>62033.531250</td>\n",
       "      <td>-0.004239</td>\n",
       "      <td>-0.004239</td>\n",
       "      <td>...</td>\n",
       "      <td>0.006560</td>\n",
       "      <td>0.008514</td>\n",
       "      <td>1.853502</td>\n",
       "      <td>0.000766</td>\n",
       "      <td>0.905880</td>\n",
       "      <td>0.000956</td>\n",
       "      <td>-0.003099</td>\n",
       "      <td>0.017771</td>\n",
       "      <td>0.040260</td>\n",
       "      <td>0.079115</td>\n",
       "    </tr>\n",
       "    <tr>\n",
       "      <th>181032</th>\n",
       "      <td>287988</td>\n",
       "      <td>-11</td>\n",
       "      <td>-11</td>\n",
       "      <td>1</td>\n",
       "      <td>1</td>\n",
       "      <td>50.443615</td>\n",
       "      <td>-1.525999</td>\n",
       "      <td>-999.000000</td>\n",
       "      <td>-0.013511</td>\n",
       "      <td>-0.013511</td>\n",
       "      <td>...</td>\n",
       "      <td>0.005283</td>\n",
       "      <td>0.009479</td>\n",
       "      <td>2.342251</td>\n",
       "      <td>0.000800</td>\n",
       "      <td>-121.618622</td>\n",
       "      <td>-999.000000</td>\n",
       "      <td>-999.000000</td>\n",
       "      <td>69.127274</td>\n",
       "      <td>0.196777</td>\n",
       "      <td>-0.283929</td>\n",
       "    </tr>\n",
       "    <tr>\n",
       "      <th>181033</th>\n",
       "      <td>287993</td>\n",
       "      <td>11</td>\n",
       "      <td>11</td>\n",
       "      <td>0</td>\n",
       "      <td>0</td>\n",
       "      <td>41.485275</td>\n",
       "      <td>-0.139478</td>\n",
       "      <td>41810.593750</td>\n",
       "      <td>0.000043</td>\n",
       "      <td>0.000043</td>\n",
       "      <td>...</td>\n",
       "      <td>0.000381</td>\n",
       "      <td>0.008714</td>\n",
       "      <td>1.949105</td>\n",
       "      <td>-0.000091</td>\n",
       "      <td>1.018505</td>\n",
       "      <td>-0.007461</td>\n",
       "      <td>-0.000550</td>\n",
       "      <td>0.044287</td>\n",
       "      <td>0.024207</td>\n",
       "      <td>0.032529</td>\n",
       "    </tr>\n",
       "    <tr>\n",
       "      <th>181034</th>\n",
       "      <td>287999</td>\n",
       "      <td>11</td>\n",
       "      <td>11</td>\n",
       "      <td>0</td>\n",
       "      <td>0</td>\n",
       "      <td>27.785141</td>\n",
       "      <td>-2.274886</td>\n",
       "      <td>-999.000000</td>\n",
       "      <td>0.021270</td>\n",
       "      <td>0.021270</td>\n",
       "      <td>...</td>\n",
       "      <td>0.002307</td>\n",
       "      <td>0.012641</td>\n",
       "      <td>1.454068</td>\n",
       "      <td>0.000219</td>\n",
       "      <td>1.207547</td>\n",
       "      <td>-0.002302</td>\n",
       "      <td>0.000559</td>\n",
       "      <td>84.915573</td>\n",
       "      <td>-0.000000</td>\n",
       "      <td>-0.000000</td>\n",
       "    </tr>\n",
       "    <tr>\n",
       "      <th>181035</th>\n",
       "      <td>287999</td>\n",
       "      <td>-11</td>\n",
       "      <td>-11</td>\n",
       "      <td>0</td>\n",
       "      <td>0</td>\n",
       "      <td>27.754715</td>\n",
       "      <td>-2.427936</td>\n",
       "      <td>-999.000000</td>\n",
       "      <td>0.019329</td>\n",
       "      <td>0.019329</td>\n",
       "      <td>...</td>\n",
       "      <td>0.029273</td>\n",
       "      <td>0.011404</td>\n",
       "      <td>-999.000000</td>\n",
       "      <td>0.008252</td>\n",
       "      <td>0.540700</td>\n",
       "      <td>0.009269</td>\n",
       "      <td>0.000549</td>\n",
       "      <td>146.741486</td>\n",
       "      <td>-0.000000</td>\n",
       "      <td>-0.000000</td>\n",
       "    </tr>\n",
       "  </tbody>\n",
       "</table>\n",
       "<p>181036 rows × 24 columns</p>\n",
       "</div>"
      ],
      "text/plain": [
       "        eventNumber  pdgId  parentPdgId  isLoose  isTight         pt  \\\n",
       "0            216001    -11           22        0        0  22.755053   \n",
       "1            216035     11           22        1        0  90.648857   \n",
       "2            216028     11           11        1        0  69.194923   \n",
       "3            216004     11           11        0        0  23.591095   \n",
       "4            216005    -11          -11        1        0  59.034683   \n",
       "...             ...    ...          ...      ...      ...        ...   \n",
       "181031       287990     11           22        1        0  56.414829   \n",
       "181032       287988    -11          -11        1        1  50.443615   \n",
       "181033       287993     11           11        0        0  41.485275   \n",
       "181034       287999     11           11        0        0  27.785141   \n",
       "181035       287999    -11          -11        0        0  27.754715   \n",
       "\n",
       "             eta         true_E      Rhad     Rhad1  ...        f3     wEta2  \\\n",
       "0      -2.289498  146130.046875 -0.007179 -0.007179  ...  0.002777  0.011478   \n",
       "1      -0.126479    -999.000000  0.001414  0.001414  ...  0.004400  0.009576   \n",
       "2       0.243375   69884.984375 -0.000153 -0.000153  ...  0.002733  0.009601   \n",
       "3       1.128625   83809.289062 -0.003850  0.000377  ...  0.003284  0.010591   \n",
       "4       0.146982   66662.125000 -0.005290 -0.005290  ...  0.004438  0.010150   \n",
       "...          ...            ...       ...       ...  ...       ...       ...   \n",
       "181031 -0.474305   62033.531250 -0.004239 -0.004239  ...  0.006560  0.008514   \n",
       "181032 -1.525999    -999.000000 -0.013511 -0.013511  ...  0.005283  0.009479   \n",
       "181033 -0.139478   41810.593750  0.000043  0.000043  ...  0.000381  0.008714   \n",
       "181034 -2.274886    -999.000000  0.021270  0.021270  ...  0.002307  0.012641   \n",
       "181035 -2.427936    -999.000000  0.019329  0.019329  ...  0.029273  0.011404   \n",
       "\n",
       "            wTotS1  trk_dEta1      EoverP    vtx_dphi    vtx_deta  \\\n",
       "0         1.152734   0.002138    5.548630   -0.011435   -0.000552   \n",
       "1         2.288915   0.000310    1.007238    0.004516   -0.001034   \n",
       "2         1.959671   0.003101    1.181469    0.000508    0.003027   \n",
       "3         2.776890  -0.001529    0.472209    0.021275    0.000882   \n",
       "4         1.904832  -0.000149    0.993656    0.002240   -0.008324   \n",
       "...            ...        ...         ...         ...         ...   \n",
       "181031    1.853502   0.000766    0.905880    0.000956   -0.003099   \n",
       "181032    2.342251   0.000800 -121.618622 -999.000000 -999.000000   \n",
       "181033    1.949105  -0.000091    1.018505   -0.007461   -0.000550   \n",
       "181034    1.454068   0.000219    1.207547   -0.002302    0.000559   \n",
       "181035 -999.000000   0.008252    0.540700    0.009269    0.000549   \n",
       "\n",
       "        vtx_deltaZ0  trk_TRT_PID1  trk_TRT_PID2  \n",
       "0          0.114830     -0.000000     -0.000000  \n",
       "1        161.324081     -0.013623     -0.026559  \n",
       "2          0.189831     -0.027880     -0.006519  \n",
       "3          0.028795      0.023110      0.096197  \n",
       "4          0.101280      0.003245      0.103180  \n",
       "...             ...           ...           ...  \n",
       "181031     0.017771      0.040260      0.079115  \n",
       "181032    69.127274      0.196777     -0.283929  \n",
       "181033     0.044287      0.024207      0.032529  \n",
       "181034    84.915573     -0.000000     -0.000000  \n",
       "181035   146.741486     -0.000000     -0.000000  \n",
       "\n",
       "[181036 rows x 24 columns]"
      ]
     },
     "execution_count": 4,
     "metadata": {},
     "output_type": "execute_result"
    }
   ],
   "source": [
    "sd = st.arrays(variables, library=\"pd\")\n",
    "#st.keys()\n",
    "#print(st.keys())\n",
    "sd"
   ]
  },
  {
   "cell_type": "code",
   "execution_count": 5,
   "metadata": {},
   "outputs": [
    {
     "name": "stdout",
     "output_type": "stream",
     "text": [
      "Total number of events after cuts =  81851\n"
     ]
    }
   ],
   "source": [
    "# cut on true_E : true_E = -999 represents ME not matched with a yy*\n",
    "sd = sd[ (sd[\"true_E\"]!=-999) & (sd[\"isLoose\"]==True)]\n",
    "print ( \"Total number of events after cuts = \", len(sd.index) ) "
   ]
  },
  {
   "cell_type": "code",
   "execution_count": 6,
   "metadata": {},
   "outputs": [
    {
     "data": {
      "text/plain": [
       "[Text(0.5, 0, 'eta')]"
      ]
     },
     "execution_count": 6,
     "metadata": {},
     "output_type": "execute_result"
    },
    {
     "data": {
      "image/png": "[encoded data removed]",
      "text/plain": [
       "<Figure size 432x288 with 2 Axes>"
      ]
     },
     "metadata": {
      "needs_background": "light"
     },
     "output_type": "display_data"
    }
   ],
   "source": [
    "# plot of pt and eta distributions\n",
    "\n",
    "plt.figure()\n",
    "plt.subplot(121)\n",
    "sd[ (sd[\"pt\"] < 400)][\"pt\"].plot.hist(bins=100,alpha=0.5,density='true',legend='true')\n",
    "plt.gca().set(xlabel=\"pt\")\n",
    "\n",
    "plt.subplot(122)\n",
    "sd[\"eta\"].plot.hist(bins=100,alpha=0.5,density='true',legend='true')\n",
    "plt.gca().set(xlabel=\"eta\")\n"
   ]
  },
  {
   "cell_type": "code",
   "execution_count": 7,
   "metadata": {},
   "outputs": [
    {
     "name": "stdout",
     "output_type": "stream",
     "text": [
      "['mc23a.PhPy8EG_NNPDF23_A14_ggH125_yys_ME002.root', 'mc23a.PhPy8EG_NNPDF23_A14_ggZH125_yys_ME002.root', 'mc23a.PhPy8EG_NNPDF23_A14_ttH125_yys_ME002.root', 'mc23a.PhPy8EG_NNPDF23_A14_VBFH125_yys_ME002.root', 'mc23a.PhPy8EG_NNPDF23_A14_WmH125J_yys_ME002.root', 'mc23a.PhPy8EG_NNPDF23_A14_WpH125J_yys_ME002.root', 'mc23a.PhPy8EG_NNPDF23_A14_ZH125J_yys_ME002.root', 'mc23d.PhPy8EG_NNPDF23_A14_ggH125_yys_ME002.root', 'mc23d.PhPy8EG_NNPDF23_A14_ggZH125_yys_ME002.root', 'mc23d.PhPy8EG_NNPDF23_A14_ttH125_yys_ME002.root', 'mc23d.PhPy8EG_NNPDF23_A14_VBFH125_yys_ME002.root', 'mc23d.PhPy8EG_NNPDF23_A14_WmH125J_yys_ME002.root', 'mc23d.PhPy8EG_NNPDF23_A14_WpH125J_yys_ME002.root', 'mc23d.PhPy8EG_NNPDF23_A14_ZH125J_yys_ME002.root', 'mc23e.PhPy8EG_NNPDF23_A14_ggH125_yys_ME002.root', 'mc23e.PhPy8EG_NNPDF23_A14_ggZH125_yys_ME002.root', 'mc23e.PhPy8EG_NNPDF23_A14_ttH125_yys_ME002.root', 'mc23e.PhPy8EG_NNPDF23_A14_WmH125J_yys_ME002.root', 'mc23e.PhPy8EG_NNPDF23_A14_WpH125J_yys_ME002.root', 'mc23e.PhPy8EG_NNPDF23_A14_ZH125J_yys_ME002.root', 'mc23e.PhPy8EG_NNPDF23_A14_VBFH125_yys_ME002.root']\n"
     ]
    }
   ],
   "source": [
    "# Now read from all the sample files in the directory\n",
    "\n",
    "# What's the plan:\n",
    "# 1 - save all file names\n",
    "# 2 - create a cycle with a temporary data frame\n",
    "# 3 - add distinctive labels to the data frame and concatenate \n",
    "#     with the total data frame (i use pd.concat)\n",
    "\n",
    "signal_file_names = os.listdir(\"/storage_tmp/atlas/lnasella/yystar/MergedElectronID\"+\n",
    "                    \"/Run3/Ntuples/yys_ME002/signal\")\n",
    "\n",
    "print(signal_file_names)\n"
   ]
  },
  {
   "cell_type": "code",
   "execution_count": 8,
   "metadata": {},
   "outputs": [
    {
     "name": "stdout",
     "output_type": "stream",
     "text": [
      "File #0: mc23a.PhPy8EG_NNPDF23_A14_ggH125_yys_ME002.root\n",
      "File #1: mc23a.PhPy8EG_NNPDF23_A14_ggZH125_yys_ME002.root\n",
      "File #2: mc23a.PhPy8EG_NNPDF23_A14_ttH125_yys_ME002.root\n",
      "File #3: mc23a.PhPy8EG_NNPDF23_A14_VBFH125_yys_ME002.root\n",
      "File #4: mc23a.PhPy8EG_NNPDF23_A14_WmH125J_yys_ME002.root\n",
      "File #5: mc23a.PhPy8EG_NNPDF23_A14_WpH125J_yys_ME002.root\n",
      "File #6: mc23a.PhPy8EG_NNPDF23_A14_ZH125J_yys_ME002.root\n",
      "File #7: mc23d.PhPy8EG_NNPDF23_A14_ggH125_yys_ME002.root\n",
      "File #8: mc23d.PhPy8EG_NNPDF23_A14_ggZH125_yys_ME002.root\n",
      "File #9: mc23d.PhPy8EG_NNPDF23_A14_ttH125_yys_ME002.root\n",
      "File #10: mc23d.PhPy8EG_NNPDF23_A14_VBFH125_yys_ME002.root\n",
      "File #11: mc23d.PhPy8EG_NNPDF23_A14_WmH125J_yys_ME002.root\n",
      "File #12: mc23d.PhPy8EG_NNPDF23_A14_WpH125J_yys_ME002.root\n",
      "File #13: mc23d.PhPy8EG_NNPDF23_A14_ZH125J_yys_ME002.root\n",
      "File #14: mc23e.PhPy8EG_NNPDF23_A14_ggH125_yys_ME002.root\n",
      "File #15: mc23e.PhPy8EG_NNPDF23_A14_ggZH125_yys_ME002.root\n",
      "File #16: mc23e.PhPy8EG_NNPDF23_A14_ttH125_yys_ME002.root\n",
      "File #17: mc23e.PhPy8EG_NNPDF23_A14_WmH125J_yys_ME002.root\n",
      "File #18: mc23e.PhPy8EG_NNPDF23_A14_WpH125J_yys_ME002.root\n",
      "File #19: mc23e.PhPy8EG_NNPDF23_A14_ZH125J_yys_ME002.root\n",
      "File #20: mc23e.PhPy8EG_NNPDF23_A14_VBFH125_yys_ME002.root\n",
      "Signal events:\n"
     ]
    },
    {
     "data": {
      "text/html": [
       "<div>\n",
       "<style scoped>\n",
       "    .dataframe tbody tr th:only-of-type {\n",
       "        vertical-align: middle;\n",
       "    }\n",
       "\n",
       "    .dataframe tbody tr th {\n",
       "        vertical-align: top;\n",
       "    }\n",
       "\n",
       "    .dataframe thead th {\n",
       "        text-align: right;\n",
       "    }\n",
       "</style>\n",
       "<table border=\"1\" class=\"dataframe\">\n",
       "  <thead>\n",
       "    <tr style=\"text-align: right;\">\n",
       "      <th></th>\n",
       "      <th>eventNumber</th>\n",
       "      <th>pdgId</th>\n",
       "      <th>parentPdgId</th>\n",
       "      <th>isLoose</th>\n",
       "      <th>isTight</th>\n",
       "      <th>pt</th>\n",
       "      <th>eta</th>\n",
       "      <th>true_E</th>\n",
       "      <th>Rhad</th>\n",
       "      <th>Rhad1</th>\n",
       "      <th>...</th>\n",
       "      <th>trk_dEta1</th>\n",
       "      <th>EoverP</th>\n",
       "      <th>vtx_dphi</th>\n",
       "      <th>vtx_deta</th>\n",
       "      <th>vtx_deltaZ0</th>\n",
       "      <th>trk_TRT_PID1</th>\n",
       "      <th>trk_TRT_PID2</th>\n",
       "      <th>file_name_label</th>\n",
       "      <th>truth_label</th>\n",
       "      <th>version_label</th>\n",
       "    </tr>\n",
       "  </thead>\n",
       "  <tbody>\n",
       "    <tr>\n",
       "      <th>0</th>\n",
       "      <td>216028</td>\n",
       "      <td>11</td>\n",
       "      <td>11</td>\n",
       "      <td>1</td>\n",
       "      <td>0</td>\n",
       "      <td>69.194923</td>\n",
       "      <td>0.243375</td>\n",
       "      <td>69884.984375</td>\n",
       "      <td>-0.000153</td>\n",
       "      <td>-0.000153</td>\n",
       "      <td>...</td>\n",
       "      <td>0.003101</td>\n",
       "      <td>1.181469</td>\n",
       "      <td>0.000508</td>\n",
       "      <td>0.003027</td>\n",
       "      <td>0.189831</td>\n",
       "      <td>-0.027880</td>\n",
       "      <td>-0.006519</td>\n",
       "      <td>mc23a.PhPy8EG_NNPDF23_A14_ggH125_yys_ME002.root</td>\n",
       "      <td>1.0</td>\n",
       "      <td>a</td>\n",
       "    </tr>\n",
       "    <tr>\n",
       "      <th>1</th>\n",
       "      <td>216005</td>\n",
       "      <td>-11</td>\n",
       "      <td>-11</td>\n",
       "      <td>1</td>\n",
       "      <td>0</td>\n",
       "      <td>59.034683</td>\n",
       "      <td>0.146982</td>\n",
       "      <td>66662.125000</td>\n",
       "      <td>-0.005290</td>\n",
       "      <td>-0.005290</td>\n",
       "      <td>...</td>\n",
       "      <td>-0.000149</td>\n",
       "      <td>0.993656</td>\n",
       "      <td>0.002240</td>\n",
       "      <td>-0.008324</td>\n",
       "      <td>0.101280</td>\n",
       "      <td>0.003245</td>\n",
       "      <td>0.103180</td>\n",
       "      <td>mc23a.PhPy8EG_NNPDF23_A14_ggH125_yys_ME002.root</td>\n",
       "      <td>1.0</td>\n",
       "      <td>a</td>\n",
       "    </tr>\n",
       "    <tr>\n",
       "      <th>2</th>\n",
       "      <td>216040</td>\n",
       "      <td>11</td>\n",
       "      <td>22</td>\n",
       "      <td>1</td>\n",
       "      <td>1</td>\n",
       "      <td>72.487686</td>\n",
       "      <td>0.485934</td>\n",
       "      <td>81926.343750</td>\n",
       "      <td>-0.000508</td>\n",
       "      <td>-0.000508</td>\n",
       "      <td>...</td>\n",
       "      <td>0.000016</td>\n",
       "      <td>1.128548</td>\n",
       "      <td>-0.004982</td>\n",
       "      <td>-0.001126</td>\n",
       "      <td>0.028361</td>\n",
       "      <td>0.011771</td>\n",
       "      <td>0.005606</td>\n",
       "      <td>mc23a.PhPy8EG_NNPDF23_A14_ggH125_yys_ME002.root</td>\n",
       "      <td>1.0</td>\n",
       "      <td>a</td>\n",
       "    </tr>\n",
       "    <tr>\n",
       "      <th>3</th>\n",
       "      <td>216008</td>\n",
       "      <td>11</td>\n",
       "      <td>22</td>\n",
       "      <td>1</td>\n",
       "      <td>1</td>\n",
       "      <td>31.882032</td>\n",
       "      <td>0.403211</td>\n",
       "      <td>39761.117188</td>\n",
       "      <td>-0.001891</td>\n",
       "      <td>-0.001891</td>\n",
       "      <td>...</td>\n",
       "      <td>0.000296</td>\n",
       "      <td>1.008108</td>\n",
       "      <td>-0.014281</td>\n",
       "      <td>0.001685</td>\n",
       "      <td>0.095896</td>\n",
       "      <td>-0.041915</td>\n",
       "      <td>-0.012443</td>\n",
       "      <td>mc23a.PhPy8EG_NNPDF23_A14_ggH125_yys_ME002.root</td>\n",
       "      <td>1.0</td>\n",
       "      <td>a</td>\n",
       "    </tr>\n",
       "    <tr>\n",
       "      <th>4</th>\n",
       "      <td>216017</td>\n",
       "      <td>11</td>\n",
       "      <td>22</td>\n",
       "      <td>1</td>\n",
       "      <td>1</td>\n",
       "      <td>63.155869</td>\n",
       "      <td>-0.323868</td>\n",
       "      <td>65556.718750</td>\n",
       "      <td>-0.000308</td>\n",
       "      <td>-0.000308</td>\n",
       "      <td>...</td>\n",
       "      <td>-0.000544</td>\n",
       "      <td>1.066187</td>\n",
       "      <td>-0.006264</td>\n",
       "      <td>-0.001361</td>\n",
       "      <td>0.078125</td>\n",
       "      <td>0.060672</td>\n",
       "      <td>-0.109327</td>\n",
       "      <td>mc23a.PhPy8EG_NNPDF23_A14_ggH125_yys_ME002.root</td>\n",
       "      <td>1.0</td>\n",
       "      <td>a</td>\n",
       "    </tr>\n",
       "    <tr>\n",
       "      <th>...</th>\n",
       "      <td>...</td>\n",
       "      <td>...</td>\n",
       "      <td>...</td>\n",
       "      <td>...</td>\n",
       "      <td>...</td>\n",
       "      <td>...</td>\n",
       "      <td>...</td>\n",
       "      <td>...</td>\n",
       "      <td>...</td>\n",
       "      <td>...</td>\n",
       "      <td>...</td>\n",
       "      <td>...</td>\n",
       "      <td>...</td>\n",
       "      <td>...</td>\n",
       "      <td>...</td>\n",
       "      <td>...</td>\n",
       "      <td>...</td>\n",
       "      <td>...</td>\n",
       "      <td>...</td>\n",
       "      <td>...</td>\n",
       "      <td>...</td>\n",
       "    </tr>\n",
       "    <tr>\n",
       "      <th>825397</th>\n",
       "      <td>869963</td>\n",
       "      <td>-11</td>\n",
       "      <td>22</td>\n",
       "      <td>1</td>\n",
       "      <td>0</td>\n",
       "      <td>33.446518</td>\n",
       "      <td>-1.685298</td>\n",
       "      <td>84792.203125</td>\n",
       "      <td>0.007286</td>\n",
       "      <td>0.007286</td>\n",
       "      <td>...</td>\n",
       "      <td>0.001357</td>\n",
       "      <td>3.391522</td>\n",
       "      <td>0.016002</td>\n",
       "      <td>-0.002204</td>\n",
       "      <td>0.201493</td>\n",
       "      <td>0.127099</td>\n",
       "      <td>-0.205490</td>\n",
       "      <td>mc23e.PhPy8EG_NNPDF23_A14_VBFH125_yys_ME002.root</td>\n",
       "      <td>1.0</td>\n",
       "      <td>e</td>\n",
       "    </tr>\n",
       "    <tr>\n",
       "      <th>825398</th>\n",
       "      <td>869988</td>\n",
       "      <td>11</td>\n",
       "      <td>22</td>\n",
       "      <td>1</td>\n",
       "      <td>1</td>\n",
       "      <td>260.735870</td>\n",
       "      <td>0.965048</td>\n",
       "      <td>393299.843750</td>\n",
       "      <td>-0.000965</td>\n",
       "      <td>-0.000577</td>\n",
       "      <td>...</td>\n",
       "      <td>0.000274</td>\n",
       "      <td>1.154701</td>\n",
       "      <td>-0.001492</td>\n",
       "      <td>0.001359</td>\n",
       "      <td>0.001221</td>\n",
       "      <td>-0.065599</td>\n",
       "      <td>-0.288971</td>\n",
       "      <td>mc23e.PhPy8EG_NNPDF23_A14_VBFH125_yys_ME002.root</td>\n",
       "      <td>1.0</td>\n",
       "      <td>e</td>\n",
       "    </tr>\n",
       "    <tr>\n",
       "      <th>825399</th>\n",
       "      <td>869982</td>\n",
       "      <td>11</td>\n",
       "      <td>11</td>\n",
       "      <td>1</td>\n",
       "      <td>1</td>\n",
       "      <td>33.056156</td>\n",
       "      <td>1.306312</td>\n",
       "      <td>83042.156250</td>\n",
       "      <td>0.008448</td>\n",
       "      <td>0.009195</td>\n",
       "      <td>...</td>\n",
       "      <td>-0.000106</td>\n",
       "      <td>0.829321</td>\n",
       "      <td>-0.013491</td>\n",
       "      <td>-0.001390</td>\n",
       "      <td>0.204519</td>\n",
       "      <td>0.207857</td>\n",
       "      <td>0.260756</td>\n",
       "      <td>mc23e.PhPy8EG_NNPDF23_A14_VBFH125_yys_ME002.root</td>\n",
       "      <td>1.0</td>\n",
       "      <td>e</td>\n",
       "    </tr>\n",
       "    <tr>\n",
       "      <th>825400</th>\n",
       "      <td>869973</td>\n",
       "      <td>11</td>\n",
       "      <td>22</td>\n",
       "      <td>1</td>\n",
       "      <td>1</td>\n",
       "      <td>50.310238</td>\n",
       "      <td>-1.741402</td>\n",
       "      <td>157028.468750</td>\n",
       "      <td>-0.008671</td>\n",
       "      <td>-0.008671</td>\n",
       "      <td>...</td>\n",
       "      <td>0.000232</td>\n",
       "      <td>2.030109</td>\n",
       "      <td>-0.002206</td>\n",
       "      <td>0.000388</td>\n",
       "      <td>0.043613</td>\n",
       "      <td>0.080140</td>\n",
       "      <td>0.187978</td>\n",
       "      <td>mc23e.PhPy8EG_NNPDF23_A14_VBFH125_yys_ME002.root</td>\n",
       "      <td>1.0</td>\n",
       "      <td>e</td>\n",
       "    </tr>\n",
       "    <tr>\n",
       "      <th>825401</th>\n",
       "      <td>869995</td>\n",
       "      <td>-11</td>\n",
       "      <td>22</td>\n",
       "      <td>1</td>\n",
       "      <td>1</td>\n",
       "      <td>116.906113</td>\n",
       "      <td>1.572046</td>\n",
       "      <td>283632.375000</td>\n",
       "      <td>-0.001163</td>\n",
       "      <td>-0.001163</td>\n",
       "      <td>...</td>\n",
       "      <td>0.000317</td>\n",
       "      <td>1.407873</td>\n",
       "      <td>0.001380</td>\n",
       "      <td>0.001097</td>\n",
       "      <td>0.105444</td>\n",
       "      <td>0.210295</td>\n",
       "      <td>0.714441</td>\n",
       "      <td>mc23e.PhPy8EG_NNPDF23_A14_VBFH125_yys_ME002.root</td>\n",
       "      <td>1.0</td>\n",
       "      <td>e</td>\n",
       "    </tr>\n",
       "  </tbody>\n",
       "</table>\n",
       "<p>825402 rows × 27 columns</p>\n",
       "</div>"
      ],
      "text/plain": [
       "        eventNumber  pdgId  parentPdgId  isLoose  isTight          pt  \\\n",
       "0            216028     11           11        1        0   69.194923   \n",
       "1            216005    -11          -11        1        0   59.034683   \n",
       "2            216040     11           22        1        1   72.487686   \n",
       "3            216008     11           22        1        1   31.882032   \n",
       "4            216017     11           22        1        1   63.155869   \n",
       "...             ...    ...          ...      ...      ...         ...   \n",
       "825397       869963    -11           22        1        0   33.446518   \n",
       "825398       869988     11           22        1        1  260.735870   \n",
       "825399       869982     11           11        1        1   33.056156   \n",
       "825400       869973     11           22        1        1   50.310238   \n",
       "825401       869995    -11           22        1        1  116.906113   \n",
       "\n",
       "             eta         true_E      Rhad     Rhad1  ...  trk_dEta1    EoverP  \\\n",
       "0       0.243375   69884.984375 -0.000153 -0.000153  ...   0.003101  1.181469   \n",
       "1       0.146982   66662.125000 -0.005290 -0.005290  ...  -0.000149  0.993656   \n",
       "2       0.485934   81926.343750 -0.000508 -0.000508  ...   0.000016  1.128548   \n",
       "3       0.403211   39761.117188 -0.001891 -0.001891  ...   0.000296  1.008108   \n",
       "4      -0.323868   65556.718750 -0.000308 -0.000308  ...  -0.000544  1.066187   \n",
       "...          ...            ...       ...       ...  ...        ...       ...   \n",
       "825397 -1.685298   84792.203125  0.007286  0.007286  ...   0.001357  3.391522   \n",
       "825398  0.965048  393299.843750 -0.000965 -0.000577  ...   0.000274  1.154701   \n",
       "825399  1.306312   83042.156250  0.008448  0.009195  ...  -0.000106  0.829321   \n",
       "825400 -1.741402  157028.468750 -0.008671 -0.008671  ...   0.000232  2.030109   \n",
       "825401  1.572046  283632.375000 -0.001163 -0.001163  ...   0.000317  1.407873   \n",
       "\n",
       "        vtx_dphi  vtx_deta  vtx_deltaZ0  trk_TRT_PID1  trk_TRT_PID2  \\\n",
       "0       0.000508  0.003027     0.189831     -0.027880     -0.006519   \n",
       "1       0.002240 -0.008324     0.101280      0.003245      0.103180   \n",
       "2      -0.004982 -0.001126     0.028361      0.011771      0.005606   \n",
       "3      -0.014281  0.001685     0.095896     -0.041915     -0.012443   \n",
       "4      -0.006264 -0.001361     0.078125      0.060672     -0.109327   \n",
       "...          ...       ...          ...           ...           ...   \n",
       "825397  0.016002 -0.002204     0.201493      0.127099     -0.205490   \n",
       "825398 -0.001492  0.001359     0.001221     -0.065599     -0.288971   \n",
       "825399 -0.013491 -0.001390     0.204519      0.207857      0.260756   \n",
       "825400 -0.002206  0.000388     0.043613      0.080140      0.187978   \n",
       "825401  0.001380  0.001097     0.105444      0.210295      0.714441   \n",
       "\n",
       "                                         file_name_label  truth_label  \\\n",
       "0        mc23a.PhPy8EG_NNPDF23_A14_ggH125_yys_ME002.root          1.0   \n",
       "1        mc23a.PhPy8EG_NNPDF23_A14_ggH125_yys_ME002.root          1.0   \n",
       "2        mc23a.PhPy8EG_NNPDF23_A14_ggH125_yys_ME002.root          1.0   \n",
       "3        mc23a.PhPy8EG_NNPDF23_A14_ggH125_yys_ME002.root          1.0   \n",
       "4        mc23a.PhPy8EG_NNPDF23_A14_ggH125_yys_ME002.root          1.0   \n",
       "...                                                  ...          ...   \n",
       "825397  mc23e.PhPy8EG_NNPDF23_A14_VBFH125_yys_ME002.root          1.0   \n",
       "825398  mc23e.PhPy8EG_NNPDF23_A14_VBFH125_yys_ME002.root          1.0   \n",
       "825399  mc23e.PhPy8EG_NNPDF23_A14_VBFH125_yys_ME002.root          1.0   \n",
       "825400  mc23e.PhPy8EG_NNPDF23_A14_VBFH125_yys_ME002.root          1.0   \n",
       "825401  mc23e.PhPy8EG_NNPDF23_A14_VBFH125_yys_ME002.root          1.0   \n",
       "\n",
       "        version_label  \n",
       "0                   a  \n",
       "1                   a  \n",
       "2                   a  \n",
       "3                   a  \n",
       "4                   a  \n",
       "...               ...  \n",
       "825397              e  \n",
       "825398              e  \n",
       "825399              e  \n",
       "825400              e  \n",
       "825401              e  \n",
       "\n",
       "[825402 rows x 27 columns]"
      ]
     },
     "execution_count": 8,
     "metadata": {},
     "output_type": "execute_result"
    }
   ],
   "source": [
    "# step 2\n",
    "\n",
    "#define total data frame\n",
    "totald = pd.DataFrame()\n",
    "count = 0\n",
    "\n",
    "for file_name in signal_file_names:\n",
    "    tempf = uproot.open(\n",
    "        \"/storage_tmp/atlas/lnasella/yystar/MergedElectronID\"+\n",
    "        \"/Run3/Ntuples/yys_ME002/signal/\"+ file_name)\n",
    "    tempf.keys()\n",
    "    tempt = tempf[\"MergedElectron\"]\n",
    "    tempd = tempt.arrays(variables, library=\"pd\")\n",
    "    \n",
    "    # step 3\n",
    "    # lables for signal\n",
    "    tempd[\"file_name_label\"] = file_name\n",
    "    tempd[\"truth_label\"] = 1.\n",
    "    \n",
    "    # additional labels to distinguish every signal file\n",
    "    # version of file\n",
    "    if \"mc23a\" in file_name:\n",
    "        tempd[\"version_label\"] = \"a\"\n",
    "    elif \"mc23d\" in file_name:\n",
    "        tempd[\"version_label\"] = \"d\"\n",
    "    else: tempd[\"version_label\"] = \"e\"\n",
    "    \n",
    "    print(\"File #\" + str(count) + \": \" + file_name) \n",
    "    count += 1\n",
    "    \n",
    "    # selection on signal\n",
    "    tempd = tempd[ (tempd[\"true_E\"]!=-999) & (tempd[\"isLoose\"]==True)]\n",
    "    \n",
    "    # concatenate with totald\n",
    "    #pd.concat([totald, sd], ignore_index=True)\n",
    "    totald = pd.concat([totald, tempd], axis=0, ignore_index=True)\n",
    "\n",
    "print(\"Signal events:\")\n",
    "totald\n",
    "    "
   ]
  },
  {
   "cell_type": "code",
   "execution_count": 9,
   "metadata": {},
   "outputs": [
    {
     "name": "stdout",
     "output_type": "stream",
     "text": [
      "['mc23a.Py8EG_A14NNPDF23LO_perf_JF17.root', 'mc23a.Py8EG_A14NNPDF23LO_perf_JF35.root', 'mc23a.Py8EG_A14NNPDF23LO_perf_JF50.root', 'mc23d.Py8EG_A14NNPDF23LO_perf_JF17.root', 'mc23d.Py8EG_A14NNPDF23LO_perf_JF35.root', 'mc23d.Py8EG_A14NNPDF23LO_perf_JF50.root', 'mc23e.Py8EG_A14NNPDF23LO_perf_JF17.root', 'mc23e.Py8EG_A14NNPDF23LO_perf_JF50.root']\n"
     ]
    }
   ],
   "source": [
    "# read data from background files\n",
    "\n",
    "bkg_file_names = os.listdir(\"/storage_tmp/atlas/lnasella/yystar/MergedElectronID\"+\n",
    "                    \"/Run3/Ntuples/yys_ME002/bkg\")\n",
    "\n",
    "print(bkg_file_names)"
   ]
  },
  {
   "cell_type": "code",
   "execution_count": 10,
   "metadata": {},
   "outputs": [
    {
     "name": "stdout",
     "output_type": "stream",
     "text": [
      "Total events:\n"
     ]
    },
    {
     "data": {
      "text/html": [
       "<div>\n",
       "<style scoped>\n",
       "    .dataframe tbody tr th:only-of-type {\n",
       "        vertical-align: middle;\n",
       "    }\n",
       "\n",
       "    .dataframe tbody tr th {\n",
       "        vertical-align: top;\n",
       "    }\n",
       "\n",
       "    .dataframe thead th {\n",
       "        text-align: right;\n",
       "    }\n",
       "</style>\n",
       "<table border=\"1\" class=\"dataframe\">\n",
       "  <thead>\n",
       "    <tr style=\"text-align: right;\">\n",
       "      <th></th>\n",
       "      <th>eventNumber</th>\n",
       "      <th>pdgId</th>\n",
       "      <th>parentPdgId</th>\n",
       "      <th>isLoose</th>\n",
       "      <th>isTight</th>\n",
       "      <th>pt</th>\n",
       "      <th>eta</th>\n",
       "      <th>true_E</th>\n",
       "      <th>Rhad</th>\n",
       "      <th>Rhad1</th>\n",
       "      <th>...</th>\n",
       "      <th>EoverP</th>\n",
       "      <th>vtx_dphi</th>\n",
       "      <th>vtx_deta</th>\n",
       "      <th>vtx_deltaZ0</th>\n",
       "      <th>trk_TRT_PID1</th>\n",
       "      <th>trk_TRT_PID2</th>\n",
       "      <th>file_name_label</th>\n",
       "      <th>truth_label</th>\n",
       "      <th>version_label</th>\n",
       "      <th>jf_label</th>\n",
       "    </tr>\n",
       "  </thead>\n",
       "  <tbody>\n",
       "    <tr>\n",
       "      <th>0</th>\n",
       "      <td>216028</td>\n",
       "      <td>11</td>\n",
       "      <td>11</td>\n",
       "      <td>1</td>\n",
       "      <td>0</td>\n",
       "      <td>69.194923</td>\n",
       "      <td>0.243375</td>\n",
       "      <td>69884.984375</td>\n",
       "      <td>-0.000153</td>\n",
       "      <td>-0.000153</td>\n",
       "      <td>...</td>\n",
       "      <td>1.181469</td>\n",
       "      <td>0.000508</td>\n",
       "      <td>0.003027</td>\n",
       "      <td>0.189831</td>\n",
       "      <td>-0.027880</td>\n",
       "      <td>-0.006519</td>\n",
       "      <td>mc23a.PhPy8EG_NNPDF23_A14_ggH125_yys_ME002.root</td>\n",
       "      <td>1.0</td>\n",
       "      <td>a</td>\n",
       "      <td>NaN</td>\n",
       "    </tr>\n",
       "    <tr>\n",
       "      <th>1</th>\n",
       "      <td>216005</td>\n",
       "      <td>-11</td>\n",
       "      <td>-11</td>\n",
       "      <td>1</td>\n",
       "      <td>0</td>\n",
       "      <td>59.034683</td>\n",
       "      <td>0.146982</td>\n",
       "      <td>66662.125000</td>\n",
       "      <td>-0.005290</td>\n",
       "      <td>-0.005290</td>\n",
       "      <td>...</td>\n",
       "      <td>0.993656</td>\n",
       "      <td>0.002240</td>\n",
       "      <td>-0.008324</td>\n",
       "      <td>0.101280</td>\n",
       "      <td>0.003245</td>\n",
       "      <td>0.103180</td>\n",
       "      <td>mc23a.PhPy8EG_NNPDF23_A14_ggH125_yys_ME002.root</td>\n",
       "      <td>1.0</td>\n",
       "      <td>a</td>\n",
       "      <td>NaN</td>\n",
       "    </tr>\n",
       "    <tr>\n",
       "      <th>2</th>\n",
       "      <td>216040</td>\n",
       "      <td>11</td>\n",
       "      <td>22</td>\n",
       "      <td>1</td>\n",
       "      <td>1</td>\n",
       "      <td>72.487686</td>\n",
       "      <td>0.485934</td>\n",
       "      <td>81926.343750</td>\n",
       "      <td>-0.000508</td>\n",
       "      <td>-0.000508</td>\n",
       "      <td>...</td>\n",
       "      <td>1.128548</td>\n",
       "      <td>-0.004982</td>\n",
       "      <td>-0.001126</td>\n",
       "      <td>0.028361</td>\n",
       "      <td>0.011771</td>\n",
       "      <td>0.005606</td>\n",
       "      <td>mc23a.PhPy8EG_NNPDF23_A14_ggH125_yys_ME002.root</td>\n",
       "      <td>1.0</td>\n",
       "      <td>a</td>\n",
       "      <td>NaN</td>\n",
       "    </tr>\n",
       "    <tr>\n",
       "      <th>3</th>\n",
       "      <td>216008</td>\n",
       "      <td>11</td>\n",
       "      <td>22</td>\n",
       "      <td>1</td>\n",
       "      <td>1</td>\n",
       "      <td>31.882032</td>\n",
       "      <td>0.403211</td>\n",
       "      <td>39761.117188</td>\n",
       "      <td>-0.001891</td>\n",
       "      <td>-0.001891</td>\n",
       "      <td>...</td>\n",
       "      <td>1.008108</td>\n",
       "      <td>-0.014281</td>\n",
       "      <td>0.001685</td>\n",
       "      <td>0.095896</td>\n",
       "      <td>-0.041915</td>\n",
       "      <td>-0.012443</td>\n",
       "      <td>mc23a.PhPy8EG_NNPDF23_A14_ggH125_yys_ME002.root</td>\n",
       "      <td>1.0</td>\n",
       "      <td>a</td>\n",
       "      <td>NaN</td>\n",
       "    </tr>\n",
       "    <tr>\n",
       "      <th>4</th>\n",
       "      <td>216017</td>\n",
       "      <td>11</td>\n",
       "      <td>22</td>\n",
       "      <td>1</td>\n",
       "      <td>1</td>\n",
       "      <td>63.155869</td>\n",
       "      <td>-0.323868</td>\n",
       "      <td>65556.718750</td>\n",
       "      <td>-0.000308</td>\n",
       "      <td>-0.000308</td>\n",
       "      <td>...</td>\n",
       "      <td>1.066187</td>\n",
       "      <td>-0.006264</td>\n",
       "      <td>-0.001361</td>\n",
       "      <td>0.078125</td>\n",
       "      <td>0.060672</td>\n",
       "      <td>-0.109327</td>\n",
       "      <td>mc23a.PhPy8EG_NNPDF23_A14_ggH125_yys_ME002.root</td>\n",
       "      <td>1.0</td>\n",
       "      <td>a</td>\n",
       "      <td>NaN</td>\n",
       "    </tr>\n",
       "    <tr>\n",
       "      <th>...</th>\n",
       "      <td>...</td>\n",
       "      <td>...</td>\n",
       "      <td>...</td>\n",
       "      <td>...</td>\n",
       "      <td>...</td>\n",
       "      <td>...</td>\n",
       "      <td>...</td>\n",
       "      <td>...</td>\n",
       "      <td>...</td>\n",
       "      <td>...</td>\n",
       "      <td>...</td>\n",
       "      <td>...</td>\n",
       "      <td>...</td>\n",
       "      <td>...</td>\n",
       "      <td>...</td>\n",
       "      <td>...</td>\n",
       "      <td>...</td>\n",
       "      <td>...</td>\n",
       "      <td>...</td>\n",
       "      <td>...</td>\n",
       "      <td>...</td>\n",
       "    </tr>\n",
       "    <tr>\n",
       "      <th>6959476</th>\n",
       "      <td>222543354</td>\n",
       "      <td>-211</td>\n",
       "      <td>-323</td>\n",
       "      <td>0</td>\n",
       "      <td>0</td>\n",
       "      <td>92.025726</td>\n",
       "      <td>-0.256072</td>\n",
       "      <td>-999.000000</td>\n",
       "      <td>0.009986</td>\n",
       "      <td>0.009986</td>\n",
       "      <td>...</td>\n",
       "      <td>8.400491</td>\n",
       "      <td>0.046266</td>\n",
       "      <td>-0.012411</td>\n",
       "      <td>1.595142</td>\n",
       "      <td>0.003492</td>\n",
       "      <td>0.001162</td>\n",
       "      <td>mc23e.Py8EG_A14NNPDF23LO_perf_JF50.root</td>\n",
       "      <td>0.0</td>\n",
       "      <td>e</td>\n",
       "      <td>50.0</td>\n",
       "    </tr>\n",
       "    <tr>\n",
       "      <th>6959477</th>\n",
       "      <td>222543613</td>\n",
       "      <td>211</td>\n",
       "      <td>221</td>\n",
       "      <td>0</td>\n",
       "      <td>0</td>\n",
       "      <td>44.111832</td>\n",
       "      <td>-0.777917</td>\n",
       "      <td>-999.000000</td>\n",
       "      <td>0.042303</td>\n",
       "      <td>0.042303</td>\n",
       "      <td>...</td>\n",
       "      <td>4.383042</td>\n",
       "      <td>0.037214</td>\n",
       "      <td>-0.022534</td>\n",
       "      <td>0.190092</td>\n",
       "      <td>-0.013276</td>\n",
       "      <td>-0.034302</td>\n",
       "      <td>mc23e.Py8EG_A14NNPDF23LO_perf_JF50.root</td>\n",
       "      <td>0.0</td>\n",
       "      <td>e</td>\n",
       "      <td>50.0</td>\n",
       "    </tr>\n",
       "    <tr>\n",
       "      <th>6959478</th>\n",
       "      <td>222543545</td>\n",
       "      <td>-321</td>\n",
       "      <td>-323</td>\n",
       "      <td>0</td>\n",
       "      <td>0</td>\n",
       "      <td>28.396282</td>\n",
       "      <td>1.857466</td>\n",
       "      <td>-999.000000</td>\n",
       "      <td>0.787051</td>\n",
       "      <td>0.787051</td>\n",
       "      <td>...</td>\n",
       "      <td>0.417059</td>\n",
       "      <td>-0.009794</td>\n",
       "      <td>-0.008651</td>\n",
       "      <td>0.180428</td>\n",
       "      <td>0.017556</td>\n",
       "      <td>-0.239939</td>\n",
       "      <td>mc23e.Py8EG_A14NNPDF23LO_perf_JF50.root</td>\n",
       "      <td>0.0</td>\n",
       "      <td>e</td>\n",
       "      <td>50.0</td>\n",
       "    </tr>\n",
       "    <tr>\n",
       "      <th>6959479</th>\n",
       "      <td>222543728</td>\n",
       "      <td>211</td>\n",
       "      <td>-2</td>\n",
       "      <td>0</td>\n",
       "      <td>0</td>\n",
       "      <td>89.160271</td>\n",
       "      <td>-0.016638</td>\n",
       "      <td>-999.000000</td>\n",
       "      <td>0.019911</td>\n",
       "      <td>0.019911</td>\n",
       "      <td>...</td>\n",
       "      <td>4.933577</td>\n",
       "      <td>0.041392</td>\n",
       "      <td>-0.025290</td>\n",
       "      <td>0.045811</td>\n",
       "      <td>-0.023728</td>\n",
       "      <td>-0.020495</td>\n",
       "      <td>mc23e.Py8EG_A14NNPDF23LO_perf_JF50.root</td>\n",
       "      <td>0.0</td>\n",
       "      <td>e</td>\n",
       "      <td>50.0</td>\n",
       "    </tr>\n",
       "    <tr>\n",
       "      <th>6959480</th>\n",
       "      <td>222543989</td>\n",
       "      <td>-211</td>\n",
       "      <td>2</td>\n",
       "      <td>0</td>\n",
       "      <td>0</td>\n",
       "      <td>32.300037</td>\n",
       "      <td>-1.792377</td>\n",
       "      <td>-999.000000</td>\n",
       "      <td>0.323191</td>\n",
       "      <td>0.323191</td>\n",
       "      <td>...</td>\n",
       "      <td>1.022257</td>\n",
       "      <td>0.002375</td>\n",
       "      <td>0.036554</td>\n",
       "      <td>5.733376</td>\n",
       "      <td>0.065902</td>\n",
       "      <td>0.231816</td>\n",
       "      <td>mc23e.Py8EG_A14NNPDF23LO_perf_JF50.root</td>\n",
       "      <td>0.0</td>\n",
       "      <td>e</td>\n",
       "      <td>50.0</td>\n",
       "    </tr>\n",
       "  </tbody>\n",
       "</table>\n",
       "<p>6959481 rows × 28 columns</p>\n",
       "</div>"
      ],
      "text/plain": [
       "         eventNumber  pdgId  parentPdgId  isLoose  isTight         pt  \\\n",
       "0             216028     11           11        1        0  69.194923   \n",
       "1             216005    -11          -11        1        0  59.034683   \n",
       "2             216040     11           22        1        1  72.487686   \n",
       "3             216008     11           22        1        1  31.882032   \n",
       "4             216017     11           22        1        1  63.155869   \n",
       "...              ...    ...          ...      ...      ...        ...   \n",
       "6959476    222543354   -211         -323        0        0  92.025726   \n",
       "6959477    222543613    211          221        0        0  44.111832   \n",
       "6959478    222543545   -321         -323        0        0  28.396282   \n",
       "6959479    222543728    211           -2        0        0  89.160271   \n",
       "6959480    222543989   -211            2        0        0  32.300037   \n",
       "\n",
       "              eta        true_E      Rhad     Rhad1  ...    EoverP  vtx_dphi  \\\n",
       "0        0.243375  69884.984375 -0.000153 -0.000153  ...  1.181469  0.000508   \n",
       "1        0.146982  66662.125000 -0.005290 -0.005290  ...  0.993656  0.002240   \n",
       "2        0.485934  81926.343750 -0.000508 -0.000508  ...  1.128548 -0.004982   \n",
       "3        0.403211  39761.117188 -0.001891 -0.001891  ...  1.008108 -0.014281   \n",
       "4       -0.323868  65556.718750 -0.000308 -0.000308  ...  1.066187 -0.006264   \n",
       "...           ...           ...       ...       ...  ...       ...       ...   \n",
       "6959476 -0.256072   -999.000000  0.009986  0.009986  ...  8.400491  0.046266   \n",
       "6959477 -0.777917   -999.000000  0.042303  0.042303  ...  4.383042  0.037214   \n",
       "6959478  1.857466   -999.000000  0.787051  0.787051  ...  0.417059 -0.009794   \n",
       "6959479 -0.016638   -999.000000  0.019911  0.019911  ...  4.933577  0.041392   \n",
       "6959480 -1.792377   -999.000000  0.323191  0.323191  ...  1.022257  0.002375   \n",
       "\n",
       "         vtx_deta  vtx_deltaZ0  trk_TRT_PID1  trk_TRT_PID2  \\\n",
       "0        0.003027     0.189831     -0.027880     -0.006519   \n",
       "1       -0.008324     0.101280      0.003245      0.103180   \n",
       "2       -0.001126     0.028361      0.011771      0.005606   \n",
       "3        0.001685     0.095896     -0.041915     -0.012443   \n",
       "4       -0.001361     0.078125      0.060672     -0.109327   \n",
       "...           ...          ...           ...           ...   \n",
       "6959476 -0.012411     1.595142      0.003492      0.001162   \n",
       "6959477 -0.022534     0.190092     -0.013276     -0.034302   \n",
       "6959478 -0.008651     0.180428      0.017556     -0.239939   \n",
       "6959479 -0.025290     0.045811     -0.023728     -0.020495   \n",
       "6959480  0.036554     5.733376      0.065902      0.231816   \n",
       "\n",
       "                                         file_name_label  truth_label  \\\n",
       "0        mc23a.PhPy8EG_NNPDF23_A14_ggH125_yys_ME002.root          1.0   \n",
       "1        mc23a.PhPy8EG_NNPDF23_A14_ggH125_yys_ME002.root          1.0   \n",
       "2        mc23a.PhPy8EG_NNPDF23_A14_ggH125_yys_ME002.root          1.0   \n",
       "3        mc23a.PhPy8EG_NNPDF23_A14_ggH125_yys_ME002.root          1.0   \n",
       "4        mc23a.PhPy8EG_NNPDF23_A14_ggH125_yys_ME002.root          1.0   \n",
       "...                                                  ...          ...   \n",
       "6959476          mc23e.Py8EG_A14NNPDF23LO_perf_JF50.root          0.0   \n",
       "6959477          mc23e.Py8EG_A14NNPDF23LO_perf_JF50.root          0.0   \n",
       "6959478          mc23e.Py8EG_A14NNPDF23LO_perf_JF50.root          0.0   \n",
       "6959479          mc23e.Py8EG_A14NNPDF23LO_perf_JF50.root          0.0   \n",
       "6959480          mc23e.Py8EG_A14NNPDF23LO_perf_JF50.root          0.0   \n",
       "\n",
       "         version_label  jf_label  \n",
       "0                    a       NaN  \n",
       "1                    a       NaN  \n",
       "2                    a       NaN  \n",
       "3                    a       NaN  \n",
       "4                    a       NaN  \n",
       "...                ...       ...  \n",
       "6959476              e      50.0  \n",
       "6959477              e      50.0  \n",
       "6959478              e      50.0  \n",
       "6959479              e      50.0  \n",
       "6959480              e      50.0  \n",
       "\n",
       "[6959481 rows x 28 columns]"
      ]
     },
     "execution_count": 10,
     "metadata": {},
     "output_type": "execute_result"
    }
   ],
   "source": [
    "for file_name in bkg_file_names:\n",
    "    tempf = uproot.open(\n",
    "        \"/storage_tmp/atlas/lnasella/yystar/MergedElectronID\"+\n",
    "        \"/Run3/Ntuples/yys_ME002/bkg/\"+ file_name)\n",
    "    tempf.keys()\n",
    "    tempt = tempf[\"MergedElectron\"]\n",
    "    tempd = tempt.arrays(variables, library=\"pd\")\n",
    "    \n",
    "    # step 3\n",
    "    # lables for bkg\n",
    "    tempd[\"file_name_label\"] = file_name\n",
    "    tempd[\"truth_label\"] = 0.\n",
    "\n",
    "    # additional labels to distinguish every background file\n",
    "    # version of file\n",
    "    if \"mc23a\" in file_name:\n",
    "        tempd[\"version_label\"] = \"a\"\n",
    "    elif \"mc23d\" in file_name:\n",
    "        tempd[\"version_label\"] = \"d\"\n",
    "    else: tempd[\"version_label\"] = \"e\"\n",
    "    \n",
    "    # threshold on jet filter\n",
    "    if \"JF17\" in file_name:\n",
    "        tempd[\"jf_label\"] = 17.\n",
    "    elif \"JF35\" in file_name:\n",
    "        tempd[\"jf_label\"] = 35.\n",
    "    else: tempd[\"jf_label\"] = 50.\n",
    "    \n",
    "    # concatenate with totald\n",
    "    #pd.concat([totald, sd], ignore_index=True)\n",
    "    totald = pd.concat([totald, tempd], axis=0, ignore_index=True)\n",
    "\n",
    "print(\"Total events:\")\n",
    "totald"
   ]
  },
  {
   "cell_type": "code",
   "execution_count": 11,
   "metadata": {
    "scrolled": true
   },
   "outputs": [
    {
     "data": {
      "text/plain": [
       "[Text(0.5, 0, 'eta')]"
      ]
     },
     "execution_count": 11,
     "metadata": {},
     "output_type": "execute_result"
    },
    {
     "data": {
      "image/png": "[encoded data removed]",
      "text/plain": [
       "<Figure size 432x288 with 2 Axes>"
      ]
     },
     "metadata": {
      "needs_background": "light"
     },
     "output_type": "display_data"
    }
   ],
   "source": [
    "# plot of signal + bkg\n",
    "# start with pt and eta\n",
    "plt.figure()\n",
    "plt.subplot(121)\n",
    "totald[ (totald[\"pt\"]<300) & (totald[\"truth_label\"]==0)][\"pt\"].plot.hist(bins=100,alpha=0.5,density='true',label='Background',legend='true')\n",
    "totald[ (totald[\"pt\"]<300) & (totald[\"truth_label\"]==1)][\"pt\"].plot.hist(bins=100,alpha=0.5,density='true',label='Signal',legend='true')\n",
    "plt.gca().set(xlabel=\"pt\")\n",
    "plt.subplot(122)\n",
    "totald[ (totald[\"pt\"]<300) & (totald[\"truth_label\"]==0)][\"eta\"].plot.hist(bins=100,alpha=0.5,density='true',label='Background',legend='true')\n",
    "totald[ (totald[\"pt\"]<300) & (totald[\"truth_label\"]==1)][\"eta\"].plot.hist(bins=100,alpha=0.5,density='true',label='Signal',legend='true')\n",
    "plt.gca().set(xlabel=\"eta\")\n"
   ]
  },
  {
   "cell_type": "code",
   "execution_count": 12,
   "metadata": {},
   "outputs": [
    {
     "name": "stdout",
     "output_type": "stream",
     "text": [
      "['pt', 'eta', 'true_E', 'Rhad', 'Rhad1', 'Reta', 'Rphi', 'Eratio', 'DeltaE', 'f3', 'wEta2', 'wTotS1', 'trk_dEta1', 'EoverP', 'vtx_dphi', 'vtx_deta', 'vtx_deltaZ0', 'trk_TRT_PID1', 'trk_TRT_PID2']\n"
     ]
    }
   ],
   "source": [
    "print(discriminating_variables)"
   ]
  },
  {
   "cell_type": "code",
   "execution_count": 13,
   "metadata": {},
   "outputs": [
    {
     "name": "stderr",
     "output_type": "stream",
     "text": [
      "/cvmfs/sft.cern.ch/lcg/views/LCG_103/x86_64-centos7-gcc11-opt/lib/python3.9/site-packages/numpy/lib/histograms.py:906: RuntimeWarning: invalid value encountered in true_divide\n",
      "  return n/db/n.sum(), bin_edges\n",
      "/cvmfs/sft.cern.ch/lcg/views/LCG_103/x86_64-centos7-gcc11-opt/lib/python3.9/site-packages/numpy/lib/histograms.py:906: RuntimeWarning: invalid value encountered in true_divide\n",
      "  return n/db/n.sum(), bin_edges\n"
     ]
    },
    {
     "data": {
      "image/png": "[encoded data removed]",
      "text/plain": [
       "<Figure size 432x288 with 1 Axes>"
      ]
     },
     "metadata": {
      "needs_background": "light"
     },
     "output_type": "display_data"
    },
    {
     "data": {
      "image/png": "[encoded data removed]",
      "text/plain": [
       "<Figure size 432x288 with 1 Axes>"
      ]
     },
     "metadata": {
      "needs_background": "light"
     },
     "output_type": "display_data"
    },
    {
     "data": {
      "image/png": "[encoded data removed]",
      "text/plain": [
       "<Figure size 432x288 with 1 Axes>"
      ]
     },
     "metadata": {
      "needs_background": "light"
     },
     "output_type": "display_data"
    },
    {
     "data": {
      "image/png": "[encoded data removed]",
      "text/plain": [
       "<Figure size 432x288 with 1 Axes>"
      ]
     },
     "metadata": {
      "needs_background": "light"
     },
     "output_type": "display_data"
    },
    {
     "data": {
      "image/png": "[encoded data removed]",
      "text/plain": [
       "<Figure size 432x288 with 1 Axes>"
      ]
     },
     "metadata": {
      "needs_background": "light"
     },
     "output_type": "display_data"
    },
    {
     "data": {
      "image/png": "[encoded data removed]",
      "text/plain": [
       "<Figure size 432x288 with 1 Axes>"
      ]
     },
     "metadata": {
      "needs_background": "light"
     },
     "output_type": "display_data"
    },
    {
     "data": {
      "image/png": "[encoded data removed]",
      "text/plain": [
       "<Figure size 432x288 with 1 Axes>"
      ]
     },
     "metadata": {
      "needs_background": "light"
     },
     "output_type": "display_data"
    },
    {
     "data": {
      "image/png": "[encoded data removed]",
      "text/plain": [
       "<Figure size 432x288 with 1 Axes>"
      ]
     },
     "metadata": {
      "needs_background": "light"
     },
     "output_type": "display_data"
    },
    {
     "data": {
      "image/png": "[encoded data removed]",
      "text/plain": [
       "<Figure size 432x288 with 1 Axes>"
      ]
     },
     "metadata": {
      "needs_background": "light"
     },
     "output_type": "display_data"
    },
    {
     "data": {
      "image/png": "[encoded data removed]",
      "text/plain": [
       "<Figure size 432x288 with 1 Axes>"
      ]
     },
     "metadata": {
      "needs_background": "light"
     },
     "output_type": "display_data"
    },
    {
     "data": {
      "image/png": "[encoded data removed]",
      "text/plain": [
       "<Figure size 432x288 with 1 Axes>"
      ]
     },
     "metadata": {
      "needs_background": "light"
     },
     "output_type": "display_data"
    },
    {
     "data": {
      "image/png": "[encoded data removed]",
      "text/plain": [
       "<Figure size 432x288 with 1 Axes>"
      ]
     },
     "metadata": {
      "needs_background": "light"
     },
     "output_type": "display_data"
    },
    {
     "data": {
      "image/png": "[encoded data removed]",
      "text/plain": [
       "<Figure size 432x288 with 1 Axes>"
      ]
     },
     "metadata": {
      "needs_background": "light"
     },
     "output_type": "display_data"
    },
    {
     "data": {
      "image/png": "[encoded data removed]",
      "text/plain": [
       "<Figure size 432x288 with 1 Axes>"
      ]
     },
     "metadata": {
      "needs_background": "light"
     },
     "output_type": "display_data"
    },
    {
     "data": {
      "image/png": "[encoded data removed]",
      "text/plain": [
       "<Figure size 432x288 with 1 Axes>"
      ]
     },
     "metadata": {
      "needs_background": "light"
     },
     "output_type": "display_data"
    },
    {
     "data": {
      "image/png": "[encoded data removed]",
      "text/plain": [
       "<Figure size 432x288 with 1 Axes>"
      ]
     },
     "metadata": {
      "needs_background": "light"
     },
     "output_type": "display_data"
    },
    {
     "data": {
      "image/png": "[encoded data removed]",
      "text/plain": [
       "<Figure size 432x288 with 1 Axes>"
      ]
     },
     "metadata": {
      "needs_background": "light"
     },
     "output_type": "display_data"
    }
   ],
   "source": [
    "for vname in discriminating_variables:\n",
    "    if (vname == \"pt\") | (vname == \"eta\"): continue\n",
    "    \n",
    "    if \"Rhad\" in vname:\n",
    "        plt.figure()\n",
    "        totald[ (totald[\"truth_label\"]==0) & ((totald[vname])<.6)][vname].plot.hist(bins=100,alpha=0.5, density='true', label='Background' , legend='true')\n",
    "        totald[ (totald[\"truth_label\"]==1) & ((totald[vname])<.6)][vname].plot.hist(bins=100,alpha=0.5, density='true', label='Signal' , legend='true')\n",
    "        plt.gca().set(xlabel=vname)\n",
    "    \n",
    "    elif \"TRT_PID\" in vname:\n",
    "        plt.figure()\n",
    "        totald[ (totald[\"truth_label\"]==0) & (abs(totald[vname])<1.5)][vname].plot.hist(bins=80,alpha=0.5, density='true', label='Background' , legend='true')\n",
    "        totald[ (totald[\"truth_label\"]==1) & (abs(totald[vname])<1.5)][vname].plot.hist(bins=80,alpha=0.5, density='true', label='Signal' , legend='true')\n",
    "        plt.gca().set(xlabel=vname)\n",
    "    \n",
    "    else: \n",
    "        plt.figure()\n",
    "        totald[ (totald[\"truth_label\"]==0) & (abs(totald[vname])<1.5)][vname].plot.hist(bins=100,alpha=0.5, density='true', label='Background' , legend='true')\n",
    "        totald[ (totald[\"truth_label\"]==1) & (abs(totald[vname])<1.5)][vname].plot.hist(bins=100,alpha=0.5, density='true', label='Signal' , legend='true')\n",
    "        plt.gca().set(xlabel=vname)\n",
    "        "
   ]
  },
  {
   "cell_type": "code",
   "execution_count": 14,
   "metadata": {},
   "outputs": [
    {
     "data": {
      "text/plain": [
       "[Text(0.5, 0, 'eta')]"
      ]
     },
     "execution_count": 14,
     "metadata": {},
     "output_type": "execute_result"
    },
    {
     "data": {
      "image/png": "[encoded data removed]",
      "text/plain": [
       "<Figure size 432x288 with 2 Axes>"
      ]
     },
     "metadata": {
      "needs_background": "light"
     },
     "output_type": "display_data"
    }
   ],
   "source": [
    "# plot of bkg with different JF\n",
    "# start with pt and eta\n",
    "\n",
    "plt.figure()\n",
    "\n",
    "plt.subplot(121)\n",
    "totald[ (totald[\"pt\"]<300) & (totald[\"truth_label\"]==0) & (totald[\"jf_label\"]==17)][\"pt\"].plot.hist(bins=100,alpha=0.5,density='true',label='JF17',legend='true')\n",
    "totald[ (totald[\"pt\"]<300) & (totald[\"truth_label\"]==0) & (totald[\"jf_label\"]==35)][\"pt\"].plot.hist(bins=100,alpha=0.5,density='true',label='JF35',legend='true')\n",
    "totald[ (totald[\"pt\"]<300) & (totald[\"truth_label\"]==0) & (totald[\"jf_label\"]==50)][\"pt\"].plot.hist(bins=100,alpha=0.5,density='true',label='JF50',legend='true')\n",
    "plt.gca().set(xlabel=\"pt\")\n",
    "\n",
    "plt.subplot(122)\n",
    "totald[ (totald[\"pt\"]<300) & (totald[\"truth_label\"]==0) & (totald[\"jf_label\"]==17)][\"eta\"].plot.hist(bins=100,alpha=0.5,density='true',label='JF17',legend='true')\n",
    "totald[ (totald[\"pt\"]<300) & (totald[\"truth_label\"]==0) & (totald[\"jf_label\"]==35)][\"eta\"].plot.hist(bins=100,alpha=0.5,density='true',label='JF35',legend='true')\n",
    "totald[ (totald[\"pt\"]<300) & (totald[\"truth_label\"]==0) & (totald[\"jf_label\"]==50)][\"eta\"].plot.hist(bins=100,alpha=0.5,density='true',label='JF50',legend='true')\n",
    "plt.gca().set(xlabel=\"eta\")\n"
   ]
  },
  {
   "cell_type": "code",
   "execution_count": 15,
   "metadata": {},
   "outputs": [
    {
     "name": "stderr",
     "output_type": "stream",
     "text": [
      "/cvmfs/sft.cern.ch/lcg/views/LCG_103/x86_64-centos7-gcc11-opt/lib/python3.9/site-packages/numpy/lib/histograms.py:906: RuntimeWarning: invalid value encountered in true_divide\n",
      "  return n/db/n.sum(), bin_edges\n",
      "/cvmfs/sft.cern.ch/lcg/views/LCG_103/x86_64-centos7-gcc11-opt/lib/python3.9/site-packages/numpy/lib/histograms.py:906: RuntimeWarning: invalid value encountered in true_divide\n",
      "  return n/db/n.sum(), bin_edges\n",
      "/cvmfs/sft.cern.ch/lcg/views/LCG_103/x86_64-centos7-gcc11-opt/lib/python3.9/site-packages/numpy/lib/histograms.py:906: RuntimeWarning: invalid value encountered in true_divide\n",
      "  return n/db/n.sum(), bin_edges\n"
     ]
    },
    {
     "data": {
      "image/png": "[encoded data removed]",
      "text/plain": [
       "<Figure size 432x288 with 1 Axes>"
      ]
     },
     "metadata": {
      "needs_background": "light"
     },
     "output_type": "display_data"
    },
    {
     "data": {
      "image/png": "[encoded data removed]",
      "text/plain": [
       "<Figure size 432x288 with 1 Axes>"
      ]
     },
     "metadata": {
      "needs_background": "light"
     },
     "output_type": "display_data"
    },
    {
     "data": {
      "image/png": "[encoded data removed]",
      "text/plain": [
       "<Figure size 432x288 with 1 Axes>"
      ]
     },
     "metadata": {
      "needs_background": "light"
     },
     "output_type": "display_data"
    },
    {
     "data": {
      "image/png": "[encoded data removed]",
      "text/plain": [
       "<Figure size 432x288 with 1 Axes>"
      ]
     },
     "metadata": {
      "needs_background": "light"
     },
     "output_type": "display_data"
    },
    {
     "data": {
      "image/png": "[encoded data removed]",
      "text/plain": [
       "<Figure size 432x288 with 1 Axes>"
      ]
     },
     "metadata": {
      "needs_background": "light"
     },
     "output_type": "display_data"
    },
    {
     "data": {
      "image/png": "[encoded data removed]",
      "text/plain": [
       "<Figure size 432x288 with 1 Axes>"
      ]
     },
     "metadata": {
      "needs_background": "light"
     },
     "output_type": "display_data"
    },
    {
     "data": {
      "image/png": "[encoded data removed]",
      "text/plain": [
       "<Figure size 432x288 with 1 Axes>"
      ]
     },
     "metadata": {
      "needs_background": "light"
     },
     "output_type": "display_data"
    },
    {
     "data": {
      "image/png": "[encoded data removed]",
      "text/plain": [
       "<Figure size 432x288 with 1 Axes>"
      ]
     },
     "metadata": {
      "needs_background": "light"
     },
     "output_type": "display_data"
    },
    {
     "data": {
      "image/png": "[encoded data removed]",
      "text/plain": [
       "<Figure size 432x288 with 1 Axes>"
      ]
     },
     "metadata": {
      "needs_background": "light"
     },
     "output_type": "display_data"
    },
    {
     "data": {
      "image/png": "[encoded data removed]",
      "text/plain": [
       "<Figure size 432x288 with 1 Axes>"
      ]
     },
     "metadata": {
      "needs_background": "light"
     },
     "output_type": "display_data"
    },
    {
     "data": {
      "image/png": "[encoded data removed]",
      "text/plain": [
       "<Figure size 432x288 with 1 Axes>"
      ]
     },
     "metadata": {
      "needs_background": "light"
     },
     "output_type": "display_data"
    },
    {
     "data": {
      "image/png": "[encoded data removed]",
      "text/plain": [
       "<Figure size 432x288 with 1 Axes>"
      ]
     },
     "metadata": {
      "needs_background": "light"
     },
     "output_type": "display_data"
    },
    {
     "data": {
      "image/png": "[encoded data removed]",
      "text/plain": [
       "<Figure size 432x288 with 1 Axes>"
      ]
     },
     "metadata": {
      "needs_background": "light"
     },
     "output_type": "display_data"
    },
    {
     "data": {
      "image/png": "[encoded data removed]",
      "text/plain": [
       "<Figure size 432x288 with 1 Axes>"
      ]
     },
     "metadata": {
      "needs_background": "light"
     },
     "output_type": "display_data"
    },
    {
     "data": {
      "image/png": "[encoded data removed]",
      "text/plain": [
       "<Figure size 432x288 with 1 Axes>"
      ]
     },
     "metadata": {
      "needs_background": "light"
     },
     "output_type": "display_data"
    },
    {
     "data": {
      "image/png": "[encoded data removed]",
      "text/plain": [
       "<Figure size 432x288 with 1 Axes>"
      ]
     },
     "metadata": {
      "needs_background": "light"
     },
     "output_type": "display_data"
    },
    {
     "data": {
      "image/png": "[encoded data removed]",
      "text/plain": [
       "<Figure size 432x288 with 1 Axes>"
      ]
     },
     "metadata": {
      "needs_background": "light"
     },
     "output_type": "display_data"
    }
   ],
   "source": [
    "for vname in discriminating_variables:\n",
    "    if (vname == \"pt\") | (vname == \"eta\"): continue\n",
    "    \n",
    "    if \"Rhad\" in vname:\n",
    "        plt.figure()\n",
    "        totald[ (totald[\"truth_label\"]==0) & (totald[\"jf_label\"]==17) & ((totald[vname])<.6)][vname].plot.hist(bins=100,alpha=0.5, density='true', label='JF17' , legend='true')\n",
    "        totald[ (totald[\"truth_label\"]==0) & (totald[\"jf_label\"]==35) & ((totald[vname])<.6)][vname].plot.hist(bins=100,alpha=0.5, density='true', label='JF35' , legend='true')\n",
    "        totald[ (totald[\"truth_label\"]==0) & (totald[\"jf_label\"]==50) & ((totald[vname])<.6)][vname].plot.hist(bins=100,alpha=0.5, density='true', label='JF50' , legend='true')\n",
    "        plt.gca().set(xlabel=vname)\n",
    "    \n",
    "    else: \n",
    "        plt.figure()\n",
    "        totald[ (totald[\"truth_label\"]==0) & (totald[\"jf_label\"]==17) & (abs(totald[vname])<1.5)][vname].plot.hist(bins=100,alpha=0.5, density='true', label='JF17' , legend='true')\n",
    "        totald[ (totald[\"truth_label\"]==0) & (totald[\"jf_label\"]==35) & (abs(totald[vname])<1.5)][vname].plot.hist(bins=100,alpha=0.5, density='true', label='JF35' , legend='true')\n",
    "        totald[ (totald[\"truth_label\"]==0) & (totald[\"jf_label\"]==50) & (abs(totald[vname])<1.5)][vname].plot.hist(bins=100,alpha=0.5, density='true', label='JF50' , legend='true')\n",
    "        plt.gca().set(xlabel=vname)"
   ]
  },
  {
   "cell_type": "code",
   "execution_count": 16,
   "metadata": {},
   "outputs": [
    {
     "data": {
      "text/plain": [
       "[Text(0.5, 0, 'DeltaE')]"
      ]
     },
     "execution_count": 16,
     "metadata": {},
     "output_type": "execute_result"
    },
    {
     "data": {
      "image/png": "[encoded data removed]",
      "text/plain": [
       "<Figure size 432x288 with 1 Axes>"
      ]
     },
     "metadata": {
      "needs_background": "light"
     },
     "output_type": "display_data"
    }
   ],
   "source": [
    "plt.figure()\n",
    "totald[ (totald[\"truth_label\"]==0) & (totald[\"jf_label\"]==17) & (abs(totald[\"DeltaE\"])<1.5)][\"DeltaE\"].plot.hist(bins=25,alpha=0.5, density='true', label='JF17' , legend='true')\n",
    "totald[ (totald[\"truth_label\"]==0) & (totald[\"jf_label\"]==35) & (abs(totald[\"DeltaE\"])<1.5)][\"DeltaE\"].plot.hist(bins=25,alpha=0.5, density='true', label='JF35' , legend='true')\n",
    "totald[ (totald[\"truth_label\"]==0) & (totald[\"jf_label\"]==50) & (abs(totald[\"DeltaE\"])<1.5)][\"DeltaE\"].plot.hist(bins=25,alpha=0.5, density='true', label='JF50' , legend='true')\n",
    "plt.gca().set(xlabel=\"DeltaE\")"
   ]
  },
  {
   "cell_type": "code",
   "execution_count": 17,
   "metadata": {},
   "outputs": [],
   "source": [
    "# set \"global\" weights depending on statistics of every file\n",
    "\n",
    "# 1. mc23a: 31.4 fb^(-1)\n",
    "# 2. mc23d: 27.8 fb^(-1)\n",
    "# 3. mc23e: 109.8 fb^(-1)\n",
    "\n",
    "totald[\"weight_glob\"] = pd.Series(dtype='float')\n",
    "\n",
    "totald.loc[(totald[\"version_label\"] == 'a', \"weight_glob\")] = 31.4\n",
    "totald.loc[(totald[\"version_label\"] == 'd', \"weight_glob\")] = 27.8\n",
    "totald.loc[(totald[\"version_label\"] == 'e', \"weight_glob\")] = 109.8\n"
   ]
  },
  {
   "cell_type": "code",
   "execution_count": 18,
   "metadata": {},
   "outputs": [
    {
     "data": {
      "text/html": [
       "<div>\n",
       "<style scoped>\n",
       "    .dataframe tbody tr th:only-of-type {\n",
       "        vertical-align: middle;\n",
       "    }\n",
       "\n",
       "    .dataframe tbody tr th {\n",
       "        vertical-align: top;\n",
       "    }\n",
       "\n",
       "    .dataframe thead th {\n",
       "        text-align: right;\n",
       "    }\n",
       "</style>\n",
       "<table border=\"1\" class=\"dataframe\">\n",
       "  <thead>\n",
       "    <tr style=\"text-align: right;\">\n",
       "      <th></th>\n",
       "      <th>eventNumber</th>\n",
       "      <th>pdgId</th>\n",
       "      <th>parentPdgId</th>\n",
       "      <th>isLoose</th>\n",
       "      <th>isTight</th>\n",
       "      <th>pt</th>\n",
       "      <th>eta</th>\n",
       "      <th>true_E</th>\n",
       "      <th>Rhad</th>\n",
       "      <th>Rhad1</th>\n",
       "      <th>...</th>\n",
       "      <th>vtx_dphi</th>\n",
       "      <th>vtx_deta</th>\n",
       "      <th>vtx_deltaZ0</th>\n",
       "      <th>trk_TRT_PID1</th>\n",
       "      <th>trk_TRT_PID2</th>\n",
       "      <th>file_name_label</th>\n",
       "      <th>truth_label</th>\n",
       "      <th>version_label</th>\n",
       "      <th>jf_label</th>\n",
       "      <th>weight_glob</th>\n",
       "    </tr>\n",
       "  </thead>\n",
       "  <tbody>\n",
       "    <tr>\n",
       "      <th>0</th>\n",
       "      <td>216028</td>\n",
       "      <td>11</td>\n",
       "      <td>11</td>\n",
       "      <td>1</td>\n",
       "      <td>0</td>\n",
       "      <td>69.194923</td>\n",
       "      <td>0.243375</td>\n",
       "      <td>69884.984375</td>\n",
       "      <td>-0.000153</td>\n",
       "      <td>-0.000153</td>\n",
       "      <td>...</td>\n",
       "      <td>0.000508</td>\n",
       "      <td>0.003027</td>\n",
       "      <td>0.189831</td>\n",
       "      <td>-0.027880</td>\n",
       "      <td>-0.006519</td>\n",
       "      <td>mc23a.PhPy8EG_NNPDF23_A14_ggH125_yys_ME002.root</td>\n",
       "      <td>1.0</td>\n",
       "      <td>a</td>\n",
       "      <td>NaN</td>\n",
       "      <td>31.4</td>\n",
       "    </tr>\n",
       "    <tr>\n",
       "      <th>1</th>\n",
       "      <td>216005</td>\n",
       "      <td>-11</td>\n",
       "      <td>-11</td>\n",
       "      <td>1</td>\n",
       "      <td>0</td>\n",
       "      <td>59.034683</td>\n",
       "      <td>0.146982</td>\n",
       "      <td>66662.125000</td>\n",
       "      <td>-0.005290</td>\n",
       "      <td>-0.005290</td>\n",
       "      <td>...</td>\n",
       "      <td>0.002240</td>\n",
       "      <td>-0.008324</td>\n",
       "      <td>0.101280</td>\n",
       "      <td>0.003245</td>\n",
       "      <td>0.103180</td>\n",
       "      <td>mc23a.PhPy8EG_NNPDF23_A14_ggH125_yys_ME002.root</td>\n",
       "      <td>1.0</td>\n",
       "      <td>a</td>\n",
       "      <td>NaN</td>\n",
       "      <td>31.4</td>\n",
       "    </tr>\n",
       "    <tr>\n",
       "      <th>2</th>\n",
       "      <td>216040</td>\n",
       "      <td>11</td>\n",
       "      <td>22</td>\n",
       "      <td>1</td>\n",
       "      <td>1</td>\n",
       "      <td>72.487686</td>\n",
       "      <td>0.485934</td>\n",
       "      <td>81926.343750</td>\n",
       "      <td>-0.000508</td>\n",
       "      <td>-0.000508</td>\n",
       "      <td>...</td>\n",
       "      <td>-0.004982</td>\n",
       "      <td>-0.001126</td>\n",
       "      <td>0.028361</td>\n",
       "      <td>0.011771</td>\n",
       "      <td>0.005606</td>\n",
       "      <td>mc23a.PhPy8EG_NNPDF23_A14_ggH125_yys_ME002.root</td>\n",
       "      <td>1.0</td>\n",
       "      <td>a</td>\n",
       "      <td>NaN</td>\n",
       "      <td>31.4</td>\n",
       "    </tr>\n",
       "    <tr>\n",
       "      <th>3</th>\n",
       "      <td>216008</td>\n",
       "      <td>11</td>\n",
       "      <td>22</td>\n",
       "      <td>1</td>\n",
       "      <td>1</td>\n",
       "      <td>31.882032</td>\n",
       "      <td>0.403211</td>\n",
       "      <td>39761.117188</td>\n",
       "      <td>-0.001891</td>\n",
       "      <td>-0.001891</td>\n",
       "      <td>...</td>\n",
       "      <td>-0.014281</td>\n",
       "      <td>0.001685</td>\n",
       "      <td>0.095896</td>\n",
       "      <td>-0.041915</td>\n",
       "      <td>-0.012443</td>\n",
       "      <td>mc23a.PhPy8EG_NNPDF23_A14_ggH125_yys_ME002.root</td>\n",
       "      <td>1.0</td>\n",
       "      <td>a</td>\n",
       "      <td>NaN</td>\n",
       "      <td>31.4</td>\n",
       "    </tr>\n",
       "    <tr>\n",
       "      <th>4</th>\n",
       "      <td>216017</td>\n",
       "      <td>11</td>\n",
       "      <td>22</td>\n",
       "      <td>1</td>\n",
       "      <td>1</td>\n",
       "      <td>63.155869</td>\n",
       "      <td>-0.323868</td>\n",
       "      <td>65556.718750</td>\n",
       "      <td>-0.000308</td>\n",
       "      <td>-0.000308</td>\n",
       "      <td>...</td>\n",
       "      <td>-0.006264</td>\n",
       "      <td>-0.001361</td>\n",
       "      <td>0.078125</td>\n",
       "      <td>0.060672</td>\n",
       "      <td>-0.109327</td>\n",
       "      <td>mc23a.PhPy8EG_NNPDF23_A14_ggH125_yys_ME002.root</td>\n",
       "      <td>1.0</td>\n",
       "      <td>a</td>\n",
       "      <td>NaN</td>\n",
       "      <td>31.4</td>\n",
       "    </tr>\n",
       "    <tr>\n",
       "      <th>...</th>\n",
       "      <td>...</td>\n",
       "      <td>...</td>\n",
       "      <td>...</td>\n",
       "      <td>...</td>\n",
       "      <td>...</td>\n",
       "      <td>...</td>\n",
       "      <td>...</td>\n",
       "      <td>...</td>\n",
       "      <td>...</td>\n",
       "      <td>...</td>\n",
       "      <td>...</td>\n",
       "      <td>...</td>\n",
       "      <td>...</td>\n",
       "      <td>...</td>\n",
       "      <td>...</td>\n",
       "      <td>...</td>\n",
       "      <td>...</td>\n",
       "      <td>...</td>\n",
       "      <td>...</td>\n",
       "      <td>...</td>\n",
       "      <td>...</td>\n",
       "    </tr>\n",
       "    <tr>\n",
       "      <th>6959476</th>\n",
       "      <td>222543354</td>\n",
       "      <td>-211</td>\n",
       "      <td>-323</td>\n",
       "      <td>0</td>\n",
       "      <td>0</td>\n",
       "      <td>92.025726</td>\n",
       "      <td>-0.256072</td>\n",
       "      <td>-999.000000</td>\n",
       "      <td>0.009986</td>\n",
       "      <td>0.009986</td>\n",
       "      <td>...</td>\n",
       "      <td>0.046266</td>\n",
       "      <td>-0.012411</td>\n",
       "      <td>1.595142</td>\n",
       "      <td>0.003492</td>\n",
       "      <td>0.001162</td>\n",
       "      <td>mc23e.Py8EG_A14NNPDF23LO_perf_JF50.root</td>\n",
       "      <td>0.0</td>\n",
       "      <td>e</td>\n",
       "      <td>50.0</td>\n",
       "      <td>109.8</td>\n",
       "    </tr>\n",
       "    <tr>\n",
       "      <th>6959477</th>\n",
       "      <td>222543613</td>\n",
       "      <td>211</td>\n",
       "      <td>221</td>\n",
       "      <td>0</td>\n",
       "      <td>0</td>\n",
       "      <td>44.111832</td>\n",
       "      <td>-0.777917</td>\n",
       "      <td>-999.000000</td>\n",
       "      <td>0.042303</td>\n",
       "      <td>0.042303</td>\n",
       "      <td>...</td>\n",
       "      <td>0.037214</td>\n",
       "      <td>-0.022534</td>\n",
       "      <td>0.190092</td>\n",
       "      <td>-0.013276</td>\n",
       "      <td>-0.034302</td>\n",
       "      <td>mc23e.Py8EG_A14NNPDF23LO_perf_JF50.root</td>\n",
       "      <td>0.0</td>\n",
       "      <td>e</td>\n",
       "      <td>50.0</td>\n",
       "      <td>109.8</td>\n",
       "    </tr>\n",
       "    <tr>\n",
       "      <th>6959478</th>\n",
       "      <td>222543545</td>\n",
       "      <td>-321</td>\n",
       "      <td>-323</td>\n",
       "      <td>0</td>\n",
       "      <td>0</td>\n",
       "      <td>28.396282</td>\n",
       "      <td>1.857466</td>\n",
       "      <td>-999.000000</td>\n",
       "      <td>0.787051</td>\n",
       "      <td>0.787051</td>\n",
       "      <td>...</td>\n",
       "      <td>-0.009794</td>\n",
       "      <td>-0.008651</td>\n",
       "      <td>0.180428</td>\n",
       "      <td>0.017556</td>\n",
       "      <td>-0.239939</td>\n",
       "      <td>mc23e.Py8EG_A14NNPDF23LO_perf_JF50.root</td>\n",
       "      <td>0.0</td>\n",
       "      <td>e</td>\n",
       "      <td>50.0</td>\n",
       "      <td>109.8</td>\n",
       "    </tr>\n",
       "    <tr>\n",
       "      <th>6959479</th>\n",
       "      <td>222543728</td>\n",
       "      <td>211</td>\n",
       "      <td>-2</td>\n",
       "      <td>0</td>\n",
       "      <td>0</td>\n",
       "      <td>89.160271</td>\n",
       "      <td>-0.016638</td>\n",
       "      <td>-999.000000</td>\n",
       "      <td>0.019911</td>\n",
       "      <td>0.019911</td>\n",
       "      <td>...</td>\n",
       "      <td>0.041392</td>\n",
       "      <td>-0.025290</td>\n",
       "      <td>0.045811</td>\n",
       "      <td>-0.023728</td>\n",
       "      <td>-0.020495</td>\n",
       "      <td>mc23e.Py8EG_A14NNPDF23LO_perf_JF50.root</td>\n",
       "      <td>0.0</td>\n",
       "      <td>e</td>\n",
       "      <td>50.0</td>\n",
       "      <td>109.8</td>\n",
       "    </tr>\n",
       "    <tr>\n",
       "      <th>6959480</th>\n",
       "      <td>222543989</td>\n",
       "      <td>-211</td>\n",
       "      <td>2</td>\n",
       "      <td>0</td>\n",
       "      <td>0</td>\n",
       "      <td>32.300037</td>\n",
       "      <td>-1.792377</td>\n",
       "      <td>-999.000000</td>\n",
       "      <td>0.323191</td>\n",
       "      <td>0.323191</td>\n",
       "      <td>...</td>\n",
       "      <td>0.002375</td>\n",
       "      <td>0.036554</td>\n",
       "      <td>5.733376</td>\n",
       "      <td>0.065902</td>\n",
       "      <td>0.231816</td>\n",
       "      <td>mc23e.Py8EG_A14NNPDF23LO_perf_JF50.root</td>\n",
       "      <td>0.0</td>\n",
       "      <td>e</td>\n",
       "      <td>50.0</td>\n",
       "      <td>109.8</td>\n",
       "    </tr>\n",
       "  </tbody>\n",
       "</table>\n",
       "<p>6959481 rows × 29 columns</p>\n",
       "</div>"
      ],
      "text/plain": [
       "         eventNumber  pdgId  parentPdgId  isLoose  isTight         pt  \\\n",
       "0             216028     11           11        1        0  69.194923   \n",
       "1             216005    -11          -11        1        0  59.034683   \n",
       "2             216040     11           22        1        1  72.487686   \n",
       "3             216008     11           22        1        1  31.882032   \n",
       "4             216017     11           22        1        1  63.155869   \n",
       "...              ...    ...          ...      ...      ...        ...   \n",
       "6959476    222543354   -211         -323        0        0  92.025726   \n",
       "6959477    222543613    211          221        0        0  44.111832   \n",
       "6959478    222543545   -321         -323        0        0  28.396282   \n",
       "6959479    222543728    211           -2        0        0  89.160271   \n",
       "6959480    222543989   -211            2        0        0  32.300037   \n",
       "\n",
       "              eta        true_E      Rhad     Rhad1  ...  vtx_dphi  vtx_deta  \\\n",
       "0        0.243375  69884.984375 -0.000153 -0.000153  ...  0.000508  0.003027   \n",
       "1        0.146982  66662.125000 -0.005290 -0.005290  ...  0.002240 -0.008324   \n",
       "2        0.485934  81926.343750 -0.000508 -0.000508  ... -0.004982 -0.001126   \n",
       "3        0.403211  39761.117188 -0.001891 -0.001891  ... -0.014281  0.001685   \n",
       "4       -0.323868  65556.718750 -0.000308 -0.000308  ... -0.006264 -0.001361   \n",
       "...           ...           ...       ...       ...  ...       ...       ...   \n",
       "6959476 -0.256072   -999.000000  0.009986  0.009986  ...  0.046266 -0.012411   \n",
       "6959477 -0.777917   -999.000000  0.042303  0.042303  ...  0.037214 -0.022534   \n",
       "6959478  1.857466   -999.000000  0.787051  0.787051  ... -0.009794 -0.008651   \n",
       "6959479 -0.016638   -999.000000  0.019911  0.019911  ...  0.041392 -0.025290   \n",
       "6959480 -1.792377   -999.000000  0.323191  0.323191  ...  0.002375  0.036554   \n",
       "\n",
       "         vtx_deltaZ0  trk_TRT_PID1  trk_TRT_PID2  \\\n",
       "0           0.189831     -0.027880     -0.006519   \n",
       "1           0.101280      0.003245      0.103180   \n",
       "2           0.028361      0.011771      0.005606   \n",
       "3           0.095896     -0.041915     -0.012443   \n",
       "4           0.078125      0.060672     -0.109327   \n",
       "...              ...           ...           ...   \n",
       "6959476     1.595142      0.003492      0.001162   \n",
       "6959477     0.190092     -0.013276     -0.034302   \n",
       "6959478     0.180428      0.017556     -0.239939   \n",
       "6959479     0.045811     -0.023728     -0.020495   \n",
       "6959480     5.733376      0.065902      0.231816   \n",
       "\n",
       "                                         file_name_label  truth_label  \\\n",
       "0        mc23a.PhPy8EG_NNPDF23_A14_ggH125_yys_ME002.root          1.0   \n",
       "1        mc23a.PhPy8EG_NNPDF23_A14_ggH125_yys_ME002.root          1.0   \n",
       "2        mc23a.PhPy8EG_NNPDF23_A14_ggH125_yys_ME002.root          1.0   \n",
       "3        mc23a.PhPy8EG_NNPDF23_A14_ggH125_yys_ME002.root          1.0   \n",
       "4        mc23a.PhPy8EG_NNPDF23_A14_ggH125_yys_ME002.root          1.0   \n",
       "...                                                  ...          ...   \n",
       "6959476          mc23e.Py8EG_A14NNPDF23LO_perf_JF50.root          0.0   \n",
       "6959477          mc23e.Py8EG_A14NNPDF23LO_perf_JF50.root          0.0   \n",
       "6959478          mc23e.Py8EG_A14NNPDF23LO_perf_JF50.root          0.0   \n",
       "6959479          mc23e.Py8EG_A14NNPDF23LO_perf_JF50.root          0.0   \n",
       "6959480          mc23e.Py8EG_A14NNPDF23LO_perf_JF50.root          0.0   \n",
       "\n",
       "         version_label  jf_label  weight_glob  \n",
       "0                    a       NaN         31.4  \n",
       "1                    a       NaN         31.4  \n",
       "2                    a       NaN         31.4  \n",
       "3                    a       NaN         31.4  \n",
       "4                    a       NaN         31.4  \n",
       "...                ...       ...          ...  \n",
       "6959476              e      50.0        109.8  \n",
       "6959477              e      50.0        109.8  \n",
       "6959478              e      50.0        109.8  \n",
       "6959479              e      50.0        109.8  \n",
       "6959480              e      50.0        109.8  \n",
       "\n",
       "[6959481 rows x 29 columns]"
      ]
     },
     "execution_count": 18,
     "metadata": {},
     "output_type": "execute_result"
    }
   ],
   "source": [
    "totald"
   ]
  },
  {
   "cell_type": "code",
   "execution_count": 19,
   "metadata": {},
   "outputs": [],
   "source": [
    "# weights on bin of p_t and eta:\n",
    "# I need to make signal and bkg (weighted) distributions equal"
   ]
  },
  {
   "cell_type": "code",
   "execution_count": 20,
   "metadata": {},
   "outputs": [],
   "source": [
    "# **weight eta**\n",
    "# fixed min and max\n",
    "etamin = -2.6\n",
    "etamax = 2.6\n",
    "# etamin = totald[\"eta\"].min()\n",
    "# etamax = totald[\"eta\"].max()\n",
    "nbins_eta = 52\n",
    "eta_bins = np.linspace(etamin, etamax, nbins_eta+1)\n"
   ]
  },
  {
   "cell_type": "code",
   "execution_count": 21,
   "metadata": {},
   "outputs": [
    {
     "data": {
      "image/png": "[encoded data removed]",
      "text/plain": [
       "<Figure size 432x288 with 1 Axes>"
      ]
     },
     "metadata": {
      "needs_background": "light"
     },
     "output_type": "display_data"
    }
   ],
   "source": [
    "# histograms\n",
    "\n",
    "h_eta_bkg = plt.hist( totald[ totald[\"truth_label\"]==0 ][\"eta\"] ,\n",
    "                     weights = totald[ totald[\"truth_label\"]==0 ][\"weight_glob\"],\n",
    "                     histtype='step', log = True, bins = eta_bins )\n",
    "\n",
    "h_eta_sig = plt.hist( totald[ totald[\"truth_label\"]==1 ][\"eta\"] ,\n",
    "                     weights = totald[ totald[\"truth_label\"]==1 ][\"weight_glob\"],\n",
    "                     histtype='step', log = True, bins = eta_bins )"
   ]
  },
  {
   "cell_type": "code",
   "execution_count": 22,
   "metadata": {},
   "outputs": [
    {
     "data": {
      "text/plain": [
       "array([0.        , 0.08508856, 0.07898582, 0.09181349, 0.09997301,\n",
       "       0.10627274, 0.14024369, 0.14309917, 0.13628167, 0.13505012,\n",
       "       0.11323728, 0.00257793, 0.18523422, 0.19475224, 0.21354711,\n",
       "       0.23325498, 0.25101765, 0.25263043, 0.24501392, 0.24420508,\n",
       "       0.26339646, 0.27654082, 0.27121837, 0.26955869, 0.27078932,\n",
       "       0.26199211, 0.26350096, 0.26600671, 0.27351931, 0.28012781,\n",
       "       0.26840799, 0.26513874, 0.24736394, 0.24395819, 0.25765306,\n",
       "       0.25327147, 0.23992983, 0.21974058, 0.19364993, 0.18827361,\n",
       "       0.00264416, 0.11623551, 0.13773654, 0.14208375, 0.14933298,\n",
       "       0.14150546, 0.11003122, 0.09819059, 0.08723806, 0.07113304,\n",
       "       0.08208612, 0.        ])"
      ]
     },
     "execution_count": 22,
     "metadata": {},
     "output_type": "execute_result"
    }
   ],
   "source": [
    "# weight_eta calclulation (ratio between bins)\n",
    "\n",
    "eta_w = np.where(h_eta_bkg[0] == 0 , 1., h_eta_sig[0] / h_eta_bkg[0])\n",
    "eta_w"
   ]
  },
  {
   "cell_type": "code",
   "execution_count": 23,
   "metadata": {},
   "outputs": [
    {
     "data": {
      "text/plain": [
       "0          29\n",
       "1          28\n",
       "2          31\n",
       "3          31\n",
       "4          23\n",
       "           ..\n",
       "6959476    24\n",
       "6959477    19\n",
       "6959478    45\n",
       "6959479    26\n",
       "6959480     9\n",
       "Length: 6959481, dtype: int64"
      ]
     },
     "execution_count": 23,
     "metadata": {},
     "output_type": "execute_result"
    }
   ],
   "source": [
    "# calcultate for each (not only bkg!) event what bin it belongs to\n",
    "\n",
    "bin_idx_bkg_eta = np.digitize(totald[\"eta\"], eta_bins)\n",
    "idx_bkg_eta = pd.Series(bin_idx_bkg_eta)\n",
    "idx_bkg_eta"
   ]
  },
  {
   "cell_type": "code",
   "execution_count": 24,
   "metadata": {},
   "outputs": [
    {
     "data": {
      "text/plain": [
       "0          0.273519\n",
       "1          0.266007\n",
       "2          0.268408\n",
       "3          0.268408\n",
       "4          0.271218\n",
       "             ...   \n",
       "6959476    0.269559\n",
       "6959477    0.245014\n",
       "6959478    0.149333\n",
       "6959479    0.261992\n",
       "6959480    0.136282\n",
       "Length: 6959481, dtype: float64"
      ]
     },
     "execution_count": 24,
     "metadata": {},
     "output_type": "execute_result"
    }
   ],
   "source": [
    "# map every bin to the corresponding weight\n",
    "\n",
    "dfw_bkg_eta = idx_bkg_eta.map({i+1 : eta_w[i] for i in range(nbins_eta)})\n",
    "dfw_bkg_eta"
   ]
  },
  {
   "cell_type": "code",
   "execution_count": 25,
   "metadata": {},
   "outputs": [
    {
     "data": {
      "text/plain": [
       "0          1.000000\n",
       "1          1.000000\n",
       "2          1.000000\n",
       "3          1.000000\n",
       "4          1.000000\n",
       "             ...   \n",
       "6959476    0.269559\n",
       "6959477    0.245014\n",
       "6959478    0.149333\n",
       "6959479    0.261992\n",
       "6959480    0.136282\n",
       "Name: weight_eta, Length: 6959481, dtype: float64"
      ]
     },
     "execution_count": 25,
     "metadata": {},
     "output_type": "execute_result"
    }
   ],
   "source": [
    "# attach weights to the dataframe, with condition on signal events\n",
    "\n",
    "totald[\"weight_eta\"] = dfw_bkg_eta.where( totald[\"truth_label\"]==0 , 1.)\n",
    "totald[\"weight_eta\"]\n"
   ]
  },
  {
   "cell_type": "code",
   "execution_count": 26,
   "metadata": {},
   "outputs": [
    {
     "data": {
      "image/png": "[encoded data removed]",
      "text/plain": [
       "<Figure size 432x288 with 1 Axes>"
      ]
     },
     "metadata": {
      "needs_background": "light"
     },
     "output_type": "display_data"
    }
   ],
   "source": [
    "# histograms\n",
    "h_eta_bkg = plt.hist( totald[ totald[\"truth_label\"]==0 ][\"eta\"] ,\n",
    "                     weights = totald[ totald[\"truth_label\"]==0 ][\"weight_eta\"] * totald[ totald[\"truth_label\"]==0 ][\"weight_glob\"],\n",
    "                     histtype='stepfilled', bins = eta_bins )\n",
    "\n",
    "\n",
    "h_eta_sig = plt.hist( totald[ totald[\"truth_label\"]==1 ][\"eta\"] ,\n",
    "                     weights = totald[ totald[\"truth_label\"]==1 ][\"weight_eta\"] * totald[ totald[\"truth_label\"]==1 ][\"weight_glob\"],\n",
    "                     histtype='step', log = True, bins = eta_bins )"
   ]
  },
  {
   "cell_type": "code",
   "execution_count": 27,
   "metadata": {},
   "outputs": [],
   "source": [
    "# **weight pt**\n",
    "# bins depending on max pt of the dataframe\n",
    "\n",
    "ptmin = 0.\n",
    "ptmax = totald[\"pt\"].max()\n",
    "nbins_pt = 50\n",
    "pt_bins = np.linspace(ptmin, ptmax, nbins_pt + 1)\n"
   ]
  },
  {
   "cell_type": "code",
   "execution_count": 28,
   "metadata": {},
   "outputs": [
    {
     "data": {
      "text/plain": [
       "[Text(0.5, 0, 'pt')]"
      ]
     },
     "execution_count": 28,
     "metadata": {},
     "output_type": "execute_result"
    },
    {
     "data": {
      "image/png": "[encoded data removed]",
      "text/plain": [
       "<Figure size 432x288 with 1 Axes>"
      ]
     },
     "metadata": {
      "needs_background": "light"
     },
     "output_type": "display_data"
    }
   ],
   "source": [
    "# histograms\n",
    "\n",
    "h_pt_bkg = plt.hist( totald[ totald[\"truth_label\"]==0 ][\"pt\"] ,\n",
    "                     weights = totald[ totald[\"truth_label\"]==0 ][\"weight_glob\"],\n",
    "                     histtype='step', log = True, bins = pt_bins )\n",
    "\n",
    "h_pt_sig = plt.hist( totald[ totald[\"truth_label\"]==1 ][\"pt\"] ,\n",
    "                     weights = totald[ totald[\"truth_label\"]==1 ][\"weight_glob\"],\n",
    "                     histtype='step', log = True, bins = pt_bins )\n",
    "plt.gca().set(xlabel=\"pt\")"
   ]
  },
  {
   "cell_type": "code",
   "execution_count": 29,
   "metadata": {},
   "outputs": [
    {
     "name": "stderr",
     "output_type": "stream",
     "text": [
      "/tmp/ipykernel_20850/378228968.py:6: RuntimeWarning: divide by zero encountered in true_divide\n",
      "  pt_w = np.where( h_pt_bkg[0] == 0, 1., h_pt_sig[0] / h_pt_bkg[0])\n",
      "/tmp/ipykernel_20850/378228968.py:6: RuntimeWarning: invalid value encountered in true_divide\n",
      "  pt_w = np.where( h_pt_bkg[0] == 0, 1., h_pt_sig[0] / h_pt_bkg[0])\n"
     ]
    },
    {
     "data": {
      "text/plain": [
       "array([0.04855357, 0.30774699, 0.83003725, 1.22238089, 1.50252606,\n",
       "       1.55207313, 1.54837406, 1.56759521, 1.57253969, 1.60471586,\n",
       "       1.64037696, 1.69224273, 1.21931668, 1.2721519 , 1.00560475,\n",
       "       1.25363733, 1.03479695, 1.07979502, 0.7662294 , 1.86660469,\n",
       "       1.72410792, 1.63282443, 0.92044025, 0.93772672, 0.60610465,\n",
       "       1.99153567, 1.31654676, 0.53823529, 1.        , 0.        ,\n",
       "       0.        , 1.        , 0.        , 0.        , 0.        ,\n",
       "       1.        , 1.        , 0.        , 1.        , 1.        ,\n",
       "       1.        , 1.        , 1.        , 1.        , 1.        ,\n",
       "       1.        , 1.        , 1.        , 1.        , 0.        ])"
      ]
     },
     "execution_count": 29,
     "metadata": {},
     "output_type": "execute_result"
    }
   ],
   "source": [
    "# weight calculation\n",
    "\n",
    "# problem: i have to consider bins where there are ONLY signal or background events\n",
    "\n",
    "# pt_w = np.where( h_pt_bkg[0] != 0, h_pt_sig[0] / h_pt_bkg[0], 1.)    \n",
    "pt_w = np.where( h_pt_bkg[0] == 0, 1., h_pt_sig[0] / h_pt_bkg[0])\n",
    "pt_w"
   ]
  },
  {
   "cell_type": "code",
   "execution_count": 30,
   "metadata": {},
   "outputs": [
    {
     "data": {
      "text/plain": [
       "0          2\n",
       "1          2\n",
       "2          2\n",
       "3          1\n",
       "4          2\n",
       "          ..\n",
       "6959476    3\n",
       "6959477    2\n",
       "6959478    1\n",
       "6959479    3\n",
       "6959480    1\n",
       "Length: 6959481, dtype: int64"
      ]
     },
     "execution_count": 30,
     "metadata": {},
     "output_type": "execute_result"
    }
   ],
   "source": [
    "# calcultate for each (not only bkg!) event what bin it belongs to\n",
    "\n",
    "bin_idx_bkg_pt = np.digitize(totald[\"pt\"], pt_bins)\n",
    "idx_bkg_pt = pd.Series(bin_idx_bkg_pt)\n",
    "idx_bkg_pt"
   ]
  },
  {
   "cell_type": "code",
   "execution_count": 31,
   "metadata": {
    "scrolled": true
   },
   "outputs": [
    {
     "data": {
      "text/plain": [
       "0          0.307747\n",
       "1          0.307747\n",
       "2          0.307747\n",
       "3          0.048554\n",
       "4          0.307747\n",
       "             ...   \n",
       "6959476    0.830037\n",
       "6959477    0.307747\n",
       "6959478    0.048554\n",
       "6959479    0.830037\n",
       "6959480    0.048554\n",
       "Length: 6959481, dtype: float64"
      ]
     },
     "execution_count": 31,
     "metadata": {},
     "output_type": "execute_result"
    }
   ],
   "source": [
    "# map every bin to the corresponding weight\n",
    "\n",
    "dfw_bkg_pt = idx_bkg_pt.map({i+1 : pt_w[i] for i in range(nbins_pt)})\n",
    "dfw_bkg_pt"
   ]
  },
  {
   "cell_type": "code",
   "execution_count": 32,
   "metadata": {},
   "outputs": [
    {
     "data": {
      "text/plain": [
       "0          1.000000\n",
       "1          1.000000\n",
       "2          1.000000\n",
       "3          1.000000\n",
       "4          1.000000\n",
       "             ...   \n",
       "6959476    0.830037\n",
       "6959477    0.307747\n",
       "6959478    0.048554\n",
       "6959479    0.830037\n",
       "6959480    0.048554\n",
       "Name: weight_pt, Length: 6959481, dtype: float64"
      ]
     },
     "execution_count": 32,
     "metadata": {},
     "output_type": "execute_result"
    }
   ],
   "source": [
    "# attach weights to the dataframe, with condition on signal events\n",
    "\n",
    "totald[\"weight_pt\"] = dfw_bkg_pt.where( totald[\"truth_label\"]==0 , 1.)\n",
    "totald[\"weight_pt\"]"
   ]
  },
  {
   "cell_type": "code",
   "execution_count": 33,
   "metadata": {},
   "outputs": [
    {
     "data": {
      "text/html": [
       "<div>\n",
       "<style scoped>\n",
       "    .dataframe tbody tr th:only-of-type {\n",
       "        vertical-align: middle;\n",
       "    }\n",
       "\n",
       "    .dataframe tbody tr th {\n",
       "        vertical-align: top;\n",
       "    }\n",
       "\n",
       "    .dataframe thead th {\n",
       "        text-align: right;\n",
       "    }\n",
       "</style>\n",
       "<table border=\"1\" class=\"dataframe\">\n",
       "  <thead>\n",
       "    <tr style=\"text-align: right;\">\n",
       "      <th></th>\n",
       "      <th>eventNumber</th>\n",
       "      <th>pdgId</th>\n",
       "      <th>parentPdgId</th>\n",
       "      <th>isLoose</th>\n",
       "      <th>isTight</th>\n",
       "      <th>pt</th>\n",
       "      <th>eta</th>\n",
       "      <th>true_E</th>\n",
       "      <th>Rhad</th>\n",
       "      <th>Rhad1</th>\n",
       "      <th>...</th>\n",
       "      <th>vtx_deltaZ0</th>\n",
       "      <th>trk_TRT_PID1</th>\n",
       "      <th>trk_TRT_PID2</th>\n",
       "      <th>file_name_label</th>\n",
       "      <th>truth_label</th>\n",
       "      <th>version_label</th>\n",
       "      <th>jf_label</th>\n",
       "      <th>weight_glob</th>\n",
       "      <th>weight_eta</th>\n",
       "      <th>weight_pt</th>\n",
       "    </tr>\n",
       "  </thead>\n",
       "  <tbody>\n",
       "    <tr>\n",
       "      <th>0</th>\n",
       "      <td>216028</td>\n",
       "      <td>11</td>\n",
       "      <td>11</td>\n",
       "      <td>1</td>\n",
       "      <td>0</td>\n",
       "      <td>69.194923</td>\n",
       "      <td>0.243375</td>\n",
       "      <td>69884.984375</td>\n",
       "      <td>-0.000153</td>\n",
       "      <td>-0.000153</td>\n",
       "      <td>...</td>\n",
       "      <td>0.189831</td>\n",
       "      <td>-0.027880</td>\n",
       "      <td>-0.006519</td>\n",
       "      <td>mc23a.PhPy8EG_NNPDF23_A14_ggH125_yys_ME002.root</td>\n",
       "      <td>1.0</td>\n",
       "      <td>a</td>\n",
       "      <td>NaN</td>\n",
       "      <td>31.4</td>\n",
       "      <td>1.000000</td>\n",
       "      <td>1.000000</td>\n",
       "    </tr>\n",
       "    <tr>\n",
       "      <th>1</th>\n",
       "      <td>216005</td>\n",
       "      <td>-11</td>\n",
       "      <td>-11</td>\n",
       "      <td>1</td>\n",
       "      <td>0</td>\n",
       "      <td>59.034683</td>\n",
       "      <td>0.146982</td>\n",
       "      <td>66662.125000</td>\n",
       "      <td>-0.005290</td>\n",
       "      <td>-0.005290</td>\n",
       "      <td>...</td>\n",
       "      <td>0.101280</td>\n",
       "      <td>0.003245</td>\n",
       "      <td>0.103180</td>\n",
       "      <td>mc23a.PhPy8EG_NNPDF23_A14_ggH125_yys_ME002.root</td>\n",
       "      <td>1.0</td>\n",
       "      <td>a</td>\n",
       "      <td>NaN</td>\n",
       "      <td>31.4</td>\n",
       "      <td>1.000000</td>\n",
       "      <td>1.000000</td>\n",
       "    </tr>\n",
       "    <tr>\n",
       "      <th>2</th>\n",
       "      <td>216040</td>\n",
       "      <td>11</td>\n",
       "      <td>22</td>\n",
       "      <td>1</td>\n",
       "      <td>1</td>\n",
       "      <td>72.487686</td>\n",
       "      <td>0.485934</td>\n",
       "      <td>81926.343750</td>\n",
       "      <td>-0.000508</td>\n",
       "      <td>-0.000508</td>\n",
       "      <td>...</td>\n",
       "      <td>0.028361</td>\n",
       "      <td>0.011771</td>\n",
       "      <td>0.005606</td>\n",
       "      <td>mc23a.PhPy8EG_NNPDF23_A14_ggH125_yys_ME002.root</td>\n",
       "      <td>1.0</td>\n",
       "      <td>a</td>\n",
       "      <td>NaN</td>\n",
       "      <td>31.4</td>\n",
       "      <td>1.000000</td>\n",
       "      <td>1.000000</td>\n",
       "    </tr>\n",
       "    <tr>\n",
       "      <th>3</th>\n",
       "      <td>216008</td>\n",
       "      <td>11</td>\n",
       "      <td>22</td>\n",
       "      <td>1</td>\n",
       "      <td>1</td>\n",
       "      <td>31.882032</td>\n",
       "      <td>0.403211</td>\n",
       "      <td>39761.117188</td>\n",
       "      <td>-0.001891</td>\n",
       "      <td>-0.001891</td>\n",
       "      <td>...</td>\n",
       "      <td>0.095896</td>\n",
       "      <td>-0.041915</td>\n",
       "      <td>-0.012443</td>\n",
       "      <td>mc23a.PhPy8EG_NNPDF23_A14_ggH125_yys_ME002.root</td>\n",
       "      <td>1.0</td>\n",
       "      <td>a</td>\n",
       "      <td>NaN</td>\n",
       "      <td>31.4</td>\n",
       "      <td>1.000000</td>\n",
       "      <td>1.000000</td>\n",
       "    </tr>\n",
       "    <tr>\n",
       "      <th>4</th>\n",
       "      <td>216017</td>\n",
       "      <td>11</td>\n",
       "      <td>22</td>\n",
       "      <td>1</td>\n",
       "      <td>1</td>\n",
       "      <td>63.155869</td>\n",
       "      <td>-0.323868</td>\n",
       "      <td>65556.718750</td>\n",
       "      <td>-0.000308</td>\n",
       "      <td>-0.000308</td>\n",
       "      <td>...</td>\n",
       "      <td>0.078125</td>\n",
       "      <td>0.060672</td>\n",
       "      <td>-0.109327</td>\n",
       "      <td>mc23a.PhPy8EG_NNPDF23_A14_ggH125_yys_ME002.root</td>\n",
       "      <td>1.0</td>\n",
       "      <td>a</td>\n",
       "      <td>NaN</td>\n",
       "      <td>31.4</td>\n",
       "      <td>1.000000</td>\n",
       "      <td>1.000000</td>\n",
       "    </tr>\n",
       "    <tr>\n",
       "      <th>...</th>\n",
       "      <td>...</td>\n",
       "      <td>...</td>\n",
       "      <td>...</td>\n",
       "      <td>...</td>\n",
       "      <td>...</td>\n",
       "      <td>...</td>\n",
       "      <td>...</td>\n",
       "      <td>...</td>\n",
       "      <td>...</td>\n",
       "      <td>...</td>\n",
       "      <td>...</td>\n",
       "      <td>...</td>\n",
       "      <td>...</td>\n",
       "      <td>...</td>\n",
       "      <td>...</td>\n",
       "      <td>...</td>\n",
       "      <td>...</td>\n",
       "      <td>...</td>\n",
       "      <td>...</td>\n",
       "      <td>...</td>\n",
       "      <td>...</td>\n",
       "    </tr>\n",
       "    <tr>\n",
       "      <th>6959476</th>\n",
       "      <td>222543354</td>\n",
       "      <td>-211</td>\n",
       "      <td>-323</td>\n",
       "      <td>0</td>\n",
       "      <td>0</td>\n",
       "      <td>92.025726</td>\n",
       "      <td>-0.256072</td>\n",
       "      <td>-999.000000</td>\n",
       "      <td>0.009986</td>\n",
       "      <td>0.009986</td>\n",
       "      <td>...</td>\n",
       "      <td>1.595142</td>\n",
       "      <td>0.003492</td>\n",
       "      <td>0.001162</td>\n",
       "      <td>mc23e.Py8EG_A14NNPDF23LO_perf_JF50.root</td>\n",
       "      <td>0.0</td>\n",
       "      <td>e</td>\n",
       "      <td>50.0</td>\n",
       "      <td>109.8</td>\n",
       "      <td>0.269559</td>\n",
       "      <td>0.830037</td>\n",
       "    </tr>\n",
       "    <tr>\n",
       "      <th>6959477</th>\n",
       "      <td>222543613</td>\n",
       "      <td>211</td>\n",
       "      <td>221</td>\n",
       "      <td>0</td>\n",
       "      <td>0</td>\n",
       "      <td>44.111832</td>\n",
       "      <td>-0.777917</td>\n",
       "      <td>-999.000000</td>\n",
       "      <td>0.042303</td>\n",
       "      <td>0.042303</td>\n",
       "      <td>...</td>\n",
       "      <td>0.190092</td>\n",
       "      <td>-0.013276</td>\n",
       "      <td>-0.034302</td>\n",
       "      <td>mc23e.Py8EG_A14NNPDF23LO_perf_JF50.root</td>\n",
       "      <td>0.0</td>\n",
       "      <td>e</td>\n",
       "      <td>50.0</td>\n",
       "      <td>109.8</td>\n",
       "      <td>0.245014</td>\n",
       "      <td>0.307747</td>\n",
       "    </tr>\n",
       "    <tr>\n",
       "      <th>6959478</th>\n",
       "      <td>222543545</td>\n",
       "      <td>-321</td>\n",
       "      <td>-323</td>\n",
       "      <td>0</td>\n",
       "      <td>0</td>\n",
       "      <td>28.396282</td>\n",
       "      <td>1.857466</td>\n",
       "      <td>-999.000000</td>\n",
       "      <td>0.787051</td>\n",
       "      <td>0.787051</td>\n",
       "      <td>...</td>\n",
       "      <td>0.180428</td>\n",
       "      <td>0.017556</td>\n",
       "      <td>-0.239939</td>\n",
       "      <td>mc23e.Py8EG_A14NNPDF23LO_perf_JF50.root</td>\n",
       "      <td>0.0</td>\n",
       "      <td>e</td>\n",
       "      <td>50.0</td>\n",
       "      <td>109.8</td>\n",
       "      <td>0.149333</td>\n",
       "      <td>0.048554</td>\n",
       "    </tr>\n",
       "    <tr>\n",
       "      <th>6959479</th>\n",
       "      <td>222543728</td>\n",
       "      <td>211</td>\n",
       "      <td>-2</td>\n",
       "      <td>0</td>\n",
       "      <td>0</td>\n",
       "      <td>89.160271</td>\n",
       "      <td>-0.016638</td>\n",
       "      <td>-999.000000</td>\n",
       "      <td>0.019911</td>\n",
       "      <td>0.019911</td>\n",
       "      <td>...</td>\n",
       "      <td>0.045811</td>\n",
       "      <td>-0.023728</td>\n",
       "      <td>-0.020495</td>\n",
       "      <td>mc23e.Py8EG_A14NNPDF23LO_perf_JF50.root</td>\n",
       "      <td>0.0</td>\n",
       "      <td>e</td>\n",
       "      <td>50.0</td>\n",
       "      <td>109.8</td>\n",
       "      <td>0.261992</td>\n",
       "      <td>0.830037</td>\n",
       "    </tr>\n",
       "    <tr>\n",
       "      <th>6959480</th>\n",
       "      <td>222543989</td>\n",
       "      <td>-211</td>\n",
       "      <td>2</td>\n",
       "      <td>0</td>\n",
       "      <td>0</td>\n",
       "      <td>32.300037</td>\n",
       "      <td>-1.792377</td>\n",
       "      <td>-999.000000</td>\n",
       "      <td>0.323191</td>\n",
       "      <td>0.323191</td>\n",
       "      <td>...</td>\n",
       "      <td>5.733376</td>\n",
       "      <td>0.065902</td>\n",
       "      <td>0.231816</td>\n",
       "      <td>mc23e.Py8EG_A14NNPDF23LO_perf_JF50.root</td>\n",
       "      <td>0.0</td>\n",
       "      <td>e</td>\n",
       "      <td>50.0</td>\n",
       "      <td>109.8</td>\n",
       "      <td>0.136282</td>\n",
       "      <td>0.048554</td>\n",
       "    </tr>\n",
       "  </tbody>\n",
       "</table>\n",
       "<p>6959481 rows × 31 columns</p>\n",
       "</div>"
      ],
      "text/plain": [
       "         eventNumber  pdgId  parentPdgId  isLoose  isTight         pt  \\\n",
       "0             216028     11           11        1        0  69.194923   \n",
       "1             216005    -11          -11        1        0  59.034683   \n",
       "2             216040     11           22        1        1  72.487686   \n",
       "3             216008     11           22        1        1  31.882032   \n",
       "4             216017     11           22        1        1  63.155869   \n",
       "...              ...    ...          ...      ...      ...        ...   \n",
       "6959476    222543354   -211         -323        0        0  92.025726   \n",
       "6959477    222543613    211          221        0        0  44.111832   \n",
       "6959478    222543545   -321         -323        0        0  28.396282   \n",
       "6959479    222543728    211           -2        0        0  89.160271   \n",
       "6959480    222543989   -211            2        0        0  32.300037   \n",
       "\n",
       "              eta        true_E      Rhad     Rhad1  ...  vtx_deltaZ0  \\\n",
       "0        0.243375  69884.984375 -0.000153 -0.000153  ...     0.189831   \n",
       "1        0.146982  66662.125000 -0.005290 -0.005290  ...     0.101280   \n",
       "2        0.485934  81926.343750 -0.000508 -0.000508  ...     0.028361   \n",
       "3        0.403211  39761.117188 -0.001891 -0.001891  ...     0.095896   \n",
       "4       -0.323868  65556.718750 -0.000308 -0.000308  ...     0.078125   \n",
       "...           ...           ...       ...       ...  ...          ...   \n",
       "6959476 -0.256072   -999.000000  0.009986  0.009986  ...     1.595142   \n",
       "6959477 -0.777917   -999.000000  0.042303  0.042303  ...     0.190092   \n",
       "6959478  1.857466   -999.000000  0.787051  0.787051  ...     0.180428   \n",
       "6959479 -0.016638   -999.000000  0.019911  0.019911  ...     0.045811   \n",
       "6959480 -1.792377   -999.000000  0.323191  0.323191  ...     5.733376   \n",
       "\n",
       "         trk_TRT_PID1  trk_TRT_PID2  \\\n",
       "0           -0.027880     -0.006519   \n",
       "1            0.003245      0.103180   \n",
       "2            0.011771      0.005606   \n",
       "3           -0.041915     -0.012443   \n",
       "4            0.060672     -0.109327   \n",
       "...               ...           ...   \n",
       "6959476      0.003492      0.001162   \n",
       "6959477     -0.013276     -0.034302   \n",
       "6959478      0.017556     -0.239939   \n",
       "6959479     -0.023728     -0.020495   \n",
       "6959480      0.065902      0.231816   \n",
       "\n",
       "                                         file_name_label  truth_label  \\\n",
       "0        mc23a.PhPy8EG_NNPDF23_A14_ggH125_yys_ME002.root          1.0   \n",
       "1        mc23a.PhPy8EG_NNPDF23_A14_ggH125_yys_ME002.root          1.0   \n",
       "2        mc23a.PhPy8EG_NNPDF23_A14_ggH125_yys_ME002.root          1.0   \n",
       "3        mc23a.PhPy8EG_NNPDF23_A14_ggH125_yys_ME002.root          1.0   \n",
       "4        mc23a.PhPy8EG_NNPDF23_A14_ggH125_yys_ME002.root          1.0   \n",
       "...                                                  ...          ...   \n",
       "6959476          mc23e.Py8EG_A14NNPDF23LO_perf_JF50.root          0.0   \n",
       "6959477          mc23e.Py8EG_A14NNPDF23LO_perf_JF50.root          0.0   \n",
       "6959478          mc23e.Py8EG_A14NNPDF23LO_perf_JF50.root          0.0   \n",
       "6959479          mc23e.Py8EG_A14NNPDF23LO_perf_JF50.root          0.0   \n",
       "6959480          mc23e.Py8EG_A14NNPDF23LO_perf_JF50.root          0.0   \n",
       "\n",
       "         version_label  jf_label  weight_glob  weight_eta  weight_pt  \n",
       "0                    a       NaN         31.4    1.000000   1.000000  \n",
       "1                    a       NaN         31.4    1.000000   1.000000  \n",
       "2                    a       NaN         31.4    1.000000   1.000000  \n",
       "3                    a       NaN         31.4    1.000000   1.000000  \n",
       "4                    a       NaN         31.4    1.000000   1.000000  \n",
       "...                ...       ...          ...         ...        ...  \n",
       "6959476              e      50.0        109.8    0.269559   0.830037  \n",
       "6959477              e      50.0        109.8    0.245014   0.307747  \n",
       "6959478              e      50.0        109.8    0.149333   0.048554  \n",
       "6959479              e      50.0        109.8    0.261992   0.830037  \n",
       "6959480              e      50.0        109.8    0.136282   0.048554  \n",
       "\n",
       "[6959481 rows x 31 columns]"
      ]
     },
     "execution_count": 33,
     "metadata": {},
     "output_type": "execute_result"
    }
   ],
   "source": [
    "totald"
   ]
  },
  {
   "cell_type": "code",
   "execution_count": 34,
   "metadata": {},
   "outputs": [
    {
     "data": {
      "text/plain": [
       "[Text(0.5, 0, 'eta')]"
      ]
     },
     "execution_count": 34,
     "metadata": {},
     "output_type": "execute_result"
    },
    {
     "data": {
      "image/png": "[encoded data removed]",
      "text/plain": [
       "<Figure size 432x288 with 2 Axes>"
      ]
     },
     "metadata": {
      "needs_background": "light"
     },
     "output_type": "display_data"
    }
   ],
   "source": [
    "# **weighted** plot of signal + bkg\n",
    "\n",
    "plt.figure()\n",
    "plt.subplot(121)\n",
    "totald[ (totald[\"pt\"]<300) & (totald[\"truth_label\"]==0)][\"pt\"].plot.hist(bins=pt_bins,alpha=0.5,density='true',label='Background',legend='true', \n",
    "                                                                         weights=totald[ (totald[\"pt\"]<300) & (totald[\"truth_label\"]==0)][\"weight_pt\"])\n",
    "totald[ (totald[\"pt\"]<300) & (totald[\"truth_label\"]==1)][\"pt\"].plot.hist(bins=pt_bins,alpha=0.5,density='true',label='Signal',legend='true', \n",
    "                                                                         weights=totald[ (totald[\"pt\"]<300) & (totald[\"truth_label\"]==1)][\"weight_pt\"])\n",
    "plt.gca().set(xlabel=\"pt\")\n",
    "plt.subplot(122)\n",
    "totald[ (totald[\"pt\"]<300) & (totald[\"truth_label\"]==0)][\"eta\"].plot.hist(bins=nbins_eta,alpha=0.5,density='true',label='Background',legend='true', \n",
    "                                                                          weights=totald[ (totald[\"pt\"]<300) & (totald[\"truth_label\"]==0)][\"weight_eta\"])\n",
    "totald[ (totald[\"pt\"]<300) & (totald[\"truth_label\"]==1)][\"eta\"].plot.hist(bins=nbins_eta,alpha=0.5,density='true',label='Signal',legend='true', \n",
    "                                                                          weights=totald[ (totald[\"pt\"]<300) & (totald[\"truth_label\"]==1)][\"weight_eta\"])\n",
    "plt.gca().set(xlabel=\"eta\")"
   ]
  },
  {
   "cell_type": "code",
   "execution_count": 35,
   "metadata": {},
   "outputs": [
    {
     "data": {
      "text/plain": [
       "[Text(0.5, 0, 'pt')]"
      ]
     },
     "execution_count": 35,
     "metadata": {},
     "output_type": "execute_result"
    },
    {
     "data": {
      "image/png": "[encoded data removed]",
      "text/plain": [
       "<Figure size 432x288 with 1 Axes>"
      ]
     },
     "metadata": {
      "needs_background": "light"
     },
     "output_type": "display_data"
    }
   ],
   "source": [
    "# histograms\n",
    "\n",
    "h_pt_bkg_w = plt.hist( totald[ totald[\"truth_label\"]==0 ][\"pt\"] ,\n",
    "                     weights = totald[ totald[\"truth_label\"]==0 ][\"weight_pt\"] * totald[ totald[\"truth_label\"]==0 ][\"weight_glob\"],\n",
    "                     histtype='stepfilled', log = True, bins = pt_bins )\n",
    "\n",
    "h_pt_sig_w = plt.hist( totald[ totald[\"truth_label\"]==1 ][\"pt\"] ,\n",
    "                     weights = totald[ totald[\"truth_label\"]==1 ][\"weight_pt\"] * totald[ totald[\"truth_label\"]==1 ][\"weight_glob\"],\n",
    "                     histtype='step', log = True, bins = pt_bins )\n",
    "plt.gca().set(xlabel=\"pt\")"
   ]
  },
  {
   "cell_type": "code",
   "execution_count": 41,
   "metadata": {},
   "outputs": [
    {
     "data": {
      "text/plain": [
       "0          69.194923\n",
       "1          59.034683\n",
       "2          72.487686\n",
       "3          31.882032\n",
       "4          63.155869\n",
       "             ...    \n",
       "6959476    92.025726\n",
       "6959477    44.111832\n",
       "6959478    28.396282\n",
       "6959479    89.160271\n",
       "6959480    32.300037\n",
       "Name: pt, Length: 6959481, dtype: float32"
      ]
     },
     "execution_count": 41,
     "metadata": {},
     "output_type": "execute_result"
    }
   ],
   "source": [
    "# try to create a binning of pt without empty bins\n",
    "# solution: i create bin starting from quantiles\n",
    "\n",
    "totald[\"pt\"]"
   ]
  },
  {
   "cell_type": "code",
   "execution_count": 42,
   "metadata": {},
   "outputs": [
    {
     "data": {
      "text/plain": [
       "array([  20.00011826,   22.53387592,   24.99445114,   27.32638313,\n",
       "         29.54048584,   31.59573593,   33.59473083,   35.51559387,\n",
       "         37.3269046 ,   39.06497086,   40.71513977,   42.3111763 ,\n",
       "         43.82528198,   45.30746559,   46.73281754,   48.13523331,\n",
       "         49.49093964,   50.79917679,   52.08145142,   53.33033188,\n",
       "         54.57014084,   55.78090446,   56.98805847,   58.18824905,\n",
       "         59.41526016,   60.64873505,   61.93653641,   63.25086426,\n",
       "         64.66784088,   66.15344513,   67.78033752,   69.52042877,\n",
       "         71.38991364,   73.43442719,   75.60434357,   77.96628571,\n",
       "         80.53009674,   83.40832367,   86.54327026,   90.01074554,\n",
       "         93.83328857,   98.14267883,  102.9843985 ,  108.63379318,\n",
       "        115.1998111 ,  123.11605606,  133.11856873,  146.40746948,\n",
       "        165.42050842,  201.21599731, 1533.91992188])"
      ]
     },
     "execution_count": 42,
     "metadata": {},
     "output_type": "execute_result"
    }
   ],
   "source": [
    "edge_var_pt = np.percentile(totald[\"pt\"][ totald[\"truth_label\"]==1 ], np.linspace(0, 100, nbins_pt + 1))\n",
    "edge_var_pt"
   ]
  },
  {
   "cell_type": "code",
   "execution_count": 43,
   "metadata": {},
   "outputs": [
    {
     "data": {
      "text/plain": [
       "array([  19.90000191,   22.53387592,   24.99445114,   27.32638313,\n",
       "         29.54048584,   31.59573593,   33.59473083,   35.51559387,\n",
       "         37.3269046 ,   39.06497086,   40.71513977,   42.3111763 ,\n",
       "         43.82528198,   45.30746559,   46.73281754,   48.13523331,\n",
       "         49.49093964,   50.79917679,   52.08145142,   53.33033188,\n",
       "         54.57014084,   55.78090446,   56.98805847,   58.18824905,\n",
       "         59.41526016,   60.64873505,   61.93653641,   63.25086426,\n",
       "         64.66784088,   66.15344513,   67.78033752,   69.52042877,\n",
       "         71.38991364,   73.43442719,   75.60434357,   77.96628571,\n",
       "         80.53009674,   83.40832367,   86.54327026,   90.01074554,\n",
       "         93.83328857,   98.14267883,  102.9843985 ,  108.63379318,\n",
       "        115.1998111 ,  123.11605606,  133.11856873,  146.40746948,\n",
       "        165.42050842,  201.21599731, 1825.59511719])"
      ]
     },
     "execution_count": 43,
     "metadata": {},
     "output_type": "execute_result"
    }
   ],
   "source": [
    "# correction on edges: add min and max of the total dataframe\n",
    "epsilon = 0.1\n",
    "edge_var_pt[0] = np.min(totald[\"pt\"]) - epsilon\n",
    "edge_var_pt[-1] = np.max(totald[\"pt\"]) + epsilon\n",
    "edge_var_pt"
   ]
  },
  {
   "cell_type": "code",
   "execution_count": 44,
   "metadata": {},
   "outputs": [
    {
     "data": {
      "text/plain": [
       "<matplotlib.legend.Legend at 0x7f442f5ad460>"
      ]
     },
     "execution_count": 44,
     "metadata": {},
     "output_type": "execute_result"
    },
    {
     "data": {
      "image/png": "[encoded data removed]",
      "text/plain": [
       "<Figure size 432x288 with 1 Axes>"
      ]
     },
     "metadata": {
      "needs_background": "light"
     },
     "output_type": "display_data"
    }
   ],
   "source": [
    "# restart weights calculation with the these corrected bins\n",
    "\n",
    "# histograms\n",
    "# pt_bins ---> edge_var_pt\n",
    "\n",
    "h_pt_bkg = plt.hist( totald[ totald[\"truth_label\"]==0 ][\"pt\"], \n",
    "                        weights = totald[ totald[\"truth_label\"] == 0][\"weight_glob\"],\n",
    "                        histtype='step', log = True, bins = edge_var_pt, density='true',\n",
    "                        label='Background')\n",
    "\n",
    "h_pt_sig = plt.hist( totald[ totald[\"truth_label\"]==1 ][\"pt\"] ,\n",
    "                        weights = totald[ totald[\"truth_label\"]==1 ][\"weight_glob\"],\n",
    "                        histtype='step', log = True, bins = edge_var_pt, density='true',\n",
    "                        label='Signal')\n",
    "\n",
    "plt.gca().set(xlabel=\"pt\")\n",
    "plt.legend(loc=\"upper right\")"
   ]
  },
  {
   "cell_type": "code",
   "execution_count": 45,
   "metadata": {},
   "outputs": [
    {
     "data": {
      "text/plain": [
       "array([0.12784062, 0.16968067, 0.21888447, 0.27553445, 0.349783  ,\n",
       "       0.41038486, 0.47173522, 0.55669185, 0.64312508, 0.72935446,\n",
       "       0.82658675, 0.93695189, 1.02361226, 1.13665111, 1.22711019,\n",
       "       1.37351836, 1.53011265, 1.68548944, 1.86602162, 2.02362254,\n",
       "       2.21237593, 2.35803266, 2.58336229, 2.70141832, 2.90794195,\n",
       "       2.9905601 , 3.20931575, 3.1794773 , 3.3209615 , 3.25990136,\n",
       "       3.33878349, 3.35907649, 3.41157526, 3.5765279 , 3.64651131,\n",
       "       3.80070674, 3.92712484, 4.14720502, 4.33236985, 4.53873133,\n",
       "       4.79103574, 5.1496812 , 5.32180782, 5.73423453, 5.97006587,\n",
       "       6.49980062, 6.8276899 , 7.63598579, 7.82439722, 7.90899133])"
      ]
     },
     "execution_count": 45,
     "metadata": {},
     "output_type": "execute_result"
    }
   ],
   "source": [
    "# weight calculation\n",
    "\n",
    "pt_w = h_pt_sig[0] / h_pt_bkg[0]\n",
    "pt_w"
   ]
  },
  {
   "cell_type": "code",
   "execution_count": 46,
   "metadata": {},
   "outputs": [
    {
     "data": {
      "text/plain": [
       "0          31\n",
       "1          24\n",
       "2          33\n",
       "3           6\n",
       "4          27\n",
       "           ..\n",
       "6959476    40\n",
       "6959477    13\n",
       "6959478     4\n",
       "6959479    39\n",
       "6959480     6\n",
       "Length: 6959481, dtype: int64"
      ]
     },
     "execution_count": 46,
     "metadata": {},
     "output_type": "execute_result"
    }
   ],
   "source": [
    "# calcultate for each (not only bkg!) event what bin it belongs to\n",
    "\n",
    "bin_idx_bkg_pt = np.digitize(totald[\"pt\"], edge_var_pt)\n",
    "idx_bkg_pt = pd.Series(bin_idx_bkg_pt)\n",
    "idx_bkg_pt"
   ]
  },
  {
   "cell_type": "code",
   "execution_count": 47,
   "metadata": {},
   "outputs": [
    {
     "data": {
      "text/plain": [
       "0          3.338783\n",
       "1          2.701418\n",
       "2          3.411575\n",
       "3          0.410385\n",
       "4          3.209316\n",
       "             ...   \n",
       "6959476    4.538731\n",
       "6959477    1.023612\n",
       "6959478    0.275534\n",
       "6959479    4.332370\n",
       "6959480    0.410385\n",
       "Length: 6959481, dtype: float64"
      ]
     },
     "execution_count": 47,
     "metadata": {},
     "output_type": "execute_result"
    }
   ],
   "source": [
    "# map every bin to the corresponding weight\n",
    "\n",
    "dfw_bkg_pt = idx_bkg_pt.map({i+1 : pt_w[i] for i in range(nbins_pt)})\n",
    "dfw_bkg_pt"
   ]
  },
  {
   "cell_type": "code",
   "execution_count": 48,
   "metadata": {},
   "outputs": [
    {
     "data": {
      "text/plain": [
       "0          1.000000\n",
       "1          1.000000\n",
       "2          1.000000\n",
       "3          1.000000\n",
       "4          1.000000\n",
       "             ...   \n",
       "6959476    4.538731\n",
       "6959477    1.023612\n",
       "6959478    0.275534\n",
       "6959479    4.332370\n",
       "6959480    0.410385\n",
       "Name: weight_pt, Length: 6959481, dtype: float64"
      ]
     },
     "execution_count": 48,
     "metadata": {},
     "output_type": "execute_result"
    }
   ],
   "source": [
    "# attach weights to the dataframe, with condition on signal events\n",
    "\n",
    "totald[\"weight_pt\"] = dfw_bkg_pt.where( totald[\"truth_label\"]==0 , 1.)\n",
    "totald[\"weight_pt\"]"
   ]
  },
  {
   "cell_type": "code",
   "execution_count": 49,
   "metadata": {},
   "outputs": [
    {
     "data": {
      "text/plain": [
       "<matplotlib.legend.Legend at 0x7f442ed80a60>"
      ]
     },
     "execution_count": 49,
     "metadata": {},
     "output_type": "execute_result"
    },
    {
     "data": {
      "image/png": "[encoded data removed]",
      "text/plain": [
       "<Figure size 432x288 with 1 Axes>"
      ]
     },
     "metadata": {
      "needs_background": "light"
     },
     "output_type": "display_data"
    }
   ],
   "source": [
    "# histograms with pt_w on bkg\n",
    "\n",
    "\n",
    "h_pt_bkg = plt.hist( totald[ totald[\"truth_label\"]==0 ][\"pt\"], \n",
    "                        weights = totald[ totald[\"truth_label\"] == 0][\"weight_glob\"] * totald[ totald[\"truth_label\"]==0 ][\"weight_pt\"],\n",
    "                        histtype='stepfilled', log = True, bins = edge_var_pt, density='true',\n",
    "                        label='Background')\n",
    "\n",
    "h_pt_sig = plt.hist( totald[ totald[\"truth_label\"]==1 ][\"pt\"] ,\n",
    "                        weights = totald[ totald[\"truth_label\"]==1 ][\"weight_glob\"] * totald[ totald[\"truth_label\"]==1 ][\"weight_pt\"],\n",
    "                        histtype='step', log = True, bins = edge_var_pt, density='true',\n",
    "                        label='Signal')\n",
    "\n",
    "plt.gca().set(xlabel=\"pt\")\n",
    "plt.legend(loc=\"upper right\")"
   ]
  },
  {
   "cell_type": "code",
   "execution_count": 50,
   "metadata": {},
   "outputs": [],
   "source": [
    "# test on correlation: **total weights**\n",
    "\n",
    "totald[\"weight_tot\"] = totald[\"weight_pt\"] * totald[\"weight_eta\"] * totald[\"weight_glob\"]"
   ]
  },
  {
   "cell_type": "code",
   "execution_count": 51,
   "metadata": {},
   "outputs": [
    {
     "data": {
      "text/plain": [
       "Text(0.5, 1.0, 'Eta with total weights')"
      ]
     },
     "execution_count": 51,
     "metadata": {},
     "output_type": "execute_result"
    },
    {
     "data": {
      "image/png": "[encoded data removed]",
      "text/plain": [
       "<Figure size 432x288 with 1 Axes>"
      ]
     },
     "metadata": {
      "needs_background": "light"
     },
     "output_type": "display_data"
    }
   ],
   "source": [
    "# final weighted eta plot\n",
    "\n",
    "# histograms\n",
    "h_eta_bkg = plt.hist( totald[ totald[\"truth_label\"]==0 ][\"eta\"] ,\n",
    "                     weights = totald[ totald[\"truth_label\"]==0 ][\"weight_tot\"],\n",
    "                     histtype='stepfilled', bins = eta_bins,\n",
    "                     label='Background')\n",
    "\n",
    "\n",
    "h_eta_sig = plt.hist( totald[ totald[\"truth_label\"]==1 ][\"eta\"] ,\n",
    "                     weights = totald[ totald[\"truth_label\"]==1 ][\"weight_tot\"],\n",
    "                     histtype='step', log = True, bins = eta_bins,\n",
    "                     label='Signal')\n",
    "\n",
    "plt.gca().set(xlabel=\"pt\")\n",
    "plt.legend(loc=\"upper right\")\n",
    "plt.title(\"Eta with total weights\")"
   ]
  },
  {
   "cell_type": "code",
   "execution_count": 53,
   "metadata": {},
   "outputs": [
    {
     "data": {
      "text/plain": [
       "Text(0.5, 1.0, 'pt with total weights')"
      ]
     },
     "execution_count": 53,
     "metadata": {},
     "output_type": "execute_result"
    },
    {
     "data": {
      "image/png": "[encoded data removed]",
      "text/plain": [
       "<Figure size 432x288 with 1 Axes>"
      ]
     },
     "metadata": {
      "needs_background": "light"
     },
     "output_type": "display_data"
    }
   ],
   "source": [
    "# final weighted pt plot\n",
    "\n",
    "\n",
    "h_pt_bkg = plt.hist( totald[ totald[\"truth_label\"]==0 ][\"pt\"], \n",
    "                        weights = totald[ totald[\"truth_label\"] == 0][\"weight_tot\"],\n",
    "                        histtype='stepfilled', log = True, bins = edge_var_pt, density='true',\n",
    "                        label='Background')\n",
    "\n",
    "h_pt_sig = plt.hist( totald[ totald[\"truth_label\"]==1 ][\"pt\"] ,\n",
    "                        weights = totald[ totald[\"truth_label\"]==1 ][\"weight_tot\"],\n",
    "                        histtype='step', log = True, bins = edge_var_pt, density='true',\n",
    "                        label='Signal')\n",
    "\n",
    "plt.gca().set(xlabel=\"pt\")\n",
    "plt.legend(loc=\"upper right\")\n",
    "plt.title(\"pt with total weights\")"
   ]
  },
  {
   "cell_type": "code",
   "execution_count": null,
   "metadata": {},
   "outputs": [],
   "source": []
  }
 ],
 "metadata": {
  "kernelspec": {
   "display_name": "venv-lcg-103",
   "language": "python",
   "name": "venv-lcg-103"
  },
  "language_info": {
   "codemirror_mode": {
    "name": "ipython",
    "version": 3
   },
   "file_extension": ".py",
   "mimetype": "text/x-python",
   "name": "python",
   "nbconvert_exporter": "python",
   "pygments_lexer": "ipython3",
   "version": "3.9.12"
  }
 },
 "nbformat": 4,
 "nbformat_minor": 2
}
