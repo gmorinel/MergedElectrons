{
 "cells": [
  {
   "cell_type": "code",
   "execution_count": 1,
   "id": "4be59197",
   "metadata": {},
   "outputs": [],
   "source": [
    "# import libraries\n",
    "\n",
    "import uproot\n",
    "import matplotlib.pyplot as plt\n",
    "import numpy as np\n",
    "import lightgbm as lgb\n",
    "import pandas as pd\n",
    "from sklearn.model_selection import train_test_split\n",
    "from sklearn.model_selection import GridSearchCV\n",
    "from sklearn.metrics import confusion_matrix\n",
    "\n",
    "# import scikitplot as skplt\n",
    "\n",
    "import os"
   ]
  },
  {
   "cell_type": "code",
   "execution_count": 2,
   "id": "4c35e396",
   "metadata": {},
   "outputs": [],
   "source": [
    "# define variables (features)\n",
    "\n",
    "# discriminating_variables = [\"pt\", \"eta\", \"phi\", \"true_E\", \"Rhad\", \"Rhad1\", \n",
    "#                            \"Reta\", \"Rphi\", \"Eratio\", \"DeltaE\", \"wEta1\", \"wEta2\",\n",
    "#                            \"wTotS1\"]\n",
    "discriminating_variables = [\"pt\", \"eta\", \"true_E\", \"Rhad\", \"Rhad1\",\n",
    "                            \"Reta\", \"Rphi\", \"Eratio\", \"DeltaE\", \"f3\", \"wEta2\",\n",
    "                            \"wTotS1\", \"trk_dEta1\", \"EoverP\",\n",
    "                            \"vtx_dphi\", \"vtx_deta\", \"vtx_deltaZ0\", \n",
    "                            \"trk_TRT_PID1\", \"trk_TRT_PID2\"]\n",
    "\n",
    "# add slso ISO correction\n",
    "variables = [\"eventNumber\", \"pdgId\", \"parentPdgId\", \"isLoose\", \"isTight\", \"isIsoWithCorr_Loose\" ] + discriminating_variables"
   ]
  },
  {
   "cell_type": "code",
   "execution_count": 3,
   "id": "a7c7dc51",
   "metadata": {},
   "outputs": [
    {
     "name": "stdout",
     "output_type": "stream",
     "text": [
      "['mc23a.PhPy8EG_NNPDF23_A14_ggH125_yys_ME002.root', 'mc23a.PhPy8EG_NNPDF23_A14_ggZH125_yys_ME002.root', 'mc23a.PhPy8EG_NNPDF23_A14_ttH125_yys_ME002.root', 'mc23a.PhPy8EG_NNPDF23_A14_VBFH125_yys_ME002.root', 'mc23a.PhPy8EG_NNPDF23_A14_WmH125J_yys_ME002.root', 'mc23a.PhPy8EG_NNPDF23_A14_WpH125J_yys_ME002.root', 'mc23a.PhPy8EG_NNPDF23_A14_ZH125J_yys_ME002.root', 'mc23d.PhPy8EG_NNPDF23_A14_ggH125_yys_ME002.root', 'mc23d.PhPy8EG_NNPDF23_A14_ggZH125_yys_ME002.root', 'mc23d.PhPy8EG_NNPDF23_A14_ttH125_yys_ME002.root', 'mc23d.PhPy8EG_NNPDF23_A14_VBFH125_yys_ME002.root', 'mc23d.PhPy8EG_NNPDF23_A14_WmH125J_yys_ME002.root', 'mc23d.PhPy8EG_NNPDF23_A14_WpH125J_yys_ME002.root', 'mc23d.PhPy8EG_NNPDF23_A14_ZH125J_yys_ME002.root', 'mc23e.PhPy8EG_NNPDF23_A14_ggH125_yys_ME002.root', 'mc23e.PhPy8EG_NNPDF23_A14_ggZH125_yys_ME002.root', 'mc23e.PhPy8EG_NNPDF23_A14_ttH125_yys_ME002.root', 'mc23e.PhPy8EG_NNPDF23_A14_WmH125J_yys_ME002.root', 'mc23e.PhPy8EG_NNPDF23_A14_WpH125J_yys_ME002.root', 'mc23e.PhPy8EG_NNPDF23_A14_ZH125J_yys_ME002.root', 'mc23e.PhPy8EG_NNPDF23_A14_VBFH125_yys_ME002.root']\n"
     ]
    }
   ],
   "source": [
    "# Now read from all the sample files in the directory\n",
    "\n",
    "# What's the plan:\n",
    "# 1 - save all file names\n",
    "# 2 - create a cycle with a temporary data frame\n",
    "# 3 - add distinctive labels to the data frame and concatenate \n",
    "#     with the total data frame (i use pd.concat)\n",
    "\n",
    "signal_file_names = os.listdir(\"/storage_tmp/atlas/lnasella/yystar/MergedElectronID\"+\n",
    "                    \"/Run3/Ntuples/yys_ME002/signal\")\n",
    "\n",
    "print(signal_file_names)"
   ]
  },
  {
   "cell_type": "code",
   "execution_count": 4,
   "id": "30f97d60",
   "metadata": {},
   "outputs": [
    {
     "name": "stdout",
     "output_type": "stream",
     "text": [
      "File #0: mc23a.PhPy8EG_NNPDF23_A14_ggH125_yys_ME002.root\n",
      "File #1: mc23a.PhPy8EG_NNPDF23_A14_ggZH125_yys_ME002.root\n",
      "File #2: mc23a.PhPy8EG_NNPDF23_A14_ttH125_yys_ME002.root\n",
      "File #3: mc23a.PhPy8EG_NNPDF23_A14_VBFH125_yys_ME002.root\n",
      "File #4: mc23a.PhPy8EG_NNPDF23_A14_WmH125J_yys_ME002.root\n",
      "File #5: mc23a.PhPy8EG_NNPDF23_A14_WpH125J_yys_ME002.root\n",
      "File #6: mc23a.PhPy8EG_NNPDF23_A14_ZH125J_yys_ME002.root\n",
      "File #7: mc23d.PhPy8EG_NNPDF23_A14_ggH125_yys_ME002.root\n",
      "File #8: mc23d.PhPy8EG_NNPDF23_A14_ggZH125_yys_ME002.root\n",
      "File #9: mc23d.PhPy8EG_NNPDF23_A14_ttH125_yys_ME002.root\n",
      "File #10: mc23d.PhPy8EG_NNPDF23_A14_VBFH125_yys_ME002.root\n",
      "File #11: mc23d.PhPy8EG_NNPDF23_A14_WmH125J_yys_ME002.root\n",
      "File #12: mc23d.PhPy8EG_NNPDF23_A14_WpH125J_yys_ME002.root\n",
      "File #13: mc23d.PhPy8EG_NNPDF23_A14_ZH125J_yys_ME002.root\n",
      "File #14: mc23e.PhPy8EG_NNPDF23_A14_ggH125_yys_ME002.root\n",
      "File #15: mc23e.PhPy8EG_NNPDF23_A14_ggZH125_yys_ME002.root\n",
      "File #16: mc23e.PhPy8EG_NNPDF23_A14_ttH125_yys_ME002.root\n",
      "File #17: mc23e.PhPy8EG_NNPDF23_A14_WmH125J_yys_ME002.root\n",
      "File #18: mc23e.PhPy8EG_NNPDF23_A14_WpH125J_yys_ME002.root\n",
      "File #19: mc23e.PhPy8EG_NNPDF23_A14_ZH125J_yys_ME002.root\n",
      "File #20: mc23e.PhPy8EG_NNPDF23_A14_VBFH125_yys_ME002.root\n",
      "Signal events:\n"
     ]
    },
    {
     "data": {
      "text/html": [
       "<div>\n",
       "<style scoped>\n",
       "    .dataframe tbody tr th:only-of-type {\n",
       "        vertical-align: middle;\n",
       "    }\n",
       "\n",
       "    .dataframe tbody tr th {\n",
       "        vertical-align: top;\n",
       "    }\n",
       "\n",
       "    .dataframe thead th {\n",
       "        text-align: right;\n",
       "    }\n",
       "</style>\n",
       "<table border=\"1\" class=\"dataframe\">\n",
       "  <thead>\n",
       "    <tr style=\"text-align: right;\">\n",
       "      <th></th>\n",
       "      <th>eventNumber</th>\n",
       "      <th>pdgId</th>\n",
       "      <th>parentPdgId</th>\n",
       "      <th>isLoose</th>\n",
       "      <th>isTight</th>\n",
       "      <th>isIsoWithCorr_Loose</th>\n",
       "      <th>pt</th>\n",
       "      <th>eta</th>\n",
       "      <th>true_E</th>\n",
       "      <th>Rhad</th>\n",
       "      <th>...</th>\n",
       "      <th>trk_dEta1</th>\n",
       "      <th>EoverP</th>\n",
       "      <th>vtx_dphi</th>\n",
       "      <th>vtx_deta</th>\n",
       "      <th>vtx_deltaZ0</th>\n",
       "      <th>trk_TRT_PID1</th>\n",
       "      <th>trk_TRT_PID2</th>\n",
       "      <th>file_name_label</th>\n",
       "      <th>truth_label</th>\n",
       "      <th>version_label</th>\n",
       "    </tr>\n",
       "  </thead>\n",
       "  <tbody>\n",
       "    <tr>\n",
       "      <th>0</th>\n",
       "      <td>216001</td>\n",
       "      <td>-11</td>\n",
       "      <td>22</td>\n",
       "      <td>0</td>\n",
       "      <td>0</td>\n",
       "      <td>1</td>\n",
       "      <td>22.755053</td>\n",
       "      <td>-2.289498</td>\n",
       "      <td>146130.046875</td>\n",
       "      <td>-0.007179</td>\n",
       "      <td>...</td>\n",
       "      <td>0.002138</td>\n",
       "      <td>5.548630</td>\n",
       "      <td>-0.011435</td>\n",
       "      <td>-0.000552</td>\n",
       "      <td>0.114830</td>\n",
       "      <td>-0.000000</td>\n",
       "      <td>-0.000000</td>\n",
       "      <td>mc23a.PhPy8EG_NNPDF23_A14_ggH125_yys_ME002.root</td>\n",
       "      <td>1.0</td>\n",
       "      <td>a</td>\n",
       "    </tr>\n",
       "    <tr>\n",
       "      <th>1</th>\n",
       "      <td>216035</td>\n",
       "      <td>11</td>\n",
       "      <td>22</td>\n",
       "      <td>1</td>\n",
       "      <td>0</td>\n",
       "      <td>1</td>\n",
       "      <td>90.648857</td>\n",
       "      <td>-0.126479</td>\n",
       "      <td>-999.000000</td>\n",
       "      <td>0.001414</td>\n",
       "      <td>...</td>\n",
       "      <td>0.000310</td>\n",
       "      <td>1.007238</td>\n",
       "      <td>0.004516</td>\n",
       "      <td>-0.001034</td>\n",
       "      <td>161.324081</td>\n",
       "      <td>-0.013623</td>\n",
       "      <td>-0.026559</td>\n",
       "      <td>mc23a.PhPy8EG_NNPDF23_A14_ggH125_yys_ME002.root</td>\n",
       "      <td>1.0</td>\n",
       "      <td>a</td>\n",
       "    </tr>\n",
       "    <tr>\n",
       "      <th>2</th>\n",
       "      <td>216028</td>\n",
       "      <td>11</td>\n",
       "      <td>11</td>\n",
       "      <td>1</td>\n",
       "      <td>0</td>\n",
       "      <td>1</td>\n",
       "      <td>69.194923</td>\n",
       "      <td>0.243375</td>\n",
       "      <td>69884.984375</td>\n",
       "      <td>-0.000153</td>\n",
       "      <td>...</td>\n",
       "      <td>0.003101</td>\n",
       "      <td>1.181469</td>\n",
       "      <td>0.000508</td>\n",
       "      <td>0.003027</td>\n",
       "      <td>0.189831</td>\n",
       "      <td>-0.027880</td>\n",
       "      <td>-0.006519</td>\n",
       "      <td>mc23a.PhPy8EG_NNPDF23_A14_ggH125_yys_ME002.root</td>\n",
       "      <td>1.0</td>\n",
       "      <td>a</td>\n",
       "    </tr>\n",
       "    <tr>\n",
       "      <th>3</th>\n",
       "      <td>216004</td>\n",
       "      <td>11</td>\n",
       "      <td>11</td>\n",
       "      <td>0</td>\n",
       "      <td>0</td>\n",
       "      <td>1</td>\n",
       "      <td>23.591095</td>\n",
       "      <td>1.128625</td>\n",
       "      <td>83809.289062</td>\n",
       "      <td>-0.003850</td>\n",
       "      <td>...</td>\n",
       "      <td>-0.001529</td>\n",
       "      <td>0.472209</td>\n",
       "      <td>0.021275</td>\n",
       "      <td>0.000882</td>\n",
       "      <td>0.028795</td>\n",
       "      <td>0.023110</td>\n",
       "      <td>0.096197</td>\n",
       "      <td>mc23a.PhPy8EG_NNPDF23_A14_ggH125_yys_ME002.root</td>\n",
       "      <td>1.0</td>\n",
       "      <td>a</td>\n",
       "    </tr>\n",
       "    <tr>\n",
       "      <th>4</th>\n",
       "      <td>216005</td>\n",
       "      <td>-11</td>\n",
       "      <td>-11</td>\n",
       "      <td>1</td>\n",
       "      <td>0</td>\n",
       "      <td>1</td>\n",
       "      <td>59.034683</td>\n",
       "      <td>0.146982</td>\n",
       "      <td>66662.125000</td>\n",
       "      <td>-0.005290</td>\n",
       "      <td>...</td>\n",
       "      <td>-0.000149</td>\n",
       "      <td>0.993656</td>\n",
       "      <td>0.002240</td>\n",
       "      <td>-0.008324</td>\n",
       "      <td>0.101280</td>\n",
       "      <td>0.003245</td>\n",
       "      <td>0.103180</td>\n",
       "      <td>mc23a.PhPy8EG_NNPDF23_A14_ggH125_yys_ME002.root</td>\n",
       "      <td>1.0</td>\n",
       "      <td>a</td>\n",
       "    </tr>\n",
       "    <tr>\n",
       "      <th>...</th>\n",
       "      <td>...</td>\n",
       "      <td>...</td>\n",
       "      <td>...</td>\n",
       "      <td>...</td>\n",
       "      <td>...</td>\n",
       "      <td>...</td>\n",
       "      <td>...</td>\n",
       "      <td>...</td>\n",
       "      <td>...</td>\n",
       "      <td>...</td>\n",
       "      <td>...</td>\n",
       "      <td>...</td>\n",
       "      <td>...</td>\n",
       "      <td>...</td>\n",
       "      <td>...</td>\n",
       "      <td>...</td>\n",
       "      <td>...</td>\n",
       "      <td>...</td>\n",
       "      <td>...</td>\n",
       "      <td>...</td>\n",
       "      <td>...</td>\n",
       "    </tr>\n",
       "    <tr>\n",
       "      <th>2386937</th>\n",
       "      <td>869995</td>\n",
       "      <td>11</td>\n",
       "      <td>22</td>\n",
       "      <td>1</td>\n",
       "      <td>0</td>\n",
       "      <td>1</td>\n",
       "      <td>43.748730</td>\n",
       "      <td>1.992245</td>\n",
       "      <td>-999.000000</td>\n",
       "      <td>0.005533</td>\n",
       "      <td>...</td>\n",
       "      <td>-0.000046</td>\n",
       "      <td>2.554826</td>\n",
       "      <td>-0.006597</td>\n",
       "      <td>-0.000133</td>\n",
       "      <td>37.528984</td>\n",
       "      <td>-0.049290</td>\n",
       "      <td>-0.313752</td>\n",
       "      <td>mc23e.PhPy8EG_NNPDF23_A14_VBFH125_yys_ME002.root</td>\n",
       "      <td>1.0</td>\n",
       "      <td>e</td>\n",
       "    </tr>\n",
       "    <tr>\n",
       "      <th>2386938</th>\n",
       "      <td>869962</td>\n",
       "      <td>211</td>\n",
       "      <td>21</td>\n",
       "      <td>0</td>\n",
       "      <td>0</td>\n",
       "      <td>0</td>\n",
       "      <td>29.664747</td>\n",
       "      <td>2.050288</td>\n",
       "      <td>-999.000000</td>\n",
       "      <td>0.030641</td>\n",
       "      <td>...</td>\n",
       "      <td>-0.006547</td>\n",
       "      <td>3.156963</td>\n",
       "      <td>-0.002576</td>\n",
       "      <td>0.015868</td>\n",
       "      <td>0.007011</td>\n",
       "      <td>0.070282</td>\n",
       "      <td>-0.076030</td>\n",
       "      <td>mc23e.PhPy8EG_NNPDF23_A14_VBFH125_yys_ME002.root</td>\n",
       "      <td>1.0</td>\n",
       "      <td>e</td>\n",
       "    </tr>\n",
       "    <tr>\n",
       "      <th>2386939</th>\n",
       "      <td>869992</td>\n",
       "      <td>-211</td>\n",
       "      <td>1</td>\n",
       "      <td>0</td>\n",
       "      <td>0</td>\n",
       "      <td>0</td>\n",
       "      <td>51.552727</td>\n",
       "      <td>-0.644728</td>\n",
       "      <td>-999.000000</td>\n",
       "      <td>0.085393</td>\n",
       "      <td>...</td>\n",
       "      <td>-0.001550</td>\n",
       "      <td>1.221653</td>\n",
       "      <td>-0.010733</td>\n",
       "      <td>-0.009579</td>\n",
       "      <td>8.001463</td>\n",
       "      <td>-0.028163</td>\n",
       "      <td>0.008598</td>\n",
       "      <td>mc23e.PhPy8EG_NNPDF23_A14_VBFH125_yys_ME002.root</td>\n",
       "      <td>1.0</td>\n",
       "      <td>e</td>\n",
       "    </tr>\n",
       "    <tr>\n",
       "      <th>2386940</th>\n",
       "      <td>869977</td>\n",
       "      <td>211</td>\n",
       "      <td>413</td>\n",
       "      <td>0</td>\n",
       "      <td>0</td>\n",
       "      <td>0</td>\n",
       "      <td>23.493425</td>\n",
       "      <td>-1.155032</td>\n",
       "      <td>-999.000000</td>\n",
       "      <td>0.396828</td>\n",
       "      <td>...</td>\n",
       "      <td>0.020910</td>\n",
       "      <td>1.651285</td>\n",
       "      <td>-0.061262</td>\n",
       "      <td>-0.025502</td>\n",
       "      <td>0.029808</td>\n",
       "      <td>-0.052335</td>\n",
       "      <td>0.065770</td>\n",
       "      <td>mc23e.PhPy8EG_NNPDF23_A14_VBFH125_yys_ME002.root</td>\n",
       "      <td>1.0</td>\n",
       "      <td>e</td>\n",
       "    </tr>\n",
       "    <tr>\n",
       "      <th>2386941</th>\n",
       "      <td>869994</td>\n",
       "      <td>-211</td>\n",
       "      <td>-421</td>\n",
       "      <td>0</td>\n",
       "      <td>0</td>\n",
       "      <td>0</td>\n",
       "      <td>22.868505</td>\n",
       "      <td>-1.832680</td>\n",
       "      <td>-999.000000</td>\n",
       "      <td>0.457222</td>\n",
       "      <td>...</td>\n",
       "      <td>0.003254</td>\n",
       "      <td>1.057131</td>\n",
       "      <td>-0.016308</td>\n",
       "      <td>-0.010824</td>\n",
       "      <td>0.154910</td>\n",
       "      <td>0.052869</td>\n",
       "      <td>-0.085051</td>\n",
       "      <td>mc23e.PhPy8EG_NNPDF23_A14_VBFH125_yys_ME002.root</td>\n",
       "      <td>1.0</td>\n",
       "      <td>e</td>\n",
       "    </tr>\n",
       "  </tbody>\n",
       "</table>\n",
       "<p>2386942 rows × 28 columns</p>\n",
       "</div>"
      ],
      "text/plain": [
       "         eventNumber  pdgId  parentPdgId  isLoose  isTight  \\\n",
       "0             216001    -11           22        0        0   \n",
       "1             216035     11           22        1        0   \n",
       "2             216028     11           11        1        0   \n",
       "3             216004     11           11        0        0   \n",
       "4             216005    -11          -11        1        0   \n",
       "...              ...    ...          ...      ...      ...   \n",
       "2386937       869995     11           22        1        0   \n",
       "2386938       869962    211           21        0        0   \n",
       "2386939       869992   -211            1        0        0   \n",
       "2386940       869977    211          413        0        0   \n",
       "2386941       869994   -211         -421        0        0   \n",
       "\n",
       "         isIsoWithCorr_Loose         pt       eta         true_E      Rhad  \\\n",
       "0                          1  22.755053 -2.289498  146130.046875 -0.007179   \n",
       "1                          1  90.648857 -0.126479    -999.000000  0.001414   \n",
       "2                          1  69.194923  0.243375   69884.984375 -0.000153   \n",
       "3                          1  23.591095  1.128625   83809.289062 -0.003850   \n",
       "4                          1  59.034683  0.146982   66662.125000 -0.005290   \n",
       "...                      ...        ...       ...            ...       ...   \n",
       "2386937                    1  43.748730  1.992245    -999.000000  0.005533   \n",
       "2386938                    0  29.664747  2.050288    -999.000000  0.030641   \n",
       "2386939                    0  51.552727 -0.644728    -999.000000  0.085393   \n",
       "2386940                    0  23.493425 -1.155032    -999.000000  0.396828   \n",
       "2386941                    0  22.868505 -1.832680    -999.000000  0.457222   \n",
       "\n",
       "         ...  trk_dEta1    EoverP  vtx_dphi  vtx_deta  vtx_deltaZ0  \\\n",
       "0        ...   0.002138  5.548630 -0.011435 -0.000552     0.114830   \n",
       "1        ...   0.000310  1.007238  0.004516 -0.001034   161.324081   \n",
       "2        ...   0.003101  1.181469  0.000508  0.003027     0.189831   \n",
       "3        ...  -0.001529  0.472209  0.021275  0.000882     0.028795   \n",
       "4        ...  -0.000149  0.993656  0.002240 -0.008324     0.101280   \n",
       "...      ...        ...       ...       ...       ...          ...   \n",
       "2386937  ...  -0.000046  2.554826 -0.006597 -0.000133    37.528984   \n",
       "2386938  ...  -0.006547  3.156963 -0.002576  0.015868     0.007011   \n",
       "2386939  ...  -0.001550  1.221653 -0.010733 -0.009579     8.001463   \n",
       "2386940  ...   0.020910  1.651285 -0.061262 -0.025502     0.029808   \n",
       "2386941  ...   0.003254  1.057131 -0.016308 -0.010824     0.154910   \n",
       "\n",
       "         trk_TRT_PID1  trk_TRT_PID2  \\\n",
       "0           -0.000000     -0.000000   \n",
       "1           -0.013623     -0.026559   \n",
       "2           -0.027880     -0.006519   \n",
       "3            0.023110      0.096197   \n",
       "4            0.003245      0.103180   \n",
       "...               ...           ...   \n",
       "2386937     -0.049290     -0.313752   \n",
       "2386938      0.070282     -0.076030   \n",
       "2386939     -0.028163      0.008598   \n",
       "2386940     -0.052335      0.065770   \n",
       "2386941      0.052869     -0.085051   \n",
       "\n",
       "                                          file_name_label  truth_label  \\\n",
       "0         mc23a.PhPy8EG_NNPDF23_A14_ggH125_yys_ME002.root          1.0   \n",
       "1         mc23a.PhPy8EG_NNPDF23_A14_ggH125_yys_ME002.root          1.0   \n",
       "2         mc23a.PhPy8EG_NNPDF23_A14_ggH125_yys_ME002.root          1.0   \n",
       "3         mc23a.PhPy8EG_NNPDF23_A14_ggH125_yys_ME002.root          1.0   \n",
       "4         mc23a.PhPy8EG_NNPDF23_A14_ggH125_yys_ME002.root          1.0   \n",
       "...                                                   ...          ...   \n",
       "2386937  mc23e.PhPy8EG_NNPDF23_A14_VBFH125_yys_ME002.root          1.0   \n",
       "2386938  mc23e.PhPy8EG_NNPDF23_A14_VBFH125_yys_ME002.root          1.0   \n",
       "2386939  mc23e.PhPy8EG_NNPDF23_A14_VBFH125_yys_ME002.root          1.0   \n",
       "2386940  mc23e.PhPy8EG_NNPDF23_A14_VBFH125_yys_ME002.root          1.0   \n",
       "2386941  mc23e.PhPy8EG_NNPDF23_A14_VBFH125_yys_ME002.root          1.0   \n",
       "\n",
       "         version_label  \n",
       "0                    a  \n",
       "1                    a  \n",
       "2                    a  \n",
       "3                    a  \n",
       "4                    a  \n",
       "...                ...  \n",
       "2386937              e  \n",
       "2386938              e  \n",
       "2386939              e  \n",
       "2386940              e  \n",
       "2386941              e  \n",
       "\n",
       "[2386942 rows x 28 columns]"
      ]
     },
     "execution_count": 4,
     "metadata": {},
     "output_type": "execute_result"
    }
   ],
   "source": [
    "# step 2\n",
    "\n",
    "# define **signal** data frame\n",
    "# no prior selections!\n",
    "\n",
    "sd = pd.DataFrame()\n",
    "count = 0\n",
    "\n",
    "for file_name in signal_file_names:\n",
    "    tempf = uproot.open(\n",
    "        \"/storage_tmp/atlas/lnasella/yystar/MergedElectronID\"+\n",
    "        \"/Run3/Ntuples/yys_ME002/signal/\"+ file_name)\n",
    "    tempf.keys()\n",
    "    tempt = tempf[\"MergedElectron\"]\n",
    "    tempd = tempt.arrays(variables, library=\"pd\")\n",
    "    \n",
    "    # step 3\n",
    "    # lables for signal\n",
    "    tempd[\"file_name_label\"] = file_name\n",
    "    tempd[\"truth_label\"] = 1.\n",
    "    \n",
    "    # additional labels to distinguish every signal file\n",
    "    # version of file\n",
    "    if \"mc23a\" in file_name:\n",
    "        tempd[\"version_label\"] = \"a\"\n",
    "    elif \"mc23d\" in file_name:\n",
    "        tempd[\"version_label\"] = \"d\"\n",
    "    else: tempd[\"version_label\"] = \"e\"\n",
    "    \n",
    "    print(\"File #\" + str(count) + \": \" + file_name) \n",
    "    count += 1\n",
    "    \n",
    "    # selection on signal\n",
    "    # tempd = tempd[ (tempd[\"true_E\"]!=-999) & (tempd[\"isLoose\"]==True)]\n",
    "    \n",
    "    # concatenate with sd\n",
    "    #pd.concat([sd, sd], ignore_index=True)\n",
    "    sd = pd.concat([sd, tempd], axis=0, ignore_index=True)\n",
    "\n",
    "print(\"Signal events:\")\n",
    "sd"
   ]
  },
  {
   "cell_type": "code",
   "execution_count": 5,
   "id": "60be4ea0",
   "metadata": {},
   "outputs": [
    {
     "name": "stdout",
     "output_type": "stream",
     "text": [
      "['mc23a.Py8EG_A14NNPDF23LO_perf_JF17.root', 'mc23a.Py8EG_A14NNPDF23LO_perf_JF35.root', 'mc23a.Py8EG_A14NNPDF23LO_perf_JF50.root', 'mc23d.Py8EG_A14NNPDF23LO_perf_JF17.root', 'mc23d.Py8EG_A14NNPDF23LO_perf_JF35.root', 'mc23d.Py8EG_A14NNPDF23LO_perf_JF50.root', 'mc23e.Py8EG_A14NNPDF23LO_perf_JF17.root', 'mc23e.Py8EG_A14NNPDF23LO_perf_JF50.root', 'mc23e.Py8EG_A14NNPDF23LO_perf_JF35.root']\n"
     ]
    }
   ],
   "source": [
    "# read data from background files\n",
    "\n",
    "bkg_file_names = os.listdir(\"/storage_tmp/atlas/lnasella/yystar/MergedElectronID\"+\n",
    "                    \"/Run3/Ntuples/yys_ME002/bkg\")\n",
    "\n",
    "print(bkg_file_names)"
   ]
  },
  {
   "cell_type": "code",
   "execution_count": 6,
   "id": "0e0ea80e",
   "metadata": {},
   "outputs": [
    {
     "name": "stdout",
     "output_type": "stream",
     "text": [
      "File #0: mc23a.Py8EG_A14NNPDF23LO_perf_JF17.root\n",
      "File #1: mc23a.Py8EG_A14NNPDF23LO_perf_JF35.root\n",
      "File #2: mc23a.Py8EG_A14NNPDF23LO_perf_JF50.root\n",
      "File #3: mc23d.Py8EG_A14NNPDF23LO_perf_JF17.root\n",
      "File #4: mc23d.Py8EG_A14NNPDF23LO_perf_JF35.root\n",
      "File #5: mc23d.Py8EG_A14NNPDF23LO_perf_JF50.root\n",
      "File #6: mc23e.Py8EG_A14NNPDF23LO_perf_JF17.root\n",
      "File #7: mc23e.Py8EG_A14NNPDF23LO_perf_JF50.root\n",
      "File #8: mc23e.Py8EG_A14NNPDF23LO_perf_JF35.root\n",
      "Total events:\n"
     ]
    },
    {
     "data": {
      "text/html": [
       "<div>\n",
       "<style scoped>\n",
       "    .dataframe tbody tr th:only-of-type {\n",
       "        vertical-align: middle;\n",
       "    }\n",
       "\n",
       "    .dataframe tbody tr th {\n",
       "        vertical-align: top;\n",
       "    }\n",
       "\n",
       "    .dataframe thead th {\n",
       "        text-align: right;\n",
       "    }\n",
       "</style>\n",
       "<table border=\"1\" class=\"dataframe\">\n",
       "  <thead>\n",
       "    <tr style=\"text-align: right;\">\n",
       "      <th></th>\n",
       "      <th>eventNumber</th>\n",
       "      <th>pdgId</th>\n",
       "      <th>parentPdgId</th>\n",
       "      <th>isLoose</th>\n",
       "      <th>isTight</th>\n",
       "      <th>isIsoWithCorr_Loose</th>\n",
       "      <th>pt</th>\n",
       "      <th>eta</th>\n",
       "      <th>true_E</th>\n",
       "      <th>Rhad</th>\n",
       "      <th>...</th>\n",
       "      <th>EoverP</th>\n",
       "      <th>vtx_dphi</th>\n",
       "      <th>vtx_deta</th>\n",
       "      <th>vtx_deltaZ0</th>\n",
       "      <th>trk_TRT_PID1</th>\n",
       "      <th>trk_TRT_PID2</th>\n",
       "      <th>file_name_label</th>\n",
       "      <th>truth_label</th>\n",
       "      <th>version_label</th>\n",
       "      <th>jf_label</th>\n",
       "    </tr>\n",
       "  </thead>\n",
       "  <tbody>\n",
       "    <tr>\n",
       "      <th>0</th>\n",
       "      <td>16692166</td>\n",
       "      <td>22</td>\n",
       "      <td>111</td>\n",
       "      <td>0</td>\n",
       "      <td>0</td>\n",
       "      <td>1</td>\n",
       "      <td>28.396830</td>\n",
       "      <td>-0.749064</td>\n",
       "      <td>-999.0</td>\n",
       "      <td>0.033459</td>\n",
       "      <td>...</td>\n",
       "      <td>7.632531</td>\n",
       "      <td>0.031880</td>\n",
       "      <td>0.007396</td>\n",
       "      <td>26.832861</td>\n",
       "      <td>-0.031250</td>\n",
       "      <td>-0.002518</td>\n",
       "      <td>mc23a.Py8EG_A14NNPDF23LO_perf_JF17.root</td>\n",
       "      <td>0.0</td>\n",
       "      <td>a</td>\n",
       "      <td>17.0</td>\n",
       "    </tr>\n",
       "    <tr>\n",
       "      <th>1</th>\n",
       "      <td>17320220</td>\n",
       "      <td>211</td>\n",
       "      <td>323</td>\n",
       "      <td>0</td>\n",
       "      <td>0</td>\n",
       "      <td>0</td>\n",
       "      <td>22.957937</td>\n",
       "      <td>-0.830603</td>\n",
       "      <td>-999.0</td>\n",
       "      <td>0.129243</td>\n",
       "      <td>...</td>\n",
       "      <td>1.388864</td>\n",
       "      <td>0.001829</td>\n",
       "      <td>0.020290</td>\n",
       "      <td>0.137325</td>\n",
       "      <td>0.046606</td>\n",
       "      <td>0.035249</td>\n",
       "      <td>mc23a.Py8EG_A14NNPDF23LO_perf_JF17.root</td>\n",
       "      <td>0.0</td>\n",
       "      <td>a</td>\n",
       "      <td>17.0</td>\n",
       "    </tr>\n",
       "    <tr>\n",
       "      <th>2</th>\n",
       "      <td>17320174</td>\n",
       "      <td>321</td>\n",
       "      <td>-3</td>\n",
       "      <td>0</td>\n",
       "      <td>0</td>\n",
       "      <td>0</td>\n",
       "      <td>35.301811</td>\n",
       "      <td>-0.653258</td>\n",
       "      <td>-999.0</td>\n",
       "      <td>0.270078</td>\n",
       "      <td>...</td>\n",
       "      <td>0.951316</td>\n",
       "      <td>-0.003385</td>\n",
       "      <td>-0.012352</td>\n",
       "      <td>0.031330</td>\n",
       "      <td>-0.100522</td>\n",
       "      <td>-0.062189</td>\n",
       "      <td>mc23a.Py8EG_A14NNPDF23LO_perf_JF17.root</td>\n",
       "      <td>0.0</td>\n",
       "      <td>a</td>\n",
       "      <td>17.0</td>\n",
       "    </tr>\n",
       "    <tr>\n",
       "      <th>3</th>\n",
       "      <td>17320174</td>\n",
       "      <td>-2212</td>\n",
       "      <td>-3</td>\n",
       "      <td>0</td>\n",
       "      <td>0</td>\n",
       "      <td>0</td>\n",
       "      <td>21.667419</td>\n",
       "      <td>-1.338072</td>\n",
       "      <td>-999.0</td>\n",
       "      <td>0.430156</td>\n",
       "      <td>...</td>\n",
       "      <td>-44.181122</td>\n",
       "      <td>-999.000000</td>\n",
       "      <td>-999.000000</td>\n",
       "      <td>77.586304</td>\n",
       "      <td>-0.166470</td>\n",
       "      <td>-0.261547</td>\n",
       "      <td>mc23a.Py8EG_A14NNPDF23LO_perf_JF17.root</td>\n",
       "      <td>0.0</td>\n",
       "      <td>a</td>\n",
       "      <td>17.0</td>\n",
       "    </tr>\n",
       "    <tr>\n",
       "      <th>4</th>\n",
       "      <td>17320520</td>\n",
       "      <td>0</td>\n",
       "      <td>0</td>\n",
       "      <td>0</td>\n",
       "      <td>0</td>\n",
       "      <td>0</td>\n",
       "      <td>22.373116</td>\n",
       "      <td>0.006884</td>\n",
       "      <td>-999.0</td>\n",
       "      <td>-0.008694</td>\n",
       "      <td>...</td>\n",
       "      <td>2.922393</td>\n",
       "      <td>-0.078821</td>\n",
       "      <td>0.021778</td>\n",
       "      <td>20.072994</td>\n",
       "      <td>-0.016856</td>\n",
       "      <td>-0.005807</td>\n",
       "      <td>mc23a.Py8EG_A14NNPDF23LO_perf_JF17.root</td>\n",
       "      <td>0.0</td>\n",
       "      <td>a</td>\n",
       "      <td>17.0</td>\n",
       "    </tr>\n",
       "    <tr>\n",
       "      <th>...</th>\n",
       "      <td>...</td>\n",
       "      <td>...</td>\n",
       "      <td>...</td>\n",
       "      <td>...</td>\n",
       "      <td>...</td>\n",
       "      <td>...</td>\n",
       "      <td>...</td>\n",
       "      <td>...</td>\n",
       "      <td>...</td>\n",
       "      <td>...</td>\n",
       "      <td>...</td>\n",
       "      <td>...</td>\n",
       "      <td>...</td>\n",
       "      <td>...</td>\n",
       "      <td>...</td>\n",
       "      <td>...</td>\n",
       "      <td>...</td>\n",
       "      <td>...</td>\n",
       "      <td>...</td>\n",
       "      <td>...</td>\n",
       "      <td>...</td>\n",
       "    </tr>\n",
       "    <tr>\n",
       "      <th>6761861</th>\n",
       "      <td>234011663</td>\n",
       "      <td>211</td>\n",
       "      <td>113</td>\n",
       "      <td>0</td>\n",
       "      <td>0</td>\n",
       "      <td>0</td>\n",
       "      <td>36.597904</td>\n",
       "      <td>-1.521753</td>\n",
       "      <td>-999.0</td>\n",
       "      <td>0.522742</td>\n",
       "      <td>...</td>\n",
       "      <td>0.912994</td>\n",
       "      <td>0.021768</td>\n",
       "      <td>0.013834</td>\n",
       "      <td>0.178782</td>\n",
       "      <td>0.062064</td>\n",
       "      <td>-0.074665</td>\n",
       "      <td>mc23e.Py8EG_A14NNPDF23LO_perf_JF35.root</td>\n",
       "      <td>0.0</td>\n",
       "      <td>e</td>\n",
       "      <td>35.0</td>\n",
       "    </tr>\n",
       "    <tr>\n",
       "      <th>6761862</th>\n",
       "      <td>234011663</td>\n",
       "      <td>-211</td>\n",
       "      <td>21</td>\n",
       "      <td>0</td>\n",
       "      <td>0</td>\n",
       "      <td>0</td>\n",
       "      <td>34.479755</td>\n",
       "      <td>-1.626309</td>\n",
       "      <td>-999.0</td>\n",
       "      <td>0.401765</td>\n",
       "      <td>...</td>\n",
       "      <td>1.215633</td>\n",
       "      <td>-0.032453</td>\n",
       "      <td>-0.018369</td>\n",
       "      <td>0.032670</td>\n",
       "      <td>0.139856</td>\n",
       "      <td>-0.227623</td>\n",
       "      <td>mc23e.Py8EG_A14NNPDF23LO_perf_JF35.root</td>\n",
       "      <td>0.0</td>\n",
       "      <td>e</td>\n",
       "      <td>35.0</td>\n",
       "    </tr>\n",
       "    <tr>\n",
       "      <th>6761863</th>\n",
       "      <td>234011663</td>\n",
       "      <td>-321</td>\n",
       "      <td>-313</td>\n",
       "      <td>0</td>\n",
       "      <td>0</td>\n",
       "      <td>0</td>\n",
       "      <td>20.201946</td>\n",
       "      <td>-0.711831</td>\n",
       "      <td>-999.0</td>\n",
       "      <td>0.335048</td>\n",
       "      <td>...</td>\n",
       "      <td>1.131564</td>\n",
       "      <td>-0.007000</td>\n",
       "      <td>0.015375</td>\n",
       "      <td>0.243883</td>\n",
       "      <td>0.043937</td>\n",
       "      <td>-0.029641</td>\n",
       "      <td>mc23e.Py8EG_A14NNPDF23LO_perf_JF35.root</td>\n",
       "      <td>0.0</td>\n",
       "      <td>e</td>\n",
       "      <td>35.0</td>\n",
       "    </tr>\n",
       "    <tr>\n",
       "      <th>6761864</th>\n",
       "      <td>234007958</td>\n",
       "      <td>211</td>\n",
       "      <td>-3</td>\n",
       "      <td>0</td>\n",
       "      <td>0</td>\n",
       "      <td>1</td>\n",
       "      <td>33.329578</td>\n",
       "      <td>-2.390301</td>\n",
       "      <td>-999.0</td>\n",
       "      <td>0.017678</td>\n",
       "      <td>...</td>\n",
       "      <td>10.989674</td>\n",
       "      <td>0.040467</td>\n",
       "      <td>-0.023224</td>\n",
       "      <td>18.897497</td>\n",
       "      <td>-0.000000</td>\n",
       "      <td>-0.000000</td>\n",
       "      <td>mc23e.Py8EG_A14NNPDF23LO_perf_JF35.root</td>\n",
       "      <td>0.0</td>\n",
       "      <td>e</td>\n",
       "      <td>35.0</td>\n",
       "    </tr>\n",
       "    <tr>\n",
       "      <th>6761865</th>\n",
       "      <td>234007971</td>\n",
       "      <td>-11</td>\n",
       "      <td>22</td>\n",
       "      <td>0</td>\n",
       "      <td>0</td>\n",
       "      <td>1</td>\n",
       "      <td>45.453854</td>\n",
       "      <td>0.693911</td>\n",
       "      <td>-999.0</td>\n",
       "      <td>-0.012097</td>\n",
       "      <td>...</td>\n",
       "      <td>0.974937</td>\n",
       "      <td>0.000942</td>\n",
       "      <td>-0.003638</td>\n",
       "      <td>0.039124</td>\n",
       "      <td>-0.068686</td>\n",
       "      <td>0.109413</td>\n",
       "      <td>mc23e.Py8EG_A14NNPDF23LO_perf_JF35.root</td>\n",
       "      <td>0.0</td>\n",
       "      <td>e</td>\n",
       "      <td>35.0</td>\n",
       "    </tr>\n",
       "  </tbody>\n",
       "</table>\n",
       "<p>6761866 rows × 29 columns</p>\n",
       "</div>"
      ],
      "text/plain": [
       "         eventNumber  pdgId  parentPdgId  isLoose  isTight  \\\n",
       "0           16692166     22          111        0        0   \n",
       "1           17320220    211          323        0        0   \n",
       "2           17320174    321           -3        0        0   \n",
       "3           17320174  -2212           -3        0        0   \n",
       "4           17320520      0            0        0        0   \n",
       "...              ...    ...          ...      ...      ...   \n",
       "6761861    234011663    211          113        0        0   \n",
       "6761862    234011663   -211           21        0        0   \n",
       "6761863    234011663   -321         -313        0        0   \n",
       "6761864    234007958    211           -3        0        0   \n",
       "6761865    234007971    -11           22        0        0   \n",
       "\n",
       "         isIsoWithCorr_Loose         pt       eta  true_E      Rhad  ...  \\\n",
       "0                          1  28.396830 -0.749064  -999.0  0.033459  ...   \n",
       "1                          0  22.957937 -0.830603  -999.0  0.129243  ...   \n",
       "2                          0  35.301811 -0.653258  -999.0  0.270078  ...   \n",
       "3                          0  21.667419 -1.338072  -999.0  0.430156  ...   \n",
       "4                          0  22.373116  0.006884  -999.0 -0.008694  ...   \n",
       "...                      ...        ...       ...     ...       ...  ...   \n",
       "6761861                    0  36.597904 -1.521753  -999.0  0.522742  ...   \n",
       "6761862                    0  34.479755 -1.626309  -999.0  0.401765  ...   \n",
       "6761863                    0  20.201946 -0.711831  -999.0  0.335048  ...   \n",
       "6761864                    1  33.329578 -2.390301  -999.0  0.017678  ...   \n",
       "6761865                    1  45.453854  0.693911  -999.0 -0.012097  ...   \n",
       "\n",
       "            EoverP    vtx_dphi    vtx_deta  vtx_deltaZ0  trk_TRT_PID1  \\\n",
       "0         7.632531    0.031880    0.007396    26.832861     -0.031250   \n",
       "1         1.388864    0.001829    0.020290     0.137325      0.046606   \n",
       "2         0.951316   -0.003385   -0.012352     0.031330     -0.100522   \n",
       "3       -44.181122 -999.000000 -999.000000    77.586304     -0.166470   \n",
       "4         2.922393   -0.078821    0.021778    20.072994     -0.016856   \n",
       "...            ...         ...         ...          ...           ...   \n",
       "6761861   0.912994    0.021768    0.013834     0.178782      0.062064   \n",
       "6761862   1.215633   -0.032453   -0.018369     0.032670      0.139856   \n",
       "6761863   1.131564   -0.007000    0.015375     0.243883      0.043937   \n",
       "6761864  10.989674    0.040467   -0.023224    18.897497     -0.000000   \n",
       "6761865   0.974937    0.000942   -0.003638     0.039124     -0.068686   \n",
       "\n",
       "         trk_TRT_PID2                          file_name_label  truth_label  \\\n",
       "0           -0.002518  mc23a.Py8EG_A14NNPDF23LO_perf_JF17.root          0.0   \n",
       "1            0.035249  mc23a.Py8EG_A14NNPDF23LO_perf_JF17.root          0.0   \n",
       "2           -0.062189  mc23a.Py8EG_A14NNPDF23LO_perf_JF17.root          0.0   \n",
       "3           -0.261547  mc23a.Py8EG_A14NNPDF23LO_perf_JF17.root          0.0   \n",
       "4           -0.005807  mc23a.Py8EG_A14NNPDF23LO_perf_JF17.root          0.0   \n",
       "...               ...                                      ...          ...   \n",
       "6761861     -0.074665  mc23e.Py8EG_A14NNPDF23LO_perf_JF35.root          0.0   \n",
       "6761862     -0.227623  mc23e.Py8EG_A14NNPDF23LO_perf_JF35.root          0.0   \n",
       "6761863     -0.029641  mc23e.Py8EG_A14NNPDF23LO_perf_JF35.root          0.0   \n",
       "6761864     -0.000000  mc23e.Py8EG_A14NNPDF23LO_perf_JF35.root          0.0   \n",
       "6761865      0.109413  mc23e.Py8EG_A14NNPDF23LO_perf_JF35.root          0.0   \n",
       "\n",
       "         version_label  jf_label  \n",
       "0                    a      17.0  \n",
       "1                    a      17.0  \n",
       "2                    a      17.0  \n",
       "3                    a      17.0  \n",
       "4                    a      17.0  \n",
       "...                ...       ...  \n",
       "6761861              e      35.0  \n",
       "6761862              e      35.0  \n",
       "6761863              e      35.0  \n",
       "6761864              e      35.0  \n",
       "6761865              e      35.0  \n",
       "\n",
       "[6761866 rows x 29 columns]"
      ]
     },
     "execution_count": 6,
     "metadata": {},
     "output_type": "execute_result"
    }
   ],
   "source": [
    "bd = pd.DataFrame()\n",
    "count = 0\n",
    "\n",
    "for file_name in bkg_file_names:\n",
    "    tempf = uproot.open(\n",
    "        \"/storage_tmp/atlas/lnasella/yystar/MergedElectronID\"+\n",
    "        \"/Run3/Ntuples/yys_ME002/bkg/\"+ file_name)\n",
    "    tempf.keys()\n",
    "    tempt = tempf[\"MergedElectron\"]\n",
    "    tempd = tempt.arrays(variables, library=\"pd\")\n",
    "    \n",
    "    # step 3\n",
    "    # lables for bkg\n",
    "    tempd[\"file_name_label\"] = file_name\n",
    "    tempd[\"truth_label\"] = 0.\n",
    "\n",
    "    # additional labels to distinguish every background file\n",
    "    # version of file\n",
    "    if \"mc23a\" in file_name:\n",
    "        tempd[\"version_label\"] = \"a\"\n",
    "    elif \"mc23d\" in file_name:\n",
    "        tempd[\"version_label\"] = \"d\"\n",
    "    else: tempd[\"version_label\"] = \"e\"\n",
    "    \n",
    "    # threshold on jet filter\n",
    "    if \"JF17\" in file_name:\n",
    "        tempd[\"jf_label\"] = 17.\n",
    "    elif \"JF35\" in file_name:\n",
    "        tempd[\"jf_label\"] = 35.\n",
    "    else: tempd[\"jf_label\"] = 50.\n",
    "    \n",
    "    print(\"File #\" + str(count) + \": \" + file_name) \n",
    "    count += 1\n",
    "    \n",
    "    # concatenate with bd\n",
    "    #pd.concat([bd, sd], ignore_index=True)\n",
    "    bd = pd.concat([bd, tempd], axis=0, ignore_index=True)\n",
    "\n",
    "print(\"Total events:\")\n",
    "bd"
   ]
  },
  {
   "cell_type": "code",
   "execution_count": 7,
   "id": "38445eb3",
   "metadata": {},
   "outputs": [
    {
     "data": {
      "text/plain": [
       "array(2386942)"
      ]
     },
     "execution_count": 7,
     "metadata": {},
     "output_type": "execute_result"
    }
   ],
   "source": [
    "# **series of selections on signal**\n",
    "\n",
    "# get total count of signal event\n",
    "count_sd = np.array(sd.shape[0])\n",
    "count_sd"
   ]
  },
  {
   "cell_type": "code",
   "execution_count": 8,
   "id": "54068c63",
   "metadata": {},
   "outputs": [
    {
     "name": "stdout",
     "output_type": "stream",
     "text": [
      "*Cut on true_E selection*\n",
      "\n",
      "Total number of events (signal): 2386942\n",
      "Number of events after cut: 1240060\n",
      "Absolute efficiency: 0.5195182790365246\n",
      "Relative efficiency: 0.5195182790365246\n"
     ]
    }
   ],
   "source": [
    "# reject events with true_E = -999\n",
    "# this means that they are not merged electrons from y*\n",
    "\n",
    "sd_ny = sd[ sd[\"true_E\"]==-999 ] \n",
    "sd = sd[ sd[\"true_E\"]!=-999 ]\n",
    "count_sd = np.append(count_sd, sd.shape[0])\n",
    "\n",
    "print(\"*Cut on true_E selection*\\n\")\n",
    "print(\"Total number of events (signal): \" + str(count_sd[0]))\n",
    "print(\"Number of events after cut: \" + str(count_sd[-1]))\n",
    "print(\"Absolute efficiency: \" + str(count_sd[-1] / count_sd[0]) )\n",
    "print(\"Relative efficiency: \" + str(count_sd[-1] / count_sd[-2]) )"
   ]
  },
  {
   "cell_type": "code",
   "execution_count": 9,
   "id": "bcb85f74",
   "metadata": {},
   "outputs": [
    {
     "data": {
      "text/plain": [
       "array([2386942, 1240060,  825402])"
      ]
     },
     "execution_count": 9,
     "metadata": {},
     "output_type": "execute_result"
    }
   ],
   "source": [
    "# isLoose = true\n",
    "\n",
    "sd = sd[ sd[\"isLoose\"] == True ]\n",
    "count_sd = np.append(count_sd, sd.shape[0])\n",
    "count_sd"
   ]
  },
  {
   "cell_type": "code",
   "execution_count": 10,
   "id": "360ca4df",
   "metadata": {},
   "outputs": [
    {
     "name": "stdout",
     "output_type": "stream",
     "text": [
      "*Cut on isLoose selection*\n",
      "\n",
      "Total number of events (signal): 2386942\n",
      "Number of events after cut: 825402\n",
      "Absolute efficiency: 0.3457989343687446\n",
      "Relative efficiency: 0.6656145670370789\n"
     ]
    }
   ],
   "source": [
    "print(\"*Cut on isLoose selection*\\n\")\n",
    "print(\"Total number of events (signal): \" + str(count_sd[0]))\n",
    "print(\"Number of events after cut: \" + str(count_sd[-1]))\n",
    "print(\"Absolute efficiency: \" + str(count_sd[-1] / count_sd[0]) )\n",
    "print(\"Relative efficiency: \" + str(count_sd[-1] / count_sd[-2]) )"
   ]
  },
  {
   "cell_type": "code",
   "execution_count": 11,
   "id": "ab4ec152",
   "metadata": {},
   "outputs": [
    {
     "data": {
      "text/plain": [
       "array([2386942, 1240060,  825402,  811432])"
      ]
     },
     "execution_count": 11,
     "metadata": {},
     "output_type": "execute_result"
    }
   ],
   "source": [
    "# selection on isIsoWithCorr_Loose == true\n",
    "\n",
    "sd = sd[ sd[\"isIsoWithCorr_Loose\"]==True] \n",
    "count_sd = np.append(count_sd, sd.shape[0])\n",
    "\n",
    "count_sd"
   ]
  },
  {
   "cell_type": "code",
   "execution_count": 12,
   "id": "3aa5ac55",
   "metadata": {},
   "outputs": [
    {
     "name": "stdout",
     "output_type": "stream",
     "text": [
      "*Cut on ISO Loose selection*\n",
      "\n",
      "Total number of events (signal): 2386942\n",
      "Number of events after cut: 811432\n",
      "Absolute efficiency: 0.33994625759653985\n",
      "Relative efficiency: 0.9830749137995789\n"
     ]
    }
   ],
   "source": [
    "print(\"*Cut on ISO Loose selection*\\n\")\n",
    "print(\"Total number of events (signal): \" + str(count_sd[0]))\n",
    "print(\"Number of events after cut: \" + str(count_sd[-1]))\n",
    "print(\"Absolute efficiency: \" + str(count_sd[-1] / count_sd[0]) )\n",
    "print(\"Relative efficiency: \" + str(count_sd[-1] / count_sd[-2]) )"
   ]
  },
  {
   "cell_type": "code",
   "execution_count": 13,
   "id": "84b9d58c",
   "metadata": {},
   "outputs": [
    {
     "data": {
      "image/png": "[encoded data removed]",
      "text/plain": [
       "<Figure size 432x288 with 1 Axes>"
      ]
     },
     "metadata": {
      "needs_background": "light"
     },
     "output_type": "display_data"
    }
   ],
   "source": [
    "# study particle IDs\n",
    "\n",
    "ax = sd[\"pdgId\"].value_counts().plot(kind='bar',\n",
    "                                    title = \"PdgID of selected signal\")"
   ]
  },
  {
   "cell_type": "code",
   "execution_count": 14,
   "id": "8422ccbc",
   "metadata": {},
   "outputs": [
    {
     "data": {
      "image/png": "[encoded data removed]",
      "text/plain": [
       "<Figure size 432x288 with 1 Axes>"
      ]
     },
     "metadata": {
      "needs_background": "light"
     },
     "output_type": "display_data"
    }
   ],
   "source": [
    "ax = sd_ny[\"pdgId\"].value_counts().plot(kind='bar',\n",
    "                                    title = \"PdgID of discarded signal\")"
   ]
  },
  {
   "cell_type": "code",
   "execution_count": 15,
   "id": "79e8368f",
   "metadata": {},
   "outputs": [
    {
     "name": "stdout",
     "output_type": "stream",
     "text": [
      "Discarded signal on true_E\n"
     ]
    },
    {
     "data": {
      "text/plain": [
       "array(1146882)"
      ]
     },
     "execution_count": 15,
     "metadata": {},
     "output_type": "execute_result"
    }
   ],
   "source": [
    "print(\"Discarded signal on true_E\")\n",
    "\n",
    "count_sd_ny = np.array(sd_ny.shape[0])\n",
    "count_sd_ny"
   ]
  },
  {
   "cell_type": "code",
   "execution_count": 16,
   "id": "7c486055",
   "metadata": {},
   "outputs": [
    {
     "name": "stdout",
     "output_type": "stream",
     "text": [
      "*Cut on true_E selection*\n",
      "\n",
      "Total number of events (discarded signal on true_E): 1146882\n",
      "Number of events after cut: 811432\n",
      "Absolute efficiency: 0.7075113220017404\n",
      "Relative efficiency: 0.7075113220017404\n"
     ]
    }
   ],
   "source": [
    "sd_ny = sd_ny[ sd_ny[\"isLoose\"]==True ]\n",
    "count_sd_ny = np.append(count_sd_ny, sd.shape[0])\n",
    "\n",
    "print(\"*Cut on true_E selection*\\n\")\n",
    "print(\"Total number of events (discarded signal on true_E): \" + str(count_sd_ny[0]))\n",
    "print(\"Number of events after cut: \" + str(count_sd_ny[-1]))\n",
    "print(\"Absolute efficiency: \" + str(count_sd_ny[-1] / count_sd_ny[0]) )\n",
    "print(\"Relative efficiency: \" + str(count_sd_ny[-1] / count_sd_ny[-2]) )"
   ]
  },
  {
   "cell_type": "code",
   "execution_count": 17,
   "id": "d6e60b4b",
   "metadata": {},
   "outputs": [
    {
     "name": "stdout",
     "output_type": "stream",
     "text": [
      "*Cut on ISO Loose selection*\n",
      "\n",
      "Total number of events (discarded signal on true_E): 1146882\n",
      "Number of events after cut: 811432\n",
      "Absolute efficiency: 0.7075113220017404\n",
      "Relative efficiency: 1.0\n"
     ]
    }
   ],
   "source": [
    "sd_ny = sd_ny[ sd_ny[\"isIsoWithCorr_Loose\"]==True ]\n",
    "count_sd_ny = np.append(count_sd_ny, sd.shape[0])\n",
    "\n",
    "print(\"*Cut on ISO Loose selection*\\n\")\n",
    "print(\"Total number of events (discarded signal on true_E): \" + str(count_sd_ny[0]))\n",
    "print(\"Number of events after cut: \" + str(count_sd_ny[-1]))\n",
    "print(\"Absolute efficiency: \" + str(count_sd_ny[-1] / count_sd_ny[0]) )\n",
    "print(\"Relative efficiency: \" + str(count_sd_ny[-1] / count_sd_ny[-2]) )"
   ]
  },
  {
   "cell_type": "code",
   "execution_count": 18,
   "id": "cf334b78",
   "metadata": {},
   "outputs": [
    {
     "data": {
      "image/png": "[encoded data removed]",
      "text/plain": [
       "<Figure size 432x288 with 1 Axes>"
      ]
     },
     "metadata": {
      "needs_background": "light"
     },
     "output_type": "display_data"
    }
   ],
   "source": [
    "ax = sd_ny[\"pdgId\"].value_counts().plot(kind='bar',\n",
    "                                    title = \"PdgID of discarded signal (after selection on isLoose)\")"
   ]
  },
  {
   "cell_type": "code",
   "execution_count": 19,
   "id": "47debdf5",
   "metadata": {},
   "outputs": [
    {
     "data": {
      "text/html": [
       "<div>\n",
       "<style scoped>\n",
       "    .dataframe tbody tr th:only-of-type {\n",
       "        vertical-align: middle;\n",
       "    }\n",
       "\n",
       "    .dataframe tbody tr th {\n",
       "        vertical-align: top;\n",
       "    }\n",
       "\n",
       "    .dataframe thead th {\n",
       "        text-align: right;\n",
       "    }\n",
       "</style>\n",
       "<table border=\"1\" class=\"dataframe\">\n",
       "  <thead>\n",
       "    <tr style=\"text-align: right;\">\n",
       "      <th></th>\n",
       "      <th>eventNumber</th>\n",
       "      <th>pdgId</th>\n",
       "      <th>parentPdgId</th>\n",
       "      <th>isLoose</th>\n",
       "      <th>isTight</th>\n",
       "      <th>isIsoWithCorr_Loose</th>\n",
       "      <th>pt</th>\n",
       "      <th>eta</th>\n",
       "      <th>true_E</th>\n",
       "      <th>Rhad</th>\n",
       "      <th>...</th>\n",
       "      <th>EoverP</th>\n",
       "      <th>vtx_dphi</th>\n",
       "      <th>vtx_deta</th>\n",
       "      <th>vtx_deltaZ0</th>\n",
       "      <th>trk_TRT_PID1</th>\n",
       "      <th>trk_TRT_PID2</th>\n",
       "      <th>file_name_label</th>\n",
       "      <th>truth_label</th>\n",
       "      <th>version_label</th>\n",
       "      <th>jf_label</th>\n",
       "    </tr>\n",
       "  </thead>\n",
       "  <tbody>\n",
       "    <tr>\n",
       "      <th>0</th>\n",
       "      <td>16692166</td>\n",
       "      <td>22</td>\n",
       "      <td>111</td>\n",
       "      <td>0</td>\n",
       "      <td>0</td>\n",
       "      <td>1</td>\n",
       "      <td>28.396830</td>\n",
       "      <td>-0.749064</td>\n",
       "      <td>-999.0</td>\n",
       "      <td>0.033459</td>\n",
       "      <td>...</td>\n",
       "      <td>7.632531</td>\n",
       "      <td>0.031880</td>\n",
       "      <td>0.007396</td>\n",
       "      <td>26.832861</td>\n",
       "      <td>-0.031250</td>\n",
       "      <td>-0.002518</td>\n",
       "      <td>mc23a.Py8EG_A14NNPDF23LO_perf_JF17.root</td>\n",
       "      <td>0.0</td>\n",
       "      <td>a</td>\n",
       "      <td>17.0</td>\n",
       "    </tr>\n",
       "    <tr>\n",
       "      <th>1</th>\n",
       "      <td>17320220</td>\n",
       "      <td>211</td>\n",
       "      <td>323</td>\n",
       "      <td>0</td>\n",
       "      <td>0</td>\n",
       "      <td>0</td>\n",
       "      <td>22.957937</td>\n",
       "      <td>-0.830603</td>\n",
       "      <td>-999.0</td>\n",
       "      <td>0.129243</td>\n",
       "      <td>...</td>\n",
       "      <td>1.388864</td>\n",
       "      <td>0.001829</td>\n",
       "      <td>0.020290</td>\n",
       "      <td>0.137325</td>\n",
       "      <td>0.046606</td>\n",
       "      <td>0.035249</td>\n",
       "      <td>mc23a.Py8EG_A14NNPDF23LO_perf_JF17.root</td>\n",
       "      <td>0.0</td>\n",
       "      <td>a</td>\n",
       "      <td>17.0</td>\n",
       "    </tr>\n",
       "    <tr>\n",
       "      <th>2</th>\n",
       "      <td>17320174</td>\n",
       "      <td>321</td>\n",
       "      <td>-3</td>\n",
       "      <td>0</td>\n",
       "      <td>0</td>\n",
       "      <td>0</td>\n",
       "      <td>35.301811</td>\n",
       "      <td>-0.653258</td>\n",
       "      <td>-999.0</td>\n",
       "      <td>0.270078</td>\n",
       "      <td>...</td>\n",
       "      <td>0.951316</td>\n",
       "      <td>-0.003385</td>\n",
       "      <td>-0.012352</td>\n",
       "      <td>0.031330</td>\n",
       "      <td>-0.100522</td>\n",
       "      <td>-0.062189</td>\n",
       "      <td>mc23a.Py8EG_A14NNPDF23LO_perf_JF17.root</td>\n",
       "      <td>0.0</td>\n",
       "      <td>a</td>\n",
       "      <td>17.0</td>\n",
       "    </tr>\n",
       "    <tr>\n",
       "      <th>3</th>\n",
       "      <td>17320174</td>\n",
       "      <td>-2212</td>\n",
       "      <td>-3</td>\n",
       "      <td>0</td>\n",
       "      <td>0</td>\n",
       "      <td>0</td>\n",
       "      <td>21.667419</td>\n",
       "      <td>-1.338072</td>\n",
       "      <td>-999.0</td>\n",
       "      <td>0.430156</td>\n",
       "      <td>...</td>\n",
       "      <td>-44.181122</td>\n",
       "      <td>-999.000000</td>\n",
       "      <td>-999.000000</td>\n",
       "      <td>77.586304</td>\n",
       "      <td>-0.166470</td>\n",
       "      <td>-0.261547</td>\n",
       "      <td>mc23a.Py8EG_A14NNPDF23LO_perf_JF17.root</td>\n",
       "      <td>0.0</td>\n",
       "      <td>a</td>\n",
       "      <td>17.0</td>\n",
       "    </tr>\n",
       "    <tr>\n",
       "      <th>4</th>\n",
       "      <td>17320520</td>\n",
       "      <td>0</td>\n",
       "      <td>0</td>\n",
       "      <td>0</td>\n",
       "      <td>0</td>\n",
       "      <td>0</td>\n",
       "      <td>22.373116</td>\n",
       "      <td>0.006884</td>\n",
       "      <td>-999.0</td>\n",
       "      <td>-0.008694</td>\n",
       "      <td>...</td>\n",
       "      <td>2.922393</td>\n",
       "      <td>-0.078821</td>\n",
       "      <td>0.021778</td>\n",
       "      <td>20.072994</td>\n",
       "      <td>-0.016856</td>\n",
       "      <td>-0.005807</td>\n",
       "      <td>mc23a.Py8EG_A14NNPDF23LO_perf_JF17.root</td>\n",
       "      <td>0.0</td>\n",
       "      <td>a</td>\n",
       "      <td>17.0</td>\n",
       "    </tr>\n",
       "    <tr>\n",
       "      <th>...</th>\n",
       "      <td>...</td>\n",
       "      <td>...</td>\n",
       "      <td>...</td>\n",
       "      <td>...</td>\n",
       "      <td>...</td>\n",
       "      <td>...</td>\n",
       "      <td>...</td>\n",
       "      <td>...</td>\n",
       "      <td>...</td>\n",
       "      <td>...</td>\n",
       "      <td>...</td>\n",
       "      <td>...</td>\n",
       "      <td>...</td>\n",
       "      <td>...</td>\n",
       "      <td>...</td>\n",
       "      <td>...</td>\n",
       "      <td>...</td>\n",
       "      <td>...</td>\n",
       "      <td>...</td>\n",
       "      <td>...</td>\n",
       "      <td>...</td>\n",
       "    </tr>\n",
       "    <tr>\n",
       "      <th>6761861</th>\n",
       "      <td>234011663</td>\n",
       "      <td>211</td>\n",
       "      <td>113</td>\n",
       "      <td>0</td>\n",
       "      <td>0</td>\n",
       "      <td>0</td>\n",
       "      <td>36.597904</td>\n",
       "      <td>-1.521753</td>\n",
       "      <td>-999.0</td>\n",
       "      <td>0.522742</td>\n",
       "      <td>...</td>\n",
       "      <td>0.912994</td>\n",
       "      <td>0.021768</td>\n",
       "      <td>0.013834</td>\n",
       "      <td>0.178782</td>\n",
       "      <td>0.062064</td>\n",
       "      <td>-0.074665</td>\n",
       "      <td>mc23e.Py8EG_A14NNPDF23LO_perf_JF35.root</td>\n",
       "      <td>0.0</td>\n",
       "      <td>e</td>\n",
       "      <td>35.0</td>\n",
       "    </tr>\n",
       "    <tr>\n",
       "      <th>6761862</th>\n",
       "      <td>234011663</td>\n",
       "      <td>-211</td>\n",
       "      <td>21</td>\n",
       "      <td>0</td>\n",
       "      <td>0</td>\n",
       "      <td>0</td>\n",
       "      <td>34.479755</td>\n",
       "      <td>-1.626309</td>\n",
       "      <td>-999.0</td>\n",
       "      <td>0.401765</td>\n",
       "      <td>...</td>\n",
       "      <td>1.215633</td>\n",
       "      <td>-0.032453</td>\n",
       "      <td>-0.018369</td>\n",
       "      <td>0.032670</td>\n",
       "      <td>0.139856</td>\n",
       "      <td>-0.227623</td>\n",
       "      <td>mc23e.Py8EG_A14NNPDF23LO_perf_JF35.root</td>\n",
       "      <td>0.0</td>\n",
       "      <td>e</td>\n",
       "      <td>35.0</td>\n",
       "    </tr>\n",
       "    <tr>\n",
       "      <th>6761863</th>\n",
       "      <td>234011663</td>\n",
       "      <td>-321</td>\n",
       "      <td>-313</td>\n",
       "      <td>0</td>\n",
       "      <td>0</td>\n",
       "      <td>0</td>\n",
       "      <td>20.201946</td>\n",
       "      <td>-0.711831</td>\n",
       "      <td>-999.0</td>\n",
       "      <td>0.335048</td>\n",
       "      <td>...</td>\n",
       "      <td>1.131564</td>\n",
       "      <td>-0.007000</td>\n",
       "      <td>0.015375</td>\n",
       "      <td>0.243883</td>\n",
       "      <td>0.043937</td>\n",
       "      <td>-0.029641</td>\n",
       "      <td>mc23e.Py8EG_A14NNPDF23LO_perf_JF35.root</td>\n",
       "      <td>0.0</td>\n",
       "      <td>e</td>\n",
       "      <td>35.0</td>\n",
       "    </tr>\n",
       "    <tr>\n",
       "      <th>6761864</th>\n",
       "      <td>234007958</td>\n",
       "      <td>211</td>\n",
       "      <td>-3</td>\n",
       "      <td>0</td>\n",
       "      <td>0</td>\n",
       "      <td>1</td>\n",
       "      <td>33.329578</td>\n",
       "      <td>-2.390301</td>\n",
       "      <td>-999.0</td>\n",
       "      <td>0.017678</td>\n",
       "      <td>...</td>\n",
       "      <td>10.989674</td>\n",
       "      <td>0.040467</td>\n",
       "      <td>-0.023224</td>\n",
       "      <td>18.897497</td>\n",
       "      <td>-0.000000</td>\n",
       "      <td>-0.000000</td>\n",
       "      <td>mc23e.Py8EG_A14NNPDF23LO_perf_JF35.root</td>\n",
       "      <td>0.0</td>\n",
       "      <td>e</td>\n",
       "      <td>35.0</td>\n",
       "    </tr>\n",
       "    <tr>\n",
       "      <th>6761865</th>\n",
       "      <td>234007971</td>\n",
       "      <td>-11</td>\n",
       "      <td>22</td>\n",
       "      <td>0</td>\n",
       "      <td>0</td>\n",
       "      <td>1</td>\n",
       "      <td>45.453854</td>\n",
       "      <td>0.693911</td>\n",
       "      <td>-999.0</td>\n",
       "      <td>-0.012097</td>\n",
       "      <td>...</td>\n",
       "      <td>0.974937</td>\n",
       "      <td>0.000942</td>\n",
       "      <td>-0.003638</td>\n",
       "      <td>0.039124</td>\n",
       "      <td>-0.068686</td>\n",
       "      <td>0.109413</td>\n",
       "      <td>mc23e.Py8EG_A14NNPDF23LO_perf_JF35.root</td>\n",
       "      <td>0.0</td>\n",
       "      <td>e</td>\n",
       "      <td>35.0</td>\n",
       "    </tr>\n",
       "  </tbody>\n",
       "</table>\n",
       "<p>6761866 rows × 29 columns</p>\n",
       "</div>"
      ],
      "text/plain": [
       "         eventNumber  pdgId  parentPdgId  isLoose  isTight  \\\n",
       "0           16692166     22          111        0        0   \n",
       "1           17320220    211          323        0        0   \n",
       "2           17320174    321           -3        0        0   \n",
       "3           17320174  -2212           -3        0        0   \n",
       "4           17320520      0            0        0        0   \n",
       "...              ...    ...          ...      ...      ...   \n",
       "6761861    234011663    211          113        0        0   \n",
       "6761862    234011663   -211           21        0        0   \n",
       "6761863    234011663   -321         -313        0        0   \n",
       "6761864    234007958    211           -3        0        0   \n",
       "6761865    234007971    -11           22        0        0   \n",
       "\n",
       "         isIsoWithCorr_Loose         pt       eta  true_E      Rhad  ...  \\\n",
       "0                          1  28.396830 -0.749064  -999.0  0.033459  ...   \n",
       "1                          0  22.957937 -0.830603  -999.0  0.129243  ...   \n",
       "2                          0  35.301811 -0.653258  -999.0  0.270078  ...   \n",
       "3                          0  21.667419 -1.338072  -999.0  0.430156  ...   \n",
       "4                          0  22.373116  0.006884  -999.0 -0.008694  ...   \n",
       "...                      ...        ...       ...     ...       ...  ...   \n",
       "6761861                    0  36.597904 -1.521753  -999.0  0.522742  ...   \n",
       "6761862                    0  34.479755 -1.626309  -999.0  0.401765  ...   \n",
       "6761863                    0  20.201946 -0.711831  -999.0  0.335048  ...   \n",
       "6761864                    1  33.329578 -2.390301  -999.0  0.017678  ...   \n",
       "6761865                    1  45.453854  0.693911  -999.0 -0.012097  ...   \n",
       "\n",
       "            EoverP    vtx_dphi    vtx_deta  vtx_deltaZ0  trk_TRT_PID1  \\\n",
       "0         7.632531    0.031880    0.007396    26.832861     -0.031250   \n",
       "1         1.388864    0.001829    0.020290     0.137325      0.046606   \n",
       "2         0.951316   -0.003385   -0.012352     0.031330     -0.100522   \n",
       "3       -44.181122 -999.000000 -999.000000    77.586304     -0.166470   \n",
       "4         2.922393   -0.078821    0.021778    20.072994     -0.016856   \n",
       "...            ...         ...         ...          ...           ...   \n",
       "6761861   0.912994    0.021768    0.013834     0.178782      0.062064   \n",
       "6761862   1.215633   -0.032453   -0.018369     0.032670      0.139856   \n",
       "6761863   1.131564   -0.007000    0.015375     0.243883      0.043937   \n",
       "6761864  10.989674    0.040467   -0.023224    18.897497     -0.000000   \n",
       "6761865   0.974937    0.000942   -0.003638     0.039124     -0.068686   \n",
       "\n",
       "         trk_TRT_PID2                          file_name_label  truth_label  \\\n",
       "0           -0.002518  mc23a.Py8EG_A14NNPDF23LO_perf_JF17.root          0.0   \n",
       "1            0.035249  mc23a.Py8EG_A14NNPDF23LO_perf_JF17.root          0.0   \n",
       "2           -0.062189  mc23a.Py8EG_A14NNPDF23LO_perf_JF17.root          0.0   \n",
       "3           -0.261547  mc23a.Py8EG_A14NNPDF23LO_perf_JF17.root          0.0   \n",
       "4           -0.005807  mc23a.Py8EG_A14NNPDF23LO_perf_JF17.root          0.0   \n",
       "...               ...                                      ...          ...   \n",
       "6761861     -0.074665  mc23e.Py8EG_A14NNPDF23LO_perf_JF35.root          0.0   \n",
       "6761862     -0.227623  mc23e.Py8EG_A14NNPDF23LO_perf_JF35.root          0.0   \n",
       "6761863     -0.029641  mc23e.Py8EG_A14NNPDF23LO_perf_JF35.root          0.0   \n",
       "6761864     -0.000000  mc23e.Py8EG_A14NNPDF23LO_perf_JF35.root          0.0   \n",
       "6761865      0.109413  mc23e.Py8EG_A14NNPDF23LO_perf_JF35.root          0.0   \n",
       "\n",
       "         version_label  jf_label  \n",
       "0                    a      17.0  \n",
       "1                    a      17.0  \n",
       "2                    a      17.0  \n",
       "3                    a      17.0  \n",
       "4                    a      17.0  \n",
       "...                ...       ...  \n",
       "6761861              e      35.0  \n",
       "6761862              e      35.0  \n",
       "6761863              e      35.0  \n",
       "6761864              e      35.0  \n",
       "6761865              e      35.0  \n",
       "\n",
       "[6761866 rows x 29 columns]"
      ]
     },
     "execution_count": 19,
     "metadata": {},
     "output_type": "execute_result"
    }
   ],
   "source": [
    "# selections on background\n",
    "\n",
    "count_bd = np.array(bd.shape[0])\n",
    "bd"
   ]
  },
  {
   "cell_type": "code",
   "execution_count": 20,
   "id": "f7d79894",
   "metadata": {},
   "outputs": [
    {
     "data": {
      "text/html": [
       "<div>\n",
       "<style scoped>\n",
       "    .dataframe tbody tr th:only-of-type {\n",
       "        vertical-align: middle;\n",
       "    }\n",
       "\n",
       "    .dataframe tbody tr th {\n",
       "        vertical-align: top;\n",
       "    }\n",
       "\n",
       "    .dataframe thead th {\n",
       "        text-align: right;\n",
       "    }\n",
       "</style>\n",
       "<table border=\"1\" class=\"dataframe\">\n",
       "  <thead>\n",
       "    <tr style=\"text-align: right;\">\n",
       "      <th></th>\n",
       "      <th>eventNumber</th>\n",
       "      <th>pdgId</th>\n",
       "      <th>parentPdgId</th>\n",
       "      <th>isLoose</th>\n",
       "      <th>isTight</th>\n",
       "      <th>isIsoWithCorr_Loose</th>\n",
       "      <th>pt</th>\n",
       "      <th>eta</th>\n",
       "      <th>true_E</th>\n",
       "      <th>Rhad</th>\n",
       "      <th>...</th>\n",
       "      <th>EoverP</th>\n",
       "      <th>vtx_dphi</th>\n",
       "      <th>vtx_deta</th>\n",
       "      <th>vtx_deltaZ0</th>\n",
       "      <th>trk_TRT_PID1</th>\n",
       "      <th>trk_TRT_PID2</th>\n",
       "      <th>file_name_label</th>\n",
       "      <th>truth_label</th>\n",
       "      <th>version_label</th>\n",
       "      <th>jf_label</th>\n",
       "    </tr>\n",
       "  </thead>\n",
       "  <tbody>\n",
       "    <tr>\n",
       "      <th>11</th>\n",
       "      <td>16693923</td>\n",
       "      <td>11</td>\n",
       "      <td>22</td>\n",
       "      <td>1</td>\n",
       "      <td>0</td>\n",
       "      <td>0</td>\n",
       "      <td>21.622587</td>\n",
       "      <td>-1.604640</td>\n",
       "      <td>-999.0</td>\n",
       "      <td>-0.000555</td>\n",
       "      <td>...</td>\n",
       "      <td>5.464370</td>\n",
       "      <td>-0.003560</td>\n",
       "      <td>0.011150</td>\n",
       "      <td>0.140817</td>\n",
       "      <td>-0.214053</td>\n",
       "      <td>0.187713</td>\n",
       "      <td>mc23a.Py8EG_A14NNPDF23LO_perf_JF17.root</td>\n",
       "      <td>0.0</td>\n",
       "      <td>a</td>\n",
       "      <td>17.0</td>\n",
       "    </tr>\n",
       "    <tr>\n",
       "      <th>23</th>\n",
       "      <td>14688832</td>\n",
       "      <td>211</td>\n",
       "      <td>-1</td>\n",
       "      <td>1</td>\n",
       "      <td>0</td>\n",
       "      <td>1</td>\n",
       "      <td>20.010380</td>\n",
       "      <td>-2.079451</td>\n",
       "      <td>-999.0</td>\n",
       "      <td>-0.026648</td>\n",
       "      <td>...</td>\n",
       "      <td>0.944250</td>\n",
       "      <td>0.014202</td>\n",
       "      <td>0.002291</td>\n",
       "      <td>21.603737</td>\n",
       "      <td>-0.000000</td>\n",
       "      <td>-0.065896</td>\n",
       "      <td>mc23a.Py8EG_A14NNPDF23LO_perf_JF17.root</td>\n",
       "      <td>0.0</td>\n",
       "      <td>a</td>\n",
       "      <td>17.0</td>\n",
       "    </tr>\n",
       "    <tr>\n",
       "      <th>27</th>\n",
       "      <td>14589210</td>\n",
       "      <td>11</td>\n",
       "      <td>22</td>\n",
       "      <td>1</td>\n",
       "      <td>0</td>\n",
       "      <td>0</td>\n",
       "      <td>21.023991</td>\n",
       "      <td>-2.397505</td>\n",
       "      <td>-999.0</td>\n",
       "      <td>0.005436</td>\n",
       "      <td>...</td>\n",
       "      <td>1.877808</td>\n",
       "      <td>-0.050881</td>\n",
       "      <td>-0.030153</td>\n",
       "      <td>7.962561</td>\n",
       "      <td>-0.000000</td>\n",
       "      <td>-0.000000</td>\n",
       "      <td>mc23a.Py8EG_A14NNPDF23LO_perf_JF17.root</td>\n",
       "      <td>0.0</td>\n",
       "      <td>a</td>\n",
       "      <td>17.0</td>\n",
       "    </tr>\n",
       "    <tr>\n",
       "      <th>76</th>\n",
       "      <td>37354017</td>\n",
       "      <td>11</td>\n",
       "      <td>22</td>\n",
       "      <td>1</td>\n",
       "      <td>1</td>\n",
       "      <td>0</td>\n",
       "      <td>23.153311</td>\n",
       "      <td>2.074435</td>\n",
       "      <td>-999.0</td>\n",
       "      <td>0.022364</td>\n",
       "      <td>...</td>\n",
       "      <td>1.843836</td>\n",
       "      <td>-0.000893</td>\n",
       "      <td>0.001791</td>\n",
       "      <td>0.201263</td>\n",
       "      <td>-0.000000</td>\n",
       "      <td>-0.021037</td>\n",
       "      <td>mc23a.Py8EG_A14NNPDF23LO_perf_JF17.root</td>\n",
       "      <td>0.0</td>\n",
       "      <td>a</td>\n",
       "      <td>17.0</td>\n",
       "    </tr>\n",
       "    <tr>\n",
       "      <th>93</th>\n",
       "      <td>46301157</td>\n",
       "      <td>11</td>\n",
       "      <td>-421</td>\n",
       "      <td>1</td>\n",
       "      <td>0</td>\n",
       "      <td>1</td>\n",
       "      <td>21.937189</td>\n",
       "      <td>-0.371505</td>\n",
       "      <td>-999.0</td>\n",
       "      <td>0.013310</td>\n",
       "      <td>...</td>\n",
       "      <td>0.792125</td>\n",
       "      <td>-0.011645</td>\n",
       "      <td>-0.001488</td>\n",
       "      <td>0.024368</td>\n",
       "      <td>0.034324</td>\n",
       "      <td>-0.025287</td>\n",
       "      <td>mc23a.Py8EG_A14NNPDF23LO_perf_JF17.root</td>\n",
       "      <td>0.0</td>\n",
       "      <td>a</td>\n",
       "      <td>17.0</td>\n",
       "    </tr>\n",
       "    <tr>\n",
       "      <th>...</th>\n",
       "      <td>...</td>\n",
       "      <td>...</td>\n",
       "      <td>...</td>\n",
       "      <td>...</td>\n",
       "      <td>...</td>\n",
       "      <td>...</td>\n",
       "      <td>...</td>\n",
       "      <td>...</td>\n",
       "      <td>...</td>\n",
       "      <td>...</td>\n",
       "      <td>...</td>\n",
       "      <td>...</td>\n",
       "      <td>...</td>\n",
       "      <td>...</td>\n",
       "      <td>...</td>\n",
       "      <td>...</td>\n",
       "      <td>...</td>\n",
       "      <td>...</td>\n",
       "      <td>...</td>\n",
       "      <td>...</td>\n",
       "      <td>...</td>\n",
       "    </tr>\n",
       "    <tr>\n",
       "      <th>6761626</th>\n",
       "      <td>225701527</td>\n",
       "      <td>-11</td>\n",
       "      <td>421</td>\n",
       "      <td>1</td>\n",
       "      <td>1</td>\n",
       "      <td>0</td>\n",
       "      <td>24.582775</td>\n",
       "      <td>0.351512</td>\n",
       "      <td>-999.0</td>\n",
       "      <td>0.031596</td>\n",
       "      <td>...</td>\n",
       "      <td>0.956473</td>\n",
       "      <td>0.021498</td>\n",
       "      <td>0.002397</td>\n",
       "      <td>0.048250</td>\n",
       "      <td>0.046867</td>\n",
       "      <td>0.004711</td>\n",
       "      <td>mc23e.Py8EG_A14NNPDF23LO_perf_JF35.root</td>\n",
       "      <td>0.0</td>\n",
       "      <td>e</td>\n",
       "      <td>35.0</td>\n",
       "    </tr>\n",
       "    <tr>\n",
       "      <th>6761630</th>\n",
       "      <td>225699964</td>\n",
       "      <td>-11</td>\n",
       "      <td>22</td>\n",
       "      <td>1</td>\n",
       "      <td>1</td>\n",
       "      <td>1</td>\n",
       "      <td>35.354706</td>\n",
       "      <td>-0.990781</td>\n",
       "      <td>-999.0</td>\n",
       "      <td>0.007540</td>\n",
       "      <td>...</td>\n",
       "      <td>0.906449</td>\n",
       "      <td>0.012320</td>\n",
       "      <td>-0.003213</td>\n",
       "      <td>0.086342</td>\n",
       "      <td>0.025538</td>\n",
       "      <td>-0.025625</td>\n",
       "      <td>mc23e.Py8EG_A14NNPDF23LO_perf_JF35.root</td>\n",
       "      <td>0.0</td>\n",
       "      <td>e</td>\n",
       "      <td>35.0</td>\n",
       "    </tr>\n",
       "    <tr>\n",
       "      <th>6761836</th>\n",
       "      <td>234007076</td>\n",
       "      <td>211</td>\n",
       "      <td>213</td>\n",
       "      <td>1</td>\n",
       "      <td>0</td>\n",
       "      <td>0</td>\n",
       "      <td>26.807274</td>\n",
       "      <td>-1.649014</td>\n",
       "      <td>-999.0</td>\n",
       "      <td>-0.001223</td>\n",
       "      <td>...</td>\n",
       "      <td>1.427198</td>\n",
       "      <td>0.025322</td>\n",
       "      <td>-0.000789</td>\n",
       "      <td>5.047009</td>\n",
       "      <td>-0.002812</td>\n",
       "      <td>0.046767</td>\n",
       "      <td>mc23e.Py8EG_A14NNPDF23LO_perf_JF35.root</td>\n",
       "      <td>0.0</td>\n",
       "      <td>e</td>\n",
       "      <td>35.0</td>\n",
       "    </tr>\n",
       "    <tr>\n",
       "      <th>6761837</th>\n",
       "      <td>234007293</td>\n",
       "      <td>-11</td>\n",
       "      <td>22</td>\n",
       "      <td>1</td>\n",
       "      <td>1</td>\n",
       "      <td>1</td>\n",
       "      <td>63.137581</td>\n",
       "      <td>-1.677979</td>\n",
       "      <td>-999.0</td>\n",
       "      <td>0.013948</td>\n",
       "      <td>...</td>\n",
       "      <td>2.205901</td>\n",
       "      <td>0.002517</td>\n",
       "      <td>0.000417</td>\n",
       "      <td>0.029053</td>\n",
       "      <td>0.322169</td>\n",
       "      <td>-0.353505</td>\n",
       "      <td>mc23e.Py8EG_A14NNPDF23LO_perf_JF35.root</td>\n",
       "      <td>0.0</td>\n",
       "      <td>e</td>\n",
       "      <td>35.0</td>\n",
       "    </tr>\n",
       "    <tr>\n",
       "      <th>6761849</th>\n",
       "      <td>240117880</td>\n",
       "      <td>11</td>\n",
       "      <td>22</td>\n",
       "      <td>1</td>\n",
       "      <td>1</td>\n",
       "      <td>1</td>\n",
       "      <td>33.907928</td>\n",
       "      <td>2.163471</td>\n",
       "      <td>-999.0</td>\n",
       "      <td>-0.005543</td>\n",
       "      <td>...</td>\n",
       "      <td>1.215212</td>\n",
       "      <td>-0.001360</td>\n",
       "      <td>-0.000386</td>\n",
       "      <td>0.411703</td>\n",
       "      <td>-0.000000</td>\n",
       "      <td>-0.000000</td>\n",
       "      <td>mc23e.Py8EG_A14NNPDF23LO_perf_JF35.root</td>\n",
       "      <td>0.0</td>\n",
       "      <td>e</td>\n",
       "      <td>35.0</td>\n",
       "    </tr>\n",
       "  </tbody>\n",
       "</table>\n",
       "<p>80287 rows × 29 columns</p>\n",
       "</div>"
      ],
      "text/plain": [
       "         eventNumber  pdgId  parentPdgId  isLoose  isTight  \\\n",
       "11          16693923     11           22        1        0   \n",
       "23          14688832    211           -1        1        0   \n",
       "27          14589210     11           22        1        0   \n",
       "76          37354017     11           22        1        1   \n",
       "93          46301157     11         -421        1        0   \n",
       "...              ...    ...          ...      ...      ...   \n",
       "6761626    225701527    -11          421        1        1   \n",
       "6761630    225699964    -11           22        1        1   \n",
       "6761836    234007076    211          213        1        0   \n",
       "6761837    234007293    -11           22        1        1   \n",
       "6761849    240117880     11           22        1        1   \n",
       "\n",
       "         isIsoWithCorr_Loose         pt       eta  true_E      Rhad  ...  \\\n",
       "11                         0  21.622587 -1.604640  -999.0 -0.000555  ...   \n",
       "23                         1  20.010380 -2.079451  -999.0 -0.026648  ...   \n",
       "27                         0  21.023991 -2.397505  -999.0  0.005436  ...   \n",
       "76                         0  23.153311  2.074435  -999.0  0.022364  ...   \n",
       "93                         1  21.937189 -0.371505  -999.0  0.013310  ...   \n",
       "...                      ...        ...       ...     ...       ...  ...   \n",
       "6761626                    0  24.582775  0.351512  -999.0  0.031596  ...   \n",
       "6761630                    1  35.354706 -0.990781  -999.0  0.007540  ...   \n",
       "6761836                    0  26.807274 -1.649014  -999.0 -0.001223  ...   \n",
       "6761837                    1  63.137581 -1.677979  -999.0  0.013948  ...   \n",
       "6761849                    1  33.907928  2.163471  -999.0 -0.005543  ...   \n",
       "\n",
       "           EoverP  vtx_dphi  vtx_deta  vtx_deltaZ0  trk_TRT_PID1  \\\n",
       "11       5.464370 -0.003560  0.011150     0.140817     -0.214053   \n",
       "23       0.944250  0.014202  0.002291    21.603737     -0.000000   \n",
       "27       1.877808 -0.050881 -0.030153     7.962561     -0.000000   \n",
       "76       1.843836 -0.000893  0.001791     0.201263     -0.000000   \n",
       "93       0.792125 -0.011645 -0.001488     0.024368      0.034324   \n",
       "...           ...       ...       ...          ...           ...   \n",
       "6761626  0.956473  0.021498  0.002397     0.048250      0.046867   \n",
       "6761630  0.906449  0.012320 -0.003213     0.086342      0.025538   \n",
       "6761836  1.427198  0.025322 -0.000789     5.047009     -0.002812   \n",
       "6761837  2.205901  0.002517  0.000417     0.029053      0.322169   \n",
       "6761849  1.215212 -0.001360 -0.000386     0.411703     -0.000000   \n",
       "\n",
       "         trk_TRT_PID2                          file_name_label  truth_label  \\\n",
       "11           0.187713  mc23a.Py8EG_A14NNPDF23LO_perf_JF17.root          0.0   \n",
       "23          -0.065896  mc23a.Py8EG_A14NNPDF23LO_perf_JF17.root          0.0   \n",
       "27          -0.000000  mc23a.Py8EG_A14NNPDF23LO_perf_JF17.root          0.0   \n",
       "76          -0.021037  mc23a.Py8EG_A14NNPDF23LO_perf_JF17.root          0.0   \n",
       "93          -0.025287  mc23a.Py8EG_A14NNPDF23LO_perf_JF17.root          0.0   \n",
       "...               ...                                      ...          ...   \n",
       "6761626      0.004711  mc23e.Py8EG_A14NNPDF23LO_perf_JF35.root          0.0   \n",
       "6761630     -0.025625  mc23e.Py8EG_A14NNPDF23LO_perf_JF35.root          0.0   \n",
       "6761836      0.046767  mc23e.Py8EG_A14NNPDF23LO_perf_JF35.root          0.0   \n",
       "6761837     -0.353505  mc23e.Py8EG_A14NNPDF23LO_perf_JF35.root          0.0   \n",
       "6761849     -0.000000  mc23e.Py8EG_A14NNPDF23LO_perf_JF35.root          0.0   \n",
       "\n",
       "         version_label  jf_label  \n",
       "11                   a      17.0  \n",
       "23                   a      17.0  \n",
       "27                   a      17.0  \n",
       "76                   a      17.0  \n",
       "93                   a      17.0  \n",
       "...                ...       ...  \n",
       "6761626              e      35.0  \n",
       "6761630              e      35.0  \n",
       "6761836              e      35.0  \n",
       "6761837              e      35.0  \n",
       "6761849              e      35.0  \n",
       "\n",
       "[80287 rows x 29 columns]"
      ]
     },
     "execution_count": 20,
     "metadata": {},
     "output_type": "execute_result"
    }
   ],
   "source": [
    "bd_cut = bd[ bd[\"isLoose\"]==True ]\n",
    "count_bd = np.append(count_bd, bd_cut.shape[0])\n",
    "bd_cut"
   ]
  },
  {
   "cell_type": "code",
   "execution_count": 21,
   "id": "3c216466",
   "metadata": {},
   "outputs": [
    {
     "data": {
      "image/png": "[encoded data removed]",
      "text/plain": [
       "<Figure size 432x288 with 1 Axes>"
      ]
     },
     "metadata": {
      "needs_background": "light"
     },
     "output_type": "display_data"
    }
   ],
   "source": [
    "ax = bd[\"pdgId\"].value_counts().plot(kind='bar',\n",
    "                                    title = \"PdgID of background\")"
   ]
  },
  {
   "cell_type": "code",
   "execution_count": 22,
   "id": "182e7172",
   "metadata": {},
   "outputs": [
    {
     "data": {
      "image/png": "[encoded data removed]",
      "text/plain": [
       "<Figure size 432x288 with 1 Axes>"
      ]
     },
     "metadata": {
      "needs_background": "light"
     },
     "output_type": "display_data"
    }
   ],
   "source": [
    "ax = bd_cut[\"pdgId\"].value_counts().plot(kind='bar',\n",
    "                                    title = \"PdgID of bkg (after selection on isLoose)\")"
   ]
  },
  {
   "cell_type": "code",
   "execution_count": 23,
   "id": "45ff2c55",
   "metadata": {},
   "outputs": [
    {
     "name": "stdout",
     "output_type": "stream",
     "text": [
      "*Cut isLoose selection (bkg)*\n",
      "\n",
      "Total number of events (bkg): 6761866\n",
      "Number of events after cut: 80287\n",
      "Absolute efficiency: 0.011873497641035773\n",
      "Relative efficiency: 0.011873497641035773\n"
     ]
    }
   ],
   "source": [
    "print(\"*Cut isLoose selection (bkg)*\\n\")\n",
    "print(\"Total number of events (bkg): \" + str(count_bd[0]))\n",
    "print(\"Number of events after cut: \" + str(count_bd[-1]))\n",
    "print(\"Absolute efficiency: \" + str(count_bd[-1] / count_bd[0]) )\n",
    "print(\"Relative efficiency: \" + str(count_bd[-1] / count_bd[-2]) )"
   ]
  },
  {
   "cell_type": "code",
   "execution_count": 24,
   "id": "95b8931a",
   "metadata": {},
   "outputs": [],
   "source": [
    "# cut from background positrons and electrons (+-11)\n",
    "\n",
    "bd_cut = bd_cut[ bd_cut[\"pdgId\"] != +11]\n",
    "bd_cut = bd_cut[ bd_cut[\"pdgId\"] != -11]\n",
    "count_bd = np.append(count_bd, bd_cut.shape[0])"
   ]
  },
  {
   "cell_type": "code",
   "execution_count": 25,
   "id": "47495303",
   "metadata": {},
   "outputs": [
    {
     "name": "stdout",
     "output_type": "stream",
     "text": [
      "*Cut positrons and electrons (bkg)*\n",
      "\n",
      "Total number of events (bkg): 6761866\n",
      "Number of events after cut: 34527\n",
      "Absolute efficiency: 0.005106134904181775\n",
      "Relative efficiency: 0.43004471458642124\n"
     ]
    }
   ],
   "source": [
    "print(\"*Cut positrons and electrons (bkg)*\\n\")\n",
    "print(\"Total number of events (bkg): \" + str(count_bd[0]))\n",
    "print(\"Number of events after cut: \" + str(count_bd[-1]))\n",
    "print(\"Absolute efficiency: \" + str(count_bd[-1] / count_bd[0]) )\n",
    "print(\"Relative efficiency: \" + str(count_bd[-1] / count_bd[-2]) )"
   ]
  },
  {
   "cell_type": "code",
   "execution_count": 26,
   "id": "3927b60e",
   "metadata": {},
   "outputs": [
    {
     "name": "stderr",
     "output_type": "stream",
     "text": [
      "/cvmfs/sft.cern.ch/lcg/views/LCG_103/x86_64-centos7-gcc11-opt/lib/python3.9/site-packages/numpy/lib/histograms.py:906: RuntimeWarning: invalid value encountered in true_divide\n",
      "  return n/db/n.sum(), bin_edges\n",
      "/cvmfs/sft.cern.ch/lcg/views/LCG_103/x86_64-centos7-gcc11-opt/lib/python3.9/site-packages/numpy/lib/histograms.py:906: RuntimeWarning: invalid value encountered in true_divide\n",
      "  return n/db/n.sum(), bin_edges\n"
     ]
    },
    {
     "data": {
      "image/png": "[encoded data removed]",
      "text/plain": [
       "<Figure size 432x288 with 1 Axes>"
      ]
     },
     "metadata": {
      "needs_background": "light"
     },
     "output_type": "display_data"
    },
    {
     "data": {
      "image/png": "[encoded data removed]",
      "text/plain": [
       "<Figure size 432x288 with 1 Axes>"
      ]
     },
     "metadata": {
      "needs_background": "light"
     },
     "output_type": "display_data"
    },
    {
     "data": {
      "image/png": "[encoded data removed]",
      "text/plain": [
       "<Figure size 432x288 with 1 Axes>"
      ]
     },
     "metadata": {
      "needs_background": "light"
     },
     "output_type": "display_data"
    },
    {
     "data": {
      "image/png": "[encoded data removed]",
      "text/plain": [
       "<Figure size 432x288 with 1 Axes>"
      ]
     },
     "metadata": {
      "needs_background": "light"
     },
     "output_type": "display_data"
    },
    {
     "data": {
      "image/png": "[encoded data removed]",
      "text/plain": [
       "<Figure size 432x288 with 1 Axes>"
      ]
     },
     "metadata": {
      "needs_background": "light"
     },
     "output_type": "display_data"
    },
    {
     "data": {
      "image/png": "[encoded data removed]",
      "text/plain": [
       "<Figure size 432x288 with 1 Axes>"
      ]
     },
     "metadata": {
      "needs_background": "light"
     },
     "output_type": "display_data"
    },
    {
     "data": {
      "image/png": "[encoded data removed]",
      "text/plain": [
       "<Figure size 432x288 with 1 Axes>"
      ]
     },
     "metadata": {
      "needs_background": "light"
     },
     "output_type": "display_data"
    },
    {
     "data": {
      "image/png": "[encoded data removed]",
      "text/plain": [
       "<Figure size 432x288 with 1 Axes>"
      ]
     },
     "metadata": {
      "needs_background": "light"
     },
     "output_type": "display_data"
    },
    {
     "data": {
      "image/png": "[encoded data removed]",
      "text/plain": [
       "<Figure size 432x288 with 1 Axes>"
      ]
     },
     "metadata": {
      "needs_background": "light"
     },
     "output_type": "display_data"
    },
    {
     "data": {
      "image/png": "[encoded data removed]",
      "text/plain": [
       "<Figure size 432x288 with 1 Axes>"
      ]
     },
     "metadata": {
      "needs_background": "light"
     },
     "output_type": "display_data"
    },
    {
     "data": {
      "image/png": "[encoded data removed]",
      "text/plain": [
       "<Figure size 432x288 with 1 Axes>"
      ]
     },
     "metadata": {
      "needs_background": "light"
     },
     "output_type": "display_data"
    },
    {
     "data": {
      "image/png": "[encoded data removed]",
      "text/plain": [
       "<Figure size 432x288 with 1 Axes>"
      ]
     },
     "metadata": {
      "needs_background": "light"
     },
     "output_type": "display_data"
    },
    {
     "data": {
      "image/png": "[encoded data removed]",
      "text/plain": [
       "<Figure size 432x288 with 1 Axes>"
      ]
     },
     "metadata": {
      "needs_background": "light"
     },
     "output_type": "display_data"
    },
    {
     "data": {
      "image/png": "[encoded data removed]",
      "text/plain": [
       "<Figure size 432x288 with 1 Axes>"
      ]
     },
     "metadata": {
      "needs_background": "light"
     },
     "output_type": "display_data"
    },
    {
     "data": {
      "image/png": "[encoded data removed]",
      "text/plain": [
       "<Figure size 432x288 with 1 Axes>"
      ]
     },
     "metadata": {
      "needs_background": "light"
     },
     "output_type": "display_data"
    },
    {
     "data": {
      "image/png": "[encoded data removed]",
      "text/plain": [
       "<Figure size 432x288 with 1 Axes>"
      ]
     },
     "metadata": {
      "needs_background": "light"
     },
     "output_type": "display_data"
    },
    {
     "data": {
      "image/png": "[encoded data removed]",
      "text/plain": [
       "<Figure size 432x288 with 1 Axes>"
      ]
     },
     "metadata": {
      "needs_background": "light"
     },
     "output_type": "display_data"
    }
   ],
   "source": [
    "for vname in discriminating_variables:\n",
    "    if (vname == \"pt\") | (vname == \"eta\"): continue\n",
    "    \n",
    "    if \"Rhad\" in vname:\n",
    "        plt.figure()\n",
    "        bd[ ((bd[vname])<.6)][vname].plot.hist(bins=100,alpha=0.5, density='true', label='Background' , legend='true')\n",
    "        sd[ ((sd[vname])<.6)][vname].plot.hist(bins=100,alpha=0.5, density='true', label='Signal' , legend='true')\n",
    "        plt.gca().set(xlabel=vname)\n",
    "    \n",
    "    elif \"TRT_PID\" in vname:\n",
    "        plt.figure()\n",
    "        bd[ (abs(bd[vname])<1.5)][vname].plot.hist(bins=80,alpha=0.5, density='true', label='Background' , legend='true')\n",
    "        sd[ (abs(sd[vname])<1.5)][vname].plot.hist(bins=80,alpha=0.5, density='true', label='Signal' , legend='true')\n",
    "        plt.gca().set(xlabel=vname)\n",
    "    \n",
    "    else: \n",
    "        plt.figure()\n",
    "        bd[ (abs(bd[vname])<1.5)][vname].plot.hist(bins=100,alpha=0.5, density='true', label='Background' , legend='true')\n",
    "        sd[ (abs(sd[vname])<1.5)][vname].plot.hist(bins=100,alpha=0.5, density='true', label='Signal' , legend='true')\n",
    "        plt.gca().set(xlabel=vname)"
   ]
  },
  {
   "cell_type": "code",
   "execution_count": 66,
   "id": "92d0ebf4",
   "metadata": {},
   "outputs": [
    {
     "name": "stdout",
     "output_type": "stream",
     "text": [
      "Plot with selected bkg\n"
     ]
    },
    {
     "name": "stderr",
     "output_type": "stream",
     "text": [
      "/cvmfs/sft.cern.ch/lcg/views/LCG_103/x86_64-centos7-gcc11-opt/lib/python3.9/site-packages/numpy/lib/histograms.py:906: RuntimeWarning: invalid value encountered in true_divide\n",
      "  return n/db/n.sum(), bin_edges\n",
      "/cvmfs/sft.cern.ch/lcg/views/LCG_103/x86_64-centos7-gcc11-opt/lib/python3.9/site-packages/numpy/lib/histograms.py:906: RuntimeWarning: invalid value encountered in true_divide\n",
      "  return n/db/n.sum(), bin_edges\n"
     ]
    },
    {
     "data": {
      "image/png": "[encoded data removed]",
      "text/plain": [
       "<Figure size 432x288 with 1 Axes>"
      ]
     },
     "metadata": {
      "needs_background": "light"
     },
     "output_type": "display_data"
    },
    {
     "data": {
      "image/png": "[encoded data removed]",
      "text/plain": [
       "<Figure size 432x288 with 1 Axes>"
      ]
     },
     "metadata": {
      "needs_background": "light"
     },
     "output_type": "display_data"
    },
    {
     "data": {
      "image/png": "[encoded data removed]",
      "text/plain": [
       "<Figure size 432x288 with 1 Axes>"
      ]
     },
     "metadata": {
      "needs_background": "light"
     },
     "output_type": "display_data"
    },
    {
     "data": {
      "image/png": "[encoded data removed]",
      "text/plain": [
       "<Figure size 432x288 with 1 Axes>"
      ]
     },
     "metadata": {
      "needs_background": "light"
     },
     "output_type": "display_data"
    },
    {
     "data": {
      "image/png": "[encoded data removed]",
      "text/plain": [
       "<Figure size 432x288 with 1 Axes>"
      ]
     },
     "metadata": {
      "needs_background": "light"
     },
     "output_type": "display_data"
    },
    {
     "data": {
      "image/png": "[encoded data removed]",
      "text/plain": [
       "<Figure size 432x288 with 1 Axes>"
      ]
     },
     "metadata": {
      "needs_background": "light"
     },
     "output_type": "display_data"
    },
    {
     "data": {
      "image/png": "[encoded data removed]",
      "text/plain": [
       "<Figure size 432x288 with 1 Axes>"
      ]
     },
     "metadata": {
      "needs_background": "light"
     },
     "output_type": "display_data"
    },
    {
     "data": {
      "image/png": "[encoded data removed]",
      "text/plain": [
       "<Figure size 432x288 with 1 Axes>"
      ]
     },
     "metadata": {
      "needs_background": "light"
     },
     "output_type": "display_data"
    },
    {
     "data": {
      "image/png": "[encoded data removed]",
      "text/plain": [
       "<Figure size 432x288 with 1 Axes>"
      ]
     },
     "metadata": {
      "needs_background": "light"
     },
     "output_type": "display_data"
    },
    {
     "data": {
      "image/png": "[encoded data removed]",
      "text/plain": [
       "<Figure size 432x288 with 1 Axes>"
      ]
     },
     "metadata": {
      "needs_background": "light"
     },
     "output_type": "display_data"
    },
    {
     "data": {
      "image/png": "[encoded data removed]",
      "text/plain": [
       "<Figure size 432x288 with 1 Axes>"
      ]
     },
     "metadata": {
      "needs_background": "light"
     },
     "output_type": "display_data"
    },
    {
     "data": {
      "image/png": "[encoded data removed]",
      "text/plain": [
       "<Figure size 432x288 with 1 Axes>"
      ]
     },
     "metadata": {
      "needs_background": "light"
     },
     "output_type": "display_data"
    },
    {
     "data": {
      "image/png": "[encoded data removed]",
      "text/plain": [
       "<Figure size 432x288 with 1 Axes>"
      ]
     },
     "metadata": {
      "needs_background": "light"
     },
     "output_type": "display_data"
    },
    {
     "data": {
      "image/png": "[encoded data removed]",
      "text/plain": [
       "<Figure size 432x288 with 1 Axes>"
      ]
     },
     "metadata": {
      "needs_background": "light"
     },
     "output_type": "display_data"
    },
    {
     "data": {
      "image/png": "[encoded data removed]",
      "text/plain": [
       "<Figure size 432x288 with 1 Axes>"
      ]
     },
     "metadata": {
      "needs_background": "light"
     },
     "output_type": "display_data"
    },
    {
     "data": {
      "image/png": "[encoded data removed]",
      "text/plain": [
       "<Figure size 432x288 with 1 Axes>"
      ]
     },
     "metadata": {
      "needs_background": "light"
     },
     "output_type": "display_data"
    },
    {
     "data": {
      "image/png": "[encoded data removed]",
      "text/plain": [
       "<Figure size 432x288 with 1 Axes>"
      ]
     },
     "metadata": {
      "needs_background": "light"
     },
     "output_type": "display_data"
    }
   ],
   "source": [
    "print(\"Plot with selected bkg\")\n",
    "for vname in discriminating_variables:\n",
    "    if (vname == \"pt\") | (vname == \"eta\"): continue\n",
    "    \n",
    "    if \"Rhad\" in vname:\n",
    "        plt.figure()\n",
    "        bd_cut[vname].plot.hist(bins=200,alpha=0.5, density='true', label='Background' , legend='true')\n",
    "        sd[vname].plot.hist(bins=200,alpha=0.5, density='true', label='Signal' , legend='true')\n",
    "        plt.gca().set(xlabel=vname)\n",
    "        plt.xlim(-0.1, 0.1)\n",
    "    \n",
    "    elif \"TRT_PID\" in vname:\n",
    "        plt.figure()\n",
    "        bd_cut[ (abs(bd_cut[vname])<1.5)][vname].plot.hist(bins=80,alpha=0.5, density='true', label='Background' , legend='true')\n",
    "        sd[ (abs(sd[vname])<1.5)][vname].plot.hist(bins=80,alpha=0.5, density='true', label='Signal' , legend='true')\n",
    "        plt.gca().set(xlabel=vname)\n",
    "    \n",
    "    else: \n",
    "        plt.figure()\n",
    "        bd_cut[ (abs(bd_cut[vname])<1.5)][vname].plot.hist(bins=100,alpha=0.5, density='true', label='Background' , legend='true')\n",
    "        sd[ (abs(sd[vname])<1.5)][vname].plot.hist(bins=100,alpha=0.5, density='true', label='Signal' , legend='true')\n",
    "        plt.gca().set(xlabel=vname)\n"
   ]
  },
  {
   "cell_type": "code",
   "execution_count": 64,
   "id": "4788b586",
   "metadata": {},
   "outputs": [
    {
     "data": {
      "text/plain": [
       "(-0.05, 0.06)"
      ]
     },
     "execution_count": 64,
     "metadata": {},
     "output_type": "execute_result"
    },
    {
     "data": {
      "image/png": "[encoded data removed]",
      "text/plain": [
       "<Figure size 432x288 with 1 Axes>"
      ]
     },
     "metadata": {
      "needs_background": "light"
     },
     "output_type": "display_data"
    }
   ],
   "source": [
    "vname = \"f3\"\n",
    "plt.figure()\n",
    "bd_cut[vname].plot.hist(bins=200,alpha=0.5, density='true', label='Background' , legend='true')\n",
    "sd[vname].plot.hist(bins=200,alpha=0.5, density='true', label='Signal' , legend='true')\n",
    "plt.gca().set(xlabel=vname)\n",
    "plt.xlim(-0.05, 0.06)"
   ]
  },
  {
   "cell_type": "code",
   "execution_count": null,
   "id": "d28e5e44",
   "metadata": {},
   "outputs": [],
   "source": [
    "vname = \"f3\"\n",
    "plt.figure()\n",
    "bd_cut[vname].plot.hist(bins=200,alpha=0.5, density='true', label='Background' , legend='true')\n",
    "sd[vname].plot.hist(bins=200,alpha=0.5, density='true', label='Signal' , legend='true')\n",
    "plt.gca().set(xlabel=vname)\n",
    "plt.xlim(-0.05, 0.06)"
   ]
  },
  {
   "cell_type": "code",
   "execution_count": 29,
   "id": "c625b865",
   "metadata": {},
   "outputs": [
    {
     "name": "stdout",
     "output_type": "stream",
     "text": [
      "Total events:\n"
     ]
    },
    {
     "data": {
      "text/html": [
       "<div>\n",
       "<style scoped>\n",
       "    .dataframe tbody tr th:only-of-type {\n",
       "        vertical-align: middle;\n",
       "    }\n",
       "\n",
       "    .dataframe tbody tr th {\n",
       "        vertical-align: top;\n",
       "    }\n",
       "\n",
       "    .dataframe thead th {\n",
       "        text-align: right;\n",
       "    }\n",
       "</style>\n",
       "<table border=\"1\" class=\"dataframe\">\n",
       "  <thead>\n",
       "    <tr style=\"text-align: right;\">\n",
       "      <th></th>\n",
       "      <th>eventNumber</th>\n",
       "      <th>pdgId</th>\n",
       "      <th>parentPdgId</th>\n",
       "      <th>isLoose</th>\n",
       "      <th>isTight</th>\n",
       "      <th>isIsoWithCorr_Loose</th>\n",
       "      <th>pt</th>\n",
       "      <th>eta</th>\n",
       "      <th>true_E</th>\n",
       "      <th>Rhad</th>\n",
       "      <th>...</th>\n",
       "      <th>EoverP</th>\n",
       "      <th>vtx_dphi</th>\n",
       "      <th>vtx_deta</th>\n",
       "      <th>vtx_deltaZ0</th>\n",
       "      <th>trk_TRT_PID1</th>\n",
       "      <th>trk_TRT_PID2</th>\n",
       "      <th>file_name_label</th>\n",
       "      <th>truth_label</th>\n",
       "      <th>version_label</th>\n",
       "      <th>jf_label</th>\n",
       "    </tr>\n",
       "  </thead>\n",
       "  <tbody>\n",
       "    <tr>\n",
       "      <th>0</th>\n",
       "      <td>216028</td>\n",
       "      <td>11</td>\n",
       "      <td>11</td>\n",
       "      <td>1</td>\n",
       "      <td>0</td>\n",
       "      <td>1</td>\n",
       "      <td>69.194923</td>\n",
       "      <td>0.243375</td>\n",
       "      <td>69884.984375</td>\n",
       "      <td>-0.000153</td>\n",
       "      <td>...</td>\n",
       "      <td>1.181469</td>\n",
       "      <td>0.000508</td>\n",
       "      <td>0.003027</td>\n",
       "      <td>0.189831</td>\n",
       "      <td>-0.027880</td>\n",
       "      <td>-0.006519</td>\n",
       "      <td>mc23a.PhPy8EG_NNPDF23_A14_ggH125_yys_ME002.root</td>\n",
       "      <td>1.0</td>\n",
       "      <td>a</td>\n",
       "      <td>NaN</td>\n",
       "    </tr>\n",
       "    <tr>\n",
       "      <th>1</th>\n",
       "      <td>216005</td>\n",
       "      <td>-11</td>\n",
       "      <td>-11</td>\n",
       "      <td>1</td>\n",
       "      <td>0</td>\n",
       "      <td>1</td>\n",
       "      <td>59.034683</td>\n",
       "      <td>0.146982</td>\n",
       "      <td>66662.125000</td>\n",
       "      <td>-0.005290</td>\n",
       "      <td>...</td>\n",
       "      <td>0.993656</td>\n",
       "      <td>0.002240</td>\n",
       "      <td>-0.008324</td>\n",
       "      <td>0.101280</td>\n",
       "      <td>0.003245</td>\n",
       "      <td>0.103180</td>\n",
       "      <td>mc23a.PhPy8EG_NNPDF23_A14_ggH125_yys_ME002.root</td>\n",
       "      <td>1.0</td>\n",
       "      <td>a</td>\n",
       "      <td>NaN</td>\n",
       "    </tr>\n",
       "    <tr>\n",
       "      <th>2</th>\n",
       "      <td>216040</td>\n",
       "      <td>11</td>\n",
       "      <td>22</td>\n",
       "      <td>1</td>\n",
       "      <td>1</td>\n",
       "      <td>1</td>\n",
       "      <td>72.487686</td>\n",
       "      <td>0.485934</td>\n",
       "      <td>81926.343750</td>\n",
       "      <td>-0.000508</td>\n",
       "      <td>...</td>\n",
       "      <td>1.128548</td>\n",
       "      <td>-0.004982</td>\n",
       "      <td>-0.001126</td>\n",
       "      <td>0.028361</td>\n",
       "      <td>0.011771</td>\n",
       "      <td>0.005606</td>\n",
       "      <td>mc23a.PhPy8EG_NNPDF23_A14_ggH125_yys_ME002.root</td>\n",
       "      <td>1.0</td>\n",
       "      <td>a</td>\n",
       "      <td>NaN</td>\n",
       "    </tr>\n",
       "    <tr>\n",
       "      <th>3</th>\n",
       "      <td>216008</td>\n",
       "      <td>11</td>\n",
       "      <td>22</td>\n",
       "      <td>1</td>\n",
       "      <td>1</td>\n",
       "      <td>1</td>\n",
       "      <td>31.882032</td>\n",
       "      <td>0.403211</td>\n",
       "      <td>39761.117188</td>\n",
       "      <td>-0.001891</td>\n",
       "      <td>...</td>\n",
       "      <td>1.008108</td>\n",
       "      <td>-0.014281</td>\n",
       "      <td>0.001685</td>\n",
       "      <td>0.095896</td>\n",
       "      <td>-0.041915</td>\n",
       "      <td>-0.012443</td>\n",
       "      <td>mc23a.PhPy8EG_NNPDF23_A14_ggH125_yys_ME002.root</td>\n",
       "      <td>1.0</td>\n",
       "      <td>a</td>\n",
       "      <td>NaN</td>\n",
       "    </tr>\n",
       "    <tr>\n",
       "      <th>4</th>\n",
       "      <td>216017</td>\n",
       "      <td>11</td>\n",
       "      <td>22</td>\n",
       "      <td>1</td>\n",
       "      <td>1</td>\n",
       "      <td>1</td>\n",
       "      <td>63.155869</td>\n",
       "      <td>-0.323868</td>\n",
       "      <td>65556.718750</td>\n",
       "      <td>-0.000308</td>\n",
       "      <td>...</td>\n",
       "      <td>1.066187</td>\n",
       "      <td>-0.006264</td>\n",
       "      <td>-0.001361</td>\n",
       "      <td>0.078125</td>\n",
       "      <td>0.060672</td>\n",
       "      <td>-0.109327</td>\n",
       "      <td>mc23a.PhPy8EG_NNPDF23_A14_ggH125_yys_ME002.root</td>\n",
       "      <td>1.0</td>\n",
       "      <td>a</td>\n",
       "      <td>NaN</td>\n",
       "    </tr>\n",
       "    <tr>\n",
       "      <th>...</th>\n",
       "      <td>...</td>\n",
       "      <td>...</td>\n",
       "      <td>...</td>\n",
       "      <td>...</td>\n",
       "      <td>...</td>\n",
       "      <td>...</td>\n",
       "      <td>...</td>\n",
       "      <td>...</td>\n",
       "      <td>...</td>\n",
       "      <td>...</td>\n",
       "      <td>...</td>\n",
       "      <td>...</td>\n",
       "      <td>...</td>\n",
       "      <td>...</td>\n",
       "      <td>...</td>\n",
       "      <td>...</td>\n",
       "      <td>...</td>\n",
       "      <td>...</td>\n",
       "      <td>...</td>\n",
       "      <td>...</td>\n",
       "      <td>...</td>\n",
       "    </tr>\n",
       "    <tr>\n",
       "      <th>845954</th>\n",
       "      <td>222655678</td>\n",
       "      <td>-211</td>\n",
       "      <td>113</td>\n",
       "      <td>1</td>\n",
       "      <td>0</td>\n",
       "      <td>1</td>\n",
       "      <td>34.409515</td>\n",
       "      <td>-2.248464</td>\n",
       "      <td>-999.000000</td>\n",
       "      <td>-0.012502</td>\n",
       "      <td>...</td>\n",
       "      <td>3.769777</td>\n",
       "      <td>0.026743</td>\n",
       "      <td>-0.004160</td>\n",
       "      <td>0.466810</td>\n",
       "      <td>-0.000000</td>\n",
       "      <td>-0.000000</td>\n",
       "      <td>mc23e.Py8EG_A14NNPDF23LO_perf_JF35.root</td>\n",
       "      <td>0.0</td>\n",
       "      <td>e</td>\n",
       "      <td>35.0</td>\n",
       "    </tr>\n",
       "    <tr>\n",
       "      <th>845955</th>\n",
       "      <td>230416853</td>\n",
       "      <td>22</td>\n",
       "      <td>22</td>\n",
       "      <td>1</td>\n",
       "      <td>0</td>\n",
       "      <td>1</td>\n",
       "      <td>51.500423</td>\n",
       "      <td>1.567433</td>\n",
       "      <td>-999.000000</td>\n",
       "      <td>-0.000768</td>\n",
       "      <td>...</td>\n",
       "      <td>23.621473</td>\n",
       "      <td>0.145580</td>\n",
       "      <td>-0.023926</td>\n",
       "      <td>10.566835</td>\n",
       "      <td>-0.158224</td>\n",
       "      <td>-0.198080</td>\n",
       "      <td>mc23e.Py8EG_A14NNPDF23LO_perf_JF35.root</td>\n",
       "      <td>0.0</td>\n",
       "      <td>e</td>\n",
       "      <td>35.0</td>\n",
       "    </tr>\n",
       "    <tr>\n",
       "      <th>845956</th>\n",
       "      <td>233902459</td>\n",
       "      <td>-211</td>\n",
       "      <td>-421</td>\n",
       "      <td>1</td>\n",
       "      <td>0</td>\n",
       "      <td>0</td>\n",
       "      <td>40.405586</td>\n",
       "      <td>0.782743</td>\n",
       "      <td>-999.000000</td>\n",
       "      <td>0.011925</td>\n",
       "      <td>...</td>\n",
       "      <td>0.816554</td>\n",
       "      <td>-0.025729</td>\n",
       "      <td>0.003783</td>\n",
       "      <td>0.013111</td>\n",
       "      <td>-0.123990</td>\n",
       "      <td>-0.060378</td>\n",
       "      <td>mc23e.Py8EG_A14NNPDF23LO_perf_JF35.root</td>\n",
       "      <td>0.0</td>\n",
       "      <td>e</td>\n",
       "      <td>35.0</td>\n",
       "    </tr>\n",
       "    <tr>\n",
       "      <th>845957</th>\n",
       "      <td>246713775</td>\n",
       "      <td>22</td>\n",
       "      <td>111</td>\n",
       "      <td>1</td>\n",
       "      <td>0</td>\n",
       "      <td>1</td>\n",
       "      <td>32.449577</td>\n",
       "      <td>-0.714900</td>\n",
       "      <td>-999.000000</td>\n",
       "      <td>-0.002242</td>\n",
       "      <td>...</td>\n",
       "      <td>18.472908</td>\n",
       "      <td>-0.004053</td>\n",
       "      <td>0.048673</td>\n",
       "      <td>41.731293</td>\n",
       "      <td>0.029206</td>\n",
       "      <td>-0.054934</td>\n",
       "      <td>mc23e.Py8EG_A14NNPDF23LO_perf_JF35.root</td>\n",
       "      <td>0.0</td>\n",
       "      <td>e</td>\n",
       "      <td>35.0</td>\n",
       "    </tr>\n",
       "    <tr>\n",
       "      <th>845958</th>\n",
       "      <td>234007076</td>\n",
       "      <td>211</td>\n",
       "      <td>213</td>\n",
       "      <td>1</td>\n",
       "      <td>0</td>\n",
       "      <td>0</td>\n",
       "      <td>26.807274</td>\n",
       "      <td>-1.649014</td>\n",
       "      <td>-999.000000</td>\n",
       "      <td>-0.001223</td>\n",
       "      <td>...</td>\n",
       "      <td>1.427198</td>\n",
       "      <td>0.025322</td>\n",
       "      <td>-0.000789</td>\n",
       "      <td>5.047009</td>\n",
       "      <td>-0.002812</td>\n",
       "      <td>0.046767</td>\n",
       "      <td>mc23e.Py8EG_A14NNPDF23LO_perf_JF35.root</td>\n",
       "      <td>0.0</td>\n",
       "      <td>e</td>\n",
       "      <td>35.0</td>\n",
       "    </tr>\n",
       "  </tbody>\n",
       "</table>\n",
       "<p>845959 rows × 29 columns</p>\n",
       "</div>"
      ],
      "text/plain": [
       "        eventNumber  pdgId  parentPdgId  isLoose  isTight  \\\n",
       "0            216028     11           11        1        0   \n",
       "1            216005    -11          -11        1        0   \n",
       "2            216040     11           22        1        1   \n",
       "3            216008     11           22        1        1   \n",
       "4            216017     11           22        1        1   \n",
       "...             ...    ...          ...      ...      ...   \n",
       "845954    222655678   -211          113        1        0   \n",
       "845955    230416853     22           22        1        0   \n",
       "845956    233902459   -211         -421        1        0   \n",
       "845957    246713775     22          111        1        0   \n",
       "845958    234007076    211          213        1        0   \n",
       "\n",
       "        isIsoWithCorr_Loose         pt       eta        true_E      Rhad  ...  \\\n",
       "0                         1  69.194923  0.243375  69884.984375 -0.000153  ...   \n",
       "1                         1  59.034683  0.146982  66662.125000 -0.005290  ...   \n",
       "2                         1  72.487686  0.485934  81926.343750 -0.000508  ...   \n",
       "3                         1  31.882032  0.403211  39761.117188 -0.001891  ...   \n",
       "4                         1  63.155869 -0.323868  65556.718750 -0.000308  ...   \n",
       "...                     ...        ...       ...           ...       ...  ...   \n",
       "845954                    1  34.409515 -2.248464   -999.000000 -0.012502  ...   \n",
       "845955                    1  51.500423  1.567433   -999.000000 -0.000768  ...   \n",
       "845956                    0  40.405586  0.782743   -999.000000  0.011925  ...   \n",
       "845957                    1  32.449577 -0.714900   -999.000000 -0.002242  ...   \n",
       "845958                    0  26.807274 -1.649014   -999.000000 -0.001223  ...   \n",
       "\n",
       "           EoverP  vtx_dphi  vtx_deta  vtx_deltaZ0  trk_TRT_PID1  \\\n",
       "0        1.181469  0.000508  0.003027     0.189831     -0.027880   \n",
       "1        0.993656  0.002240 -0.008324     0.101280      0.003245   \n",
       "2        1.128548 -0.004982 -0.001126     0.028361      0.011771   \n",
       "3        1.008108 -0.014281  0.001685     0.095896     -0.041915   \n",
       "4        1.066187 -0.006264 -0.001361     0.078125      0.060672   \n",
       "...           ...       ...       ...          ...           ...   \n",
       "845954   3.769777  0.026743 -0.004160     0.466810     -0.000000   \n",
       "845955  23.621473  0.145580 -0.023926    10.566835     -0.158224   \n",
       "845956   0.816554 -0.025729  0.003783     0.013111     -0.123990   \n",
       "845957  18.472908 -0.004053  0.048673    41.731293      0.029206   \n",
       "845958   1.427198  0.025322 -0.000789     5.047009     -0.002812   \n",
       "\n",
       "        trk_TRT_PID2                                  file_name_label  \\\n",
       "0          -0.006519  mc23a.PhPy8EG_NNPDF23_A14_ggH125_yys_ME002.root   \n",
       "1           0.103180  mc23a.PhPy8EG_NNPDF23_A14_ggH125_yys_ME002.root   \n",
       "2           0.005606  mc23a.PhPy8EG_NNPDF23_A14_ggH125_yys_ME002.root   \n",
       "3          -0.012443  mc23a.PhPy8EG_NNPDF23_A14_ggH125_yys_ME002.root   \n",
       "4          -0.109327  mc23a.PhPy8EG_NNPDF23_A14_ggH125_yys_ME002.root   \n",
       "...              ...                                              ...   \n",
       "845954     -0.000000          mc23e.Py8EG_A14NNPDF23LO_perf_JF35.root   \n",
       "845955     -0.198080          mc23e.Py8EG_A14NNPDF23LO_perf_JF35.root   \n",
       "845956     -0.060378          mc23e.Py8EG_A14NNPDF23LO_perf_JF35.root   \n",
       "845957     -0.054934          mc23e.Py8EG_A14NNPDF23LO_perf_JF35.root   \n",
       "845958      0.046767          mc23e.Py8EG_A14NNPDF23LO_perf_JF35.root   \n",
       "\n",
       "        truth_label  version_label  jf_label  \n",
       "0               1.0              a       NaN  \n",
       "1               1.0              a       NaN  \n",
       "2               1.0              a       NaN  \n",
       "3               1.0              a       NaN  \n",
       "4               1.0              a       NaN  \n",
       "...             ...            ...       ...  \n",
       "845954          0.0              e      35.0  \n",
       "845955          0.0              e      35.0  \n",
       "845956          0.0              e      35.0  \n",
       "845957          0.0              e      35.0  \n",
       "845958          0.0              e      35.0  \n",
       "\n",
       "[845959 rows x 29 columns]"
      ]
     },
     "execution_count": 29,
     "metadata": {},
     "output_type": "execute_result"
    }
   ],
   "source": [
    "# create a joint dataframe: totald\n",
    "\n",
    "totald = pd.concat([sd, bd_cut], axis=0, ignore_index=True)\n",
    "print(\"Total events:\")\n",
    "totald"
   ]
  },
  {
   "cell_type": "code",
   "execution_count": 30,
   "id": "3b9910f0",
   "metadata": {},
   "outputs": [],
   "source": [
    "# weight calculation sd / bd_cut (based on pt and eta)\n",
    "# **global weights** based on the luminosity of different versions: a, d, e\n",
    "\n",
    "# set \"global\" weights depending on statistics of every file\n",
    "\n",
    "# 1. mc23a: 31.4 fb^(-1)\n",
    "# 2. mc23d: 27.8 fb^(-1)\n",
    "# 3. mc23e: 109.8 fb^(-1)\n",
    "\n",
    "totald[\"weight_glob\"] = pd.Series(dtype='float')\n",
    "\n",
    "totald.loc[(totald[\"version_label\"] == 'a', \"weight_glob\")] = 31.4\n",
    "totald.loc[(totald[\"version_label\"] == 'd', \"weight_glob\")] = 27.8\n",
    "totald.loc[(totald[\"version_label\"] == 'e', \"weight_glob\")] = 109.8\n"
   ]
  },
  {
   "cell_type": "code",
   "execution_count": 31,
   "id": "0fee86a8",
   "metadata": {},
   "outputs": [
    {
     "data": {
      "text/plain": [
       "<matplotlib.legend.Legend at 0x7efc85709850>"
      ]
     },
     "execution_count": 31,
     "metadata": {},
     "output_type": "execute_result"
    },
    {
     "data": {
      "image/png": "[encoded data removed]",
      "text/plain": [
       "<Figure size 432x288 with 1 Axes>"
      ]
     },
     "metadata": {
      "needs_background": "light"
     },
     "output_type": "display_data"
    }
   ],
   "source": [
    "# **weight eta**\n",
    "# fixed min and max\n",
    "etamin = -2.6\n",
    "etamax = 2.6\n",
    "# etamin = totald[\"eta\"].min()\n",
    "# etamax = totald[\"eta\"].max()\n",
    "nbins_eta = 52\n",
    "eta_bins = np.linspace(etamin, etamax, nbins_eta+1)\n",
    "\n",
    "# histograms\n",
    "\n",
    "h_eta_bkg = plt.hist( totald[ totald[\"truth_label\"]==0 ][\"eta\"] ,\n",
    "                     weights = totald[ totald[\"truth_label\"]==0 ][\"weight_glob\"],\n",
    "                     histtype='step', log = True, bins = eta_bins,\n",
    "                     label='Background')\n",
    "\n",
    "h_eta_sig = plt.hist( totald[ totald[\"truth_label\"]==1 ][\"eta\"] ,\n",
    "                     weights = totald[ totald[\"truth_label\"]==1 ][\"weight_glob\"],\n",
    "                     histtype='step', log = True, bins = eta_bins,\n",
    "                     label='Signal')\n",
    "\n",
    "plt.gca().set(xlabel=\"eta\")\n",
    "plt.legend(loc=\"upper right\")"
   ]
  },
  {
   "cell_type": "code",
   "execution_count": 32,
   "id": "b95d8375",
   "metadata": {},
   "outputs": [
    {
     "name": "stderr",
     "output_type": "stream",
     "text": [
      "/tmp/ipykernel_3046/3896958589.py:3: RuntimeWarning: invalid value encountered in true_divide\n",
      "  eta_w = np.where(h_eta_bkg[0] == 0 , 1., h_eta_sig[0] / h_eta_bkg[0])\n"
     ]
    },
    {
     "data": {
      "text/plain": [
       "array([ 1.        , 10.93859065, 12.63190574, 13.8227236 , 15.76072413,\n",
       "       13.52735224, 24.90241961, 26.21140362, 17.88771325, 13.27802362,\n",
       "       11.61515614,  0.19198175, 30.4090934 , 37.50216231, 35.77375006,\n",
       "       40.18111791, 37.11274682, 32.84338112, 25.55207272, 29.82419814,\n",
       "       37.13702954, 39.74105806, 38.89003949, 35.63744921, 34.94788624,\n",
       "       31.58404032, 35.7905459 , 36.89721302, 34.57491137, 37.46019118,\n",
       "       46.21526256, 39.12934059, 31.95427872, 28.46951385, 38.95347578,\n",
       "       37.00535451, 42.98784891, 37.41983382, 37.13605764, 31.19691278,\n",
       "        0.33503531, 13.57131925, 16.08973579, 21.2622467 , 30.67493349,\n",
       "       26.83125591, 15.84741374, 14.79226236, 12.89491178, 11.72461468,\n",
       "        9.80551741,  1.        ])"
      ]
     },
     "execution_count": 32,
     "metadata": {},
     "output_type": "execute_result"
    }
   ],
   "source": [
    "# weight_eta calclulation (ratio between bins)\n",
    "\n",
    "eta_w = np.where(h_eta_bkg[0] == 0 , 1., h_eta_sig[0] / h_eta_bkg[0])\n",
    "eta_w"
   ]
  },
  {
   "cell_type": "code",
   "execution_count": 33,
   "id": "5f3bcdef",
   "metadata": {},
   "outputs": [
    {
     "data": {
      "text/plain": [
       "<matplotlib.legend.Legend at 0x7efc86062970>"
      ]
     },
     "execution_count": 33,
     "metadata": {},
     "output_type": "execute_result"
    },
    {
     "data": {
      "image/png": "[encoded data removed]",
      "text/plain": [
       "<Figure size 432x288 with 1 Axes>"
      ]
     },
     "metadata": {
      "needs_background": "light"
     },
     "output_type": "display_data"
    }
   ],
   "source": [
    "# calcultate for each (not only bkg!) event what bin it belongs to\n",
    "\n",
    "bin_idx_bkg_eta = np.digitize(totald[\"eta\"], eta_bins)\n",
    "idx_bkg_eta = pd.Series(bin_idx_bkg_eta)\n",
    "idx_bkg_eta\n",
    "\n",
    "# map every bin to the corresponding weight\n",
    "\n",
    "dfw_bkg_eta = idx_bkg_eta.map({i+1 : eta_w[i] for i in range(nbins_eta)})\n",
    "dfw_bkg_eta\n",
    "\n",
    "# attach weights to the dataframe, with condition on signal events\n",
    "\n",
    "totald[\"weight_eta\"] = dfw_bkg_eta.where( totald[\"truth_label\"]==0 , 1.)\n",
    "totald[\"weight_eta\"]\n",
    "\n",
    "# histograms\n",
    "h_eta_bkg = plt.hist( totald[ totald[\"truth_label\"]==0 ][\"eta\"] ,\n",
    "                     weights = totald[ totald[\"truth_label\"]==0 ][\"weight_eta\"] * totald[ totald[\"truth_label\"]==0 ][\"weight_glob\"],\n",
    "                     histtype='stepfilled', bins = eta_bins,\n",
    "                     label='Background')\n",
    "\n",
    "\n",
    "h_eta_sig = plt.hist( totald[ totald[\"truth_label\"]==1 ][\"eta\"] ,\n",
    "                     weights = totald[ totald[\"truth_label\"]==1 ][\"weight_eta\"] * totald[ totald[\"truth_label\"]==1 ][\"weight_glob\"],\n",
    "                     histtype='step', log = True, bins = eta_bins,\n",
    "                     label='Signal')\n",
    "\n",
    "plt.gca().set(xlabel=\"eta\")\n",
    "plt.legend(loc=\"upper right\")"
   ]
  },
  {
   "cell_type": "code",
   "execution_count": 34,
   "id": "288b3519",
   "metadata": {},
   "outputs": [
    {
     "data": {
      "text/plain": [
       "array([  20.00024414,   20.31944656,   20.64755493,   20.97622093,\n",
       "         21.30948509,   21.67447662,   22.07830765,   22.49379158,\n",
       "         22.94754364,   23.48436485,   23.97818832,   24.6153299 ,\n",
       "         25.2672068 ,   26.02102119,   26.88541435,   27.82475929,\n",
       "         28.75865952,   29.69132767,   30.67704964,   31.70501175,\n",
       "         32.7671814 ,   33.77505814,   34.85944275,   36.02409286,\n",
       "         37.28710358,   38.57801819,   39.86859436,   41.032453  ,\n",
       "         42.22101639,   43.25033493,   44.38510132,   45.58514999,\n",
       "         46.86504898,   48.25165421,   49.69254425,   51.12898407,\n",
       "         52.6328801 ,   54.09592209,   55.82549545,   57.56459427,\n",
       "         59.50650864,   61.87232056,   64.52690338,   67.56261749,\n",
       "         71.2144519 ,   76.07522736,   82.89161774,   93.97904694,\n",
       "        113.53537354,  156.85127686, 1213.39489746])"
      ]
     },
     "execution_count": 34,
     "metadata": {},
     "output_type": "execute_result"
    }
   ],
   "source": [
    "# **weight pt**\n",
    "# weights calculation with the these corrected bins\n",
    "\n",
    "# try to create a binning of pt without empty bins\n",
    "# solution: i create bin starting from quantiles\n",
    "\n",
    "nbins_pt = 50\n",
    "edge_var_pt = np.percentile(totald[\"pt\"][ totald[\"truth_label\"]==0 ], np.linspace(0, 100, nbins_pt + 1))\n",
    "edge_var_pt"
   ]
  },
  {
   "cell_type": "code",
   "execution_count": 35,
   "id": "d6a1adff",
   "metadata": {},
   "outputs": [
    {
     "data": {
      "text/plain": [
       "array([  19.90011826,   20.31944656,   20.64755493,   20.97622093,\n",
       "         21.30948509,   21.67447662,   22.07830765,   22.49379158,\n",
       "         22.94754364,   23.48436485,   23.97818832,   24.6153299 ,\n",
       "         25.2672068 ,   26.02102119,   26.88541435,   27.82475929,\n",
       "         28.75865952,   29.69132767,   30.67704964,   31.70501175,\n",
       "         32.7671814 ,   33.77505814,   34.85944275,   36.02409286,\n",
       "         37.28710358,   38.57801819,   39.86859436,   41.032453  ,\n",
       "         42.22101639,   43.25033493,   44.38510132,   45.58514999,\n",
       "         46.86504898,   48.25165421,   49.69254425,   51.12898407,\n",
       "         52.6328801 ,   54.09592209,   55.82549545,   57.56459427,\n",
       "         59.50650864,   61.87232056,   64.52690338,   67.56261749,\n",
       "         71.2144519 ,   76.07522736,   82.89161774,   93.97904694,\n",
       "        113.53537354,  156.85127686, 1534.01992187])"
      ]
     },
     "execution_count": 35,
     "metadata": {},
     "output_type": "execute_result"
    }
   ],
   "source": [
    "# correction on edges: add min and max of the total dataframe\n",
    "epsilon = 0.1\n",
    "edge_var_pt[0] = np.min(totald[\"pt\"]) - epsilon\n",
    "edge_var_pt[-1] = np.max(totald[\"pt\"]) + epsilon\n",
    "edge_var_pt"
   ]
  },
  {
   "cell_type": "code",
   "execution_count": 36,
   "id": "eab8e060",
   "metadata": {},
   "outputs": [
    {
     "data": {
      "text/plain": [
       "<matplotlib.legend.Legend at 0x7efc6da61100>"
      ]
     },
     "execution_count": 36,
     "metadata": {},
     "output_type": "execute_result"
    },
    {
     "data": {
      "image/png": "[encoded data removed]",
      "text/plain": [
       "<Figure size 432x288 with 1 Axes>"
      ]
     },
     "metadata": {
      "needs_background": "light"
     },
     "output_type": "display_data"
    }
   ],
   "source": [
    "# histograms\n",
    "# pt_bins ---> edge_var_pt\n",
    "\n",
    "h_pt_bkg = plt.hist( totald[ totald[\"truth_label\"]==0 ][\"pt\"], \n",
    "                        weights = totald[ totald[\"truth_label\"] == 0][\"weight_glob\"],\n",
    "                        histtype='step', log = True, bins = edge_var_pt, density='true',\n",
    "                        label='Background')\n",
    "\n",
    "h_pt_sig = plt.hist( totald[ totald[\"truth_label\"]==1 ][\"pt\"] ,\n",
    "                        weights = totald[ totald[\"truth_label\"]==1 ][\"weight_glob\"],\n",
    "                        histtype='step', log = True, bins = edge_var_pt, density='true',\n",
    "                        label='Signal')\n",
    "\n",
    "plt.gca().set(xlabel=\"pt\")\n",
    "plt.legend(loc=\"upper right\")"
   ]
  },
  {
   "cell_type": "code",
   "execution_count": 37,
   "id": "2285bf1d",
   "metadata": {},
   "outputs": [
    {
     "data": {
      "text/plain": [
       "<matplotlib.legend.Legend at 0x7efc8c8f0a30>"
      ]
     },
     "execution_count": 37,
     "metadata": {},
     "output_type": "execute_result"
    },
    {
     "data": {
      "image/png": "[encoded data removed]",
      "text/plain": [
       "<Figure size 432x288 with 1 Axes>"
      ]
     },
     "metadata": {
      "needs_background": "light"
     },
     "output_type": "display_data"
    }
   ],
   "source": [
    "# weight calculation\n",
    "\n",
    "pt_w = h_pt_sig[0] / h_pt_bkg[0]\n",
    "pt_w\n",
    "\n",
    "# calcultate for each (not only bkg!) event what bin it belongs to\n",
    "\n",
    "bin_idx_bkg_pt = np.digitize(totald[\"pt\"], edge_var_pt)\n",
    "idx_bkg_pt = pd.Series(bin_idx_bkg_pt)\n",
    "idx_bkg_pt\n",
    "\n",
    "# map every bin to the corresponding weight\n",
    "\n",
    "dfw_bkg_pt = idx_bkg_pt.map({i+1 : pt_w[i] for i in range(nbins_pt)})\n",
    "dfw_bkg_pt\n",
    "\n",
    "# attach weights to the dataframe, with condition on signal events\n",
    "\n",
    "totald[\"weight_pt\"] = dfw_bkg_pt.where( totald[\"truth_label\"]==0 , 1.)\n",
    "totald[\"weight_pt\"]\n",
    "\n",
    "# histograms with pt_w on bkg\n",
    "\n",
    "\n",
    "h_pt_bkg = plt.hist( totald[ totald[\"truth_label\"]==0 ][\"pt\"], \n",
    "                        weights = totald[ totald[\"truth_label\"] == 0][\"weight_glob\"] * totald[ totald[\"truth_label\"]==0 ][\"weight_pt\"],\n",
    "                        histtype='stepfilled', log = True, bins = edge_var_pt, density='true',\n",
    "                        label='Background')\n",
    "\n",
    "h_pt_sig = plt.hist( totald[ totald[\"truth_label\"]==1 ][\"pt\"] ,\n",
    "                        weights = totald[ totald[\"truth_label\"]==1 ][\"weight_glob\"] * totald[ totald[\"truth_label\"]==1 ][\"weight_pt\"],\n",
    "                        histtype='step', log = True, bins = edge_var_pt, density='true',\n",
    "                        label='Signal')\n",
    "\n",
    "plt.gca().set(xlabel=\"pt\")\n",
    "plt.legend(loc=\"upper right\")"
   ]
  },
  {
   "cell_type": "code",
   "execution_count": 38,
   "id": "89412828",
   "metadata": {},
   "outputs": [],
   "source": [
    "# test on correlation: **total weights**\n",
    "\n",
    "totald[\"weight_tot\"] = totald[\"weight_pt\"] * totald[\"weight_eta\"] * totald[\"weight_glob\"]"
   ]
  },
  {
   "cell_type": "code",
   "execution_count": 39,
   "id": "f0e2a944",
   "metadata": {},
   "outputs": [
    {
     "data": {
      "text/plain": [
       "Text(0.5, 1.0, 'Eta with total weights')"
      ]
     },
     "execution_count": 39,
     "metadata": {},
     "output_type": "execute_result"
    },
    {
     "data": {
      "image/png": "[encoded data removed]",
      "text/plain": [
       "<Figure size 432x288 with 1 Axes>"
      ]
     },
     "metadata": {
      "needs_background": "light"
     },
     "output_type": "display_data"
    }
   ],
   "source": [
    "# final weighted eta plot\n",
    "\n",
    "# histograms\n",
    "h_eta_bkg = plt.hist( totald[ totald[\"truth_label\"]==0 ][\"eta\"] ,\n",
    "                     weights = totald[ totald[\"truth_label\"]==0 ][\"weight_tot\"],\n",
    "                     histtype='stepfilled', bins = eta_bins,\n",
    "                     label='Background')\n",
    "\n",
    "\n",
    "h_eta_sig = plt.hist( totald[ totald[\"truth_label\"]==1 ][\"eta\"] ,\n",
    "                     weights = totald[ totald[\"truth_label\"]==1 ][\"weight_tot\"],\n",
    "                     histtype='step', log = True, bins = eta_bins,\n",
    "                     label='Signal')\n",
    "\n",
    "plt.gca().set(xlabel=\"pt\")\n",
    "plt.legend(loc=\"upper right\")\n",
    "plt.title(\"Eta with total weights\")"
   ]
  },
  {
   "cell_type": "code",
   "execution_count": 40,
   "id": "dd258471",
   "metadata": {},
   "outputs": [
    {
     "data": {
      "text/plain": [
       "Text(0.5, 1.0, 'pt with total weights')"
      ]
     },
     "execution_count": 40,
     "metadata": {},
     "output_type": "execute_result"
    },
    {
     "data": {
      "image/png": "[encoded data removed]",
      "text/plain": [
       "<Figure size 432x288 with 1 Axes>"
      ]
     },
     "metadata": {
      "needs_background": "light"
     },
     "output_type": "display_data"
    }
   ],
   "source": [
    "# final weighted pt plot\n",
    "\n",
    "\n",
    "h_pt_bkg = plt.hist( totald[ totald[\"truth_label\"]==0 ][\"pt\"], \n",
    "                        weights = totald[ totald[\"truth_label\"] == 0][\"weight_tot\"],\n",
    "                        histtype='stepfilled', log = True, bins = edge_var_pt, density='true',\n",
    "                        label='Background')\n",
    "\n",
    "h_pt_sig = plt.hist( totald[ totald[\"truth_label\"]==1 ][\"pt\"] ,\n",
    "                        weights = totald[ totald[\"truth_label\"]==1 ][\"weight_tot\"],\n",
    "                        histtype='step', log = True, bins = edge_var_pt, density='true',\n",
    "                        label='Signal')\n",
    "\n",
    "plt.gca().set(xlabel=\"pt\")\n",
    "plt.legend(loc=\"upper right\")\n",
    "plt.title(\"pt with total weights\")"
   ]
  },
  {
   "cell_type": "code",
   "execution_count": 71,
   "id": "60ea7850",
   "metadata": {
    "scrolled": true
   },
   "outputs": [
    {
     "data": {
      "image/png": "[encoded data removed]",
      "text/plain": [
       "<Figure size 432x288 with 1 Axes>"
      ]
     },
     "metadata": {
      "needs_background": "light"
     },
     "output_type": "display_data"
    },
    {
     "data": {
      "image/png": "[encoded data removed]",
      "text/plain": [
       "<Figure size 432x288 with 1 Axes>"
      ]
     },
     "metadata": {
      "needs_background": "light"
     },
     "output_type": "display_data"
    },
    {
     "data": {
      "image/png": "[encoded data removed]",
      "text/plain": [
       "<Figure size 432x288 with 1 Axes>"
      ]
     },
     "metadata": {
      "needs_background": "light"
     },
     "output_type": "display_data"
    },
    {
     "data": {
      "image/png": "[encoded data removed]",
      "text/plain": [
       "<Figure size 432x288 with 1 Axes>"
      ]
     },
     "metadata": {
      "needs_background": "light"
     },
     "output_type": "display_data"
    },
    {
     "data": {
      "image/png": "[encoded data removed]",
      "text/plain": [
       "<Figure size 432x288 with 1 Axes>"
      ]
     },
     "metadata": {
      "needs_background": "light"
     },
     "output_type": "display_data"
    },
    {
     "data": {
      "image/png": "[encoded data removed]",
      "text/plain": [
       "<Figure size 432x288 with 1 Axes>"
      ]
     },
     "metadata": {
      "needs_background": "light"
     },
     "output_type": "display_data"
    },
    {
     "data": {
      "image/png": "[encoded data removed]",
      "text/plain": [
       "<Figure size 432x288 with 1 Axes>"
      ]
     },
     "metadata": {
      "needs_background": "light"
     },
     "output_type": "display_data"
    },
    {
     "data": {
      "image/png": "[encoded data removed]",
      "text/plain": [
       "<Figure size 432x288 with 1 Axes>"
      ]
     },
     "metadata": {
      "needs_background": "light"
     },
     "output_type": "display_data"
    },
    {
     "data": {
      "image/png": "[encoded data removed]",
      "text/plain": [
       "<Figure size 432x288 with 1 Axes>"
      ]
     },
     "metadata": {
      "needs_background": "light"
     },
     "output_type": "display_data"
    },
    {
     "data": {
      "image/png": "[encoded data removed]",
      "text/plain": [
       "<Figure size 432x288 with 1 Axes>"
      ]
     },
     "metadata": {
      "needs_background": "light"
     },
     "output_type": "display_data"
    },
    {
     "data": {
      "image/png": "[encoded data removed]",
      "text/plain": [
       "<Figure size 432x288 with 1 Axes>"
      ]
     },
     "metadata": {
      "needs_background": "light"
     },
     "output_type": "display_data"
    },
    {
     "data": {
      "image/png": "[encoded data removed]",
      "text/plain": [
       "<Figure size 432x288 with 1 Axes>"
      ]
     },
     "metadata": {
      "needs_background": "light"
     },
     "output_type": "display_data"
    },
    {
     "data": {
      "image/png": "[encoded data removed]",
      "text/plain": [
       "<Figure size 432x288 with 1 Axes>"
      ]
     },
     "metadata": {
      "needs_background": "light"
     },
     "output_type": "display_data"
    },
    {
     "data": {
      "image/png": "[encoded data removed]",
      "text/plain": [
       "<Figure size 432x288 with 1 Axes>"
      ]
     },
     "metadata": {
      "needs_background": "light"
     },
     "output_type": "display_data"
    },
    {
     "data": {
      "image/png": "[encoded data removed]",
      "text/plain": [
       "<Figure size 432x288 with 1 Axes>"
      ]
     },
     "metadata": {
      "needs_background": "light"
     },
     "output_type": "display_data"
    },
    {
     "data": {
      "image/png": "[encoded data removed]",
      "text/plain": [
       "<Figure size 432x288 with 1 Axes>"
      ]
     },
     "metadata": {
      "needs_background": "light"
     },
     "output_type": "display_data"
    },
    {
     "data": {
      "image/png": "[encoded data removed]",
      "text/plain": [
       "<Figure size 432x288 with 1 Axes>"
      ]
     },
     "metadata": {
      "needs_background": "light"
     },
     "output_type": "display_data"
    }
   ],
   "source": [
    "# **make more detailed plots on WEIGHTED variables**\n",
    "\n",
    "for vname in discriminating_variables:\n",
    "    if (vname == \"pt\") | (vname == \"eta\"): continue\n",
    "    \n",
    "    if \"Rhad\" in vname:\n",
    "        plt.figure()\n",
    "        totald[ (totald[\"truth_label\"]==0)][vname].plot.hist(bins=200,alpha=0.5, density='true', label='Background' , legend='true', weights = totald[ totald[\"truth_label\"] == 0][\"weight_tot\"])\n",
    "        totald[ (totald[\"truth_label\"]==1)][vname].plot.hist(bins=200,alpha=0.5, density='true', label='Signal' , legend='true', weights = totald[ totald[\"truth_label\"] == 1][\"weight_tot\"])\n",
    "        plt.gca().set(xlabel=vname)\n",
    "        plt.xlim(-0.1, 0.1)\n",
    "        plt.title(vname + \" (weighted)\")\n",
    "    \n",
    "    elif \"TRT_PID\" in vname:\n",
    "        plt.figure()\n",
    "        totald[ (totald[\"truth_label\"]==0)][vname].plot.hist(bins=80,alpha=0.5, density='true', label='Background' , legend='true', weights = totald[ totald[\"truth_label\"] == 0][\"weight_tot\"])\n",
    "        totald[ (totald[\"truth_label\"]==1)][vname].plot.hist(bins=80,alpha=0.5, density='true', label='Signal' , legend='true', weights = totald[ totald[\"truth_label\"] == 1][\"weight_tot\"])\n",
    "        plt.gca().set(xlabel=vname)\n",
    "        plt.title(vname + \" (weighted)\")\n",
    "    \n",
    "    else: \n",
    "        plt.figure()\n",
    "        totald[ (totald[\"truth_label\"]==0)][vname].plot.hist(bins=100,alpha=0.5, density='true', label='Background' , legend='true', weights = totald[ totald[\"truth_label\"] == 0][\"weight_tot\"] )\n",
    "        totald[ (totald[\"truth_label\"]==1)][vname].plot.hist(bins=100,alpha=0.5, density='true', label='Signal' , legend='true', weights = totald[ totald[\"truth_label\"] == 1][\"weight_tot\"])\n",
    "        plt.gca().set(xlabel=vname)\n",
    "        plt.title(vname + \" (weighted)\")\n",
    "        "
   ]
  },
  {
   "cell_type": "code",
   "execution_count": 75,
   "id": "8aedf55b",
   "metadata": {},
   "outputs": [
    {
     "data": {
      "text/plain": [
       "(-2000.0, 2000.0)"
      ]
     },
     "execution_count": 75,
     "metadata": {},
     "output_type": "execute_result"
    },
    {
     "data": {
      "image/png": "[encoded data removed]",
      "text/plain": [
       "<Figure size 432x288 with 1 Axes>"
      ]
     },
     "metadata": {
      "needs_background": "light"
     },
     "output_type": "display_data"
    }
   ],
   "source": [
    "vname = \"DeltaE\"\n",
    "plt.figure()\n",
    "totald[ (totald[\"truth_label\"]==0)][vname].plot.hist(bins=300,alpha=0.5, density='true', label='Background' , legend='true', weights = totald[ totald[\"truth_label\"] == 0][\"weight_tot\"])\n",
    "totald[ (totald[\"truth_label\"]==1)][vname].plot.hist(bins=300,alpha=0.5, density='true', label='Signal' , legend='true', weights = totald[ totald[\"truth_label\"] == 1][\"weight_tot\"])\n",
    "plt.gca().set(xlabel=vname)\n",
    "plt.xlim(-2000, 2000)\n",
    "plt.title(vname + \" (weighted)\")"
   ]
  },
  {
   "cell_type": "code",
   "execution_count": 76,
   "id": "4f66d1e4",
   "metadata": {},
   "outputs": [
    {
     "data": {
      "text/plain": [
       "Text(0.5, 1.0, 'f3(weighted)')"
      ]
     },
     "execution_count": 76,
     "metadata": {},
     "output_type": "execute_result"
    },
    {
     "data": {
      "image/png": "[encoded data removed]",
      "text/plain": [
       "<Figure size 432x288 with 1 Axes>"
      ]
     },
     "metadata": {
      "needs_background": "light"
     },
     "output_type": "display_data"
    }
   ],
   "source": [
    "vname = \"f3\"\n",
    "plt.figure()\n",
    "totald[ (totald[\"truth_label\"]==0)][vname].plot.hist(bins=200,alpha=0.5, density='true', label='Background' , legend='true', weights = totald[ totald[\"truth_label\"] == 0][\"weight_tot\"])\n",
    "totald[ (totald[\"truth_label\"]==1)][vname].plot.hist(bins=200,alpha=0.5, density='true', label='Signal' , legend='true', weights = totald[ totald[\"truth_label\"] == 1][\"weight_tot\"])\n",
    "plt.gca().set(xlabel=vname)\n",
    "plt.xlim(-0.05, 0.06)\n",
    "plt.title(vname + \" (weighted)\")"
   ]
  },
  {
   "cell_type": "code",
   "execution_count": 41,
   "id": "b373614c",
   "metadata": {},
   "outputs": [],
   "source": [
    "# prepare the input for the training. \n",
    "# I add the weight to the Y column to be able to access it after splitting\n",
    "# in train and test\n",
    "\n",
    "X = totald[discriminating_variables]\n",
    "Y = totald[[\"truth_label\", \"weight_tot\"]]"
   ]
  },
  {
   "cell_type": "code",
   "execution_count": 42,
   "id": "60840854",
   "metadata": {},
   "outputs": [],
   "source": [
    "# split train and test using the scikit function\n",
    "\n",
    "x_train,x_test,y_train,y_test = train_test_split(X,Y,test_size=0.33,random_state=42)"
   ]
  },
  {
   "cell_type": "code",
   "execution_count": 43,
   "id": "d68b812b",
   "metadata": {},
   "outputs": [],
   "source": [
    "# save the weights in a dataframe\n",
    "\n",
    "wdf_train = pd.DataFrame({\"weight\": y_train[\"weight_tot\"]})\n",
    "wdf_test  = pd.DataFrame({\"weight\": y_test[\"weight_tot\"]})\n",
    "\n",
    "# drop the weights and just keep the truth column\n",
    "\n",
    "y_train = y_train.drop([\"weight_tot\"], axis=1)\n",
    "y_test = y_test.drop([\"weight_tot\"], axis=1)"
   ]
  },
  {
   "cell_type": "code",
   "execution_count": 44,
   "id": "4fae025c",
   "metadata": {},
   "outputs": [
    {
     "data": {
      "text/html": [
       "<div>\n",
       "<style scoped>\n",
       "    .dataframe tbody tr th:only-of-type {\n",
       "        vertical-align: middle;\n",
       "    }\n",
       "\n",
       "    .dataframe tbody tr th {\n",
       "        vertical-align: top;\n",
       "    }\n",
       "\n",
       "    .dataframe thead th {\n",
       "        text-align: right;\n",
       "    }\n",
       "</style>\n",
       "<table border=\"1\" class=\"dataframe\">\n",
       "  <thead>\n",
       "    <tr style=\"text-align: right;\">\n",
       "      <th></th>\n",
       "      <th>weight</th>\n",
       "    </tr>\n",
       "  </thead>\n",
       "  <tbody>\n",
       "    <tr>\n",
       "      <th>759553</th>\n",
       "      <td>109.800000</td>\n",
       "    </tr>\n",
       "    <tr>\n",
       "      <th>407661</th>\n",
       "      <td>109.800000</td>\n",
       "    </tr>\n",
       "    <tr>\n",
       "      <th>819393</th>\n",
       "      <td>43.606109</td>\n",
       "    </tr>\n",
       "    <tr>\n",
       "      <th>71967</th>\n",
       "      <td>31.400000</td>\n",
       "    </tr>\n",
       "    <tr>\n",
       "      <th>674417</th>\n",
       "      <td>109.800000</td>\n",
       "    </tr>\n",
       "    <tr>\n",
       "      <th>...</th>\n",
       "      <td>...</td>\n",
       "    </tr>\n",
       "    <tr>\n",
       "      <th>259178</th>\n",
       "      <td>27.800000</td>\n",
       "    </tr>\n",
       "    <tr>\n",
       "      <th>365838</th>\n",
       "      <td>109.800000</td>\n",
       "    </tr>\n",
       "    <tr>\n",
       "      <th>131932</th>\n",
       "      <td>31.400000</td>\n",
       "    </tr>\n",
       "    <tr>\n",
       "      <th>671155</th>\n",
       "      <td>109.800000</td>\n",
       "    </tr>\n",
       "    <tr>\n",
       "      <th>121958</th>\n",
       "      <td>31.400000</td>\n",
       "    </tr>\n",
       "  </tbody>\n",
       "</table>\n",
       "<p>566792 rows × 1 columns</p>\n",
       "</div>"
      ],
      "text/plain": [
       "            weight\n",
       "759553  109.800000\n",
       "407661  109.800000\n",
       "819393   43.606109\n",
       "71967    31.400000\n",
       "674417  109.800000\n",
       "...            ...\n",
       "259178   27.800000\n",
       "365838  109.800000\n",
       "131932   31.400000\n",
       "671155  109.800000\n",
       "121958   31.400000\n",
       "\n",
       "[566792 rows x 1 columns]"
      ]
     },
     "execution_count": 44,
     "metadata": {},
     "output_type": "execute_result"
    }
   ],
   "source": [
    "wdf_train"
   ]
  },
  {
   "cell_type": "code",
   "execution_count": 45,
   "id": "2fdff166",
   "metadata": {},
   "outputs": [
    {
     "data": {
      "text/html": [
       "<div>\n",
       "<style scoped>\n",
       "    .dataframe tbody tr th:only-of-type {\n",
       "        vertical-align: middle;\n",
       "    }\n",
       "\n",
       "    .dataframe tbody tr th {\n",
       "        vertical-align: top;\n",
       "    }\n",
       "\n",
       "    .dataframe thead th {\n",
       "        text-align: right;\n",
       "    }\n",
       "</style>\n",
       "<table border=\"1\" class=\"dataframe\">\n",
       "  <thead>\n",
       "    <tr style=\"text-align: right;\">\n",
       "      <th></th>\n",
       "      <th>truth_label</th>\n",
       "    </tr>\n",
       "  </thead>\n",
       "  <tbody>\n",
       "    <tr>\n",
       "      <th>522798</th>\n",
       "      <td>1.0</td>\n",
       "    </tr>\n",
       "    <tr>\n",
       "      <th>221062</th>\n",
       "      <td>1.0</td>\n",
       "    </tr>\n",
       "    <tr>\n",
       "      <th>643314</th>\n",
       "      <td>1.0</td>\n",
       "    </tr>\n",
       "    <tr>\n",
       "      <th>742641</th>\n",
       "      <td>1.0</td>\n",
       "    </tr>\n",
       "    <tr>\n",
       "      <th>410103</th>\n",
       "      <td>1.0</td>\n",
       "    </tr>\n",
       "    <tr>\n",
       "      <th>...</th>\n",
       "      <td>...</td>\n",
       "    </tr>\n",
       "    <tr>\n",
       "      <th>373754</th>\n",
       "      <td>1.0</td>\n",
       "    </tr>\n",
       "    <tr>\n",
       "      <th>174030</th>\n",
       "      <td>1.0</td>\n",
       "    </tr>\n",
       "    <tr>\n",
       "      <th>612992</th>\n",
       "      <td>1.0</td>\n",
       "    </tr>\n",
       "    <tr>\n",
       "      <th>110285</th>\n",
       "      <td>1.0</td>\n",
       "    </tr>\n",
       "    <tr>\n",
       "      <th>78594</th>\n",
       "      <td>1.0</td>\n",
       "    </tr>\n",
       "  </tbody>\n",
       "</table>\n",
       "<p>279167 rows × 1 columns</p>\n",
       "</div>"
      ],
      "text/plain": [
       "        truth_label\n",
       "522798          1.0\n",
       "221062          1.0\n",
       "643314          1.0\n",
       "742641          1.0\n",
       "410103          1.0\n",
       "...             ...\n",
       "373754          1.0\n",
       "174030          1.0\n",
       "612992          1.0\n",
       "110285          1.0\n",
       "78594           1.0\n",
       "\n",
       "[279167 rows x 1 columns]"
      ]
     },
     "execution_count": 45,
     "metadata": {},
     "output_type": "execute_result"
    }
   ],
   "source": [
    "y_test"
   ]
  },
  {
   "cell_type": "code",
   "execution_count": 46,
   "id": "2a25a754",
   "metadata": {
    "scrolled": false
   },
   "outputs": [],
   "source": [
    "# build a classifier, no hyperparameter optimisation for the moment and run the fit. \n",
    "# Eventually can use the weights here\n",
    "\n",
    "model = lgb.LGBMClassifier(learning_rate=0.09,\n",
    "                           num_leaves = 30,\n",
    "                           max_depth=-5,\n",
    "                           random_state=42 ,\n",
    "                           objective='xentropy',\n",
    "                           is_unbalance=True,\n",
    "                           n_estimators=1000)\n",
    "\n",
    "cb = [lgb.early_stopping(stopping_rounds=10),lgb.log_evaluation(30)]\n"
   ]
  },
  {
   "cell_type": "code",
   "execution_count": 47,
   "id": "d53d0e95",
   "metadata": {},
   "outputs": [
    {
     "name": "stderr",
     "output_type": "stream",
     "text": [
      "/cvmfs/sft.cern.ch/lcg/views/LCG_103/x86_64-centos7-gcc11-opt/lib/python3.9/site-packages/sklearn/utils/validation.py:63: DataConversionWarning: A column-vector y was passed when a 1d array was expected. Please change the shape of y to (n_samples, ), for example using ravel().\n",
      "  return f(*args, **kwargs)\n"
     ]
    },
    {
     "name": "stdout",
     "output_type": "stream",
     "text": [
      "[LightGBM] [Info] [cross_entropy:Init]: (objective) labels passed interval [0, 1] check\n",
      "[LightGBM] [Info] [cross_entropy:Init]: (metric) labels passed interval [0, 1] check\n",
      "[LightGBM] [Info] [cross_entropy:Init]: sum-of-weights = 79913888.000000\n",
      "[LightGBM] [Info] Auto-choosing col-wise multi-threading, the overhead of testing was 0.038067 seconds.\n",
      "You can set `force_col_wise=true` to remove the overhead.\n",
      "[LightGBM] [Info] Total Bins 4845\n",
      "[LightGBM] [Info] Number of data points in the train set: 566792, number of used features: 19\n",
      "[LightGBM] [Info] [cross_entropy:Init]: (metric) labels passed interval [0, 1] check\n",
      "[LightGBM] [Info] [cross_entropy:Init]: sum-of-weights = 39467204.000000\n",
      "[LightGBM] [Info] [cross_entropy:BoostFromScore]: pavg = 0.504876 -> initscore = 0.019506\n",
      "[LightGBM] [Info] Start training from score 0.019506\n",
      "[LightGBM] [Warning] No further splits with positive gain, best gain: -inf\n",
      "Training until validation scores don't improve for 20 rounds\n",
      "[LightGBM] [Warning] No further splits with positive gain, best gain: -inf\n",
      "[LightGBM] [Warning] No further splits with positive gain, best gain: -inf\n",
      "[LightGBM] [Warning] No further splits with positive gain, best gain: -inf\n",
      "[LightGBM] [Warning] No further splits with positive gain, best gain: -inf\n",
      "[LightGBM] [Warning] No further splits with positive gain, best gain: -inf\n",
      "[LightGBM] [Warning] No further splits with positive gain, best gain: -inf\n",
      "[LightGBM] [Warning] No further splits with positive gain, best gain: -inf\n",
      "[LightGBM] [Warning] No further splits with positive gain, best gain: -inf\n",
      "[LightGBM] [Warning] No further splits with positive gain, best gain: -inf\n",
      "[LightGBM] [Warning] No further splits with positive gain, best gain: -inf\n",
      "[LightGBM] [Warning] No further splits with positive gain, best gain: -inf\n",
      "[LightGBM] [Warning] No further splits with positive gain, best gain: -inf\n",
      "[LightGBM] [Warning] No further splits with positive gain, best gain: -inf\n",
      "[LightGBM] [Warning] No further splits with positive gain, best gain: -inf\n",
      "[LightGBM] [Warning] No further splits with positive gain, best gain: -inf\n",
      "[LightGBM] [Warning] No further splits with positive gain, best gain: -inf\n",
      "[LightGBM] [Warning] No further splits with positive gain, best gain: -inf\n",
      "[LightGBM] [Warning] No further splits with positive gain, best gain: -inf\n",
      "[LightGBM] [Warning] No further splits with positive gain, best gain: -inf\n",
      "[LightGBM] [Warning] No further splits with positive gain, best gain: -inf\n",
      "[LightGBM] [Warning] No further splits with positive gain, best gain: -inf\n",
      "[LightGBM] [Warning] No further splits with positive gain, best gain: -inf\n",
      "[LightGBM] [Warning] No further splits with positive gain, best gain: -inf\n",
      "[LightGBM] [Warning] No further splits with positive gain, best gain: -inf\n",
      "[LightGBM] [Warning] No further splits with positive gain, best gain: -inf\n",
      "[LightGBM] [Warning] No further splits with positive gain, best gain: -inf\n",
      "[LightGBM] [Warning] No further splits with positive gain, best gain: -inf\n",
      "[LightGBM] [Warning] No further splits with positive gain, best gain: -inf\n",
      "[LightGBM] [Warning] No further splits with positive gain, best gain: -inf\n",
      "[30]\ttraining's cross_entropy: 0.0331551\tvalid_0's cross_entropy: 0.0331121\n",
      "[LightGBM] [Warning] No further splits with positive gain, best gain: -inf\n",
      "[LightGBM] [Warning] No further splits with positive gain, best gain: -inf\n",
      "[LightGBM] [Warning] No further splits with positive gain, best gain: -inf\n",
      "[LightGBM] [Warning] No further splits with positive gain, best gain: -inf\n",
      "[LightGBM] [Warning] No further splits with positive gain, best gain: -inf\n",
      "[LightGBM] [Warning] No further splits with positive gain, best gain: -inf\n",
      "[LightGBM] [Warning] No further splits with positive gain, best gain: -inf\n",
      "[LightGBM] [Warning] No further splits with positive gain, best gain: -inf\n",
      "[LightGBM] [Warning] No further splits with positive gain, best gain: -inf\n",
      "[LightGBM] [Warning] No further splits with positive gain, best gain: -inf\n",
      "[LightGBM] [Warning] No further splits with positive gain, best gain: -inf\n",
      "[LightGBM] [Warning] No further splits with positive gain, best gain: -inf\n",
      "[LightGBM] [Warning] No further splits with positive gain, best gain: -inf\n",
      "[LightGBM] [Warning] No further splits with positive gain, best gain: -inf\n",
      "[LightGBM] [Warning] No further splits with positive gain, best gain: -inf\n",
      "[LightGBM] [Warning] No further splits with positive gain, best gain: -inf\n",
      "[LightGBM] [Warning] No further splits with positive gain, best gain: -inf\n",
      "[LightGBM] [Warning] No further splits with positive gain, best gain: -inf\n",
      "[LightGBM] [Warning] No further splits with positive gain, best gain: -inf\n",
      "[LightGBM] [Warning] No further splits with positive gain, best gain: -inf\n",
      "[LightGBM] [Warning] No further splits with positive gain, best gain: -inf\n",
      "[LightGBM] [Warning] No further splits with positive gain, best gain: -inf\n",
      "[LightGBM] [Warning] No further splits with positive gain, best gain: -inf\n",
      "[LightGBM] [Warning] No further splits with positive gain, best gain: -inf\n",
      "[LightGBM] [Warning] No further splits with positive gain, best gain: -inf\n",
      "[LightGBM] [Warning] No further splits with positive gain, best gain: -inf\n",
      "[LightGBM] [Warning] No further splits with positive gain, best gain: -inf\n",
      "[LightGBM] [Warning] No further splits with positive gain, best gain: -inf\n",
      "[LightGBM] [Warning] No further splits with positive gain, best gain: -inf\n",
      "[LightGBM] [Warning] No further splits with positive gain, best gain: -inf\n",
      "[60]\ttraining's cross_entropy: 0.002191\tvalid_0's cross_entropy: 0.00218816\n",
      "[LightGBM] [Warning] No further splits with positive gain, best gain: -inf\n",
      "[LightGBM] [Warning] No further splits with positive gain, best gain: -inf\n",
      "[LightGBM] [Warning] No further splits with positive gain, best gain: -inf\n",
      "[LightGBM] [Warning] No further splits with positive gain, best gain: -inf\n",
      "[LightGBM] [Warning] No further splits with positive gain, best gain: -inf\n",
      "[LightGBM] [Warning] No further splits with positive gain, best gain: -inf\n",
      "[LightGBM] [Warning] No further splits with positive gain, best gain: -inf\n",
      "[LightGBM] [Warning] No further splits with positive gain, best gain: -inf\n",
      "[LightGBM] [Warning] No further splits with positive gain, best gain: -inf\n",
      "[LightGBM] [Warning] No further splits with positive gain, best gain: -inf\n",
      "[LightGBM] [Warning] No further splits with positive gain, best gain: -inf\n",
      "[LightGBM] [Warning] No further splits with positive gain, best gain: -inf\n",
      "[LightGBM] [Warning] No further splits with positive gain, best gain: -inf\n",
      "[LightGBM] [Warning] No further splits with positive gain, best gain: -inf\n",
      "[LightGBM] [Warning] No further splits with positive gain, best gain: -inf\n",
      "[LightGBM] [Warning] No further splits with positive gain, best gain: -inf\n",
      "[LightGBM] [Warning] No further splits with positive gain, best gain: -inf\n",
      "[LightGBM] [Warning] No further splits with positive gain, best gain: -inf\n",
      "[LightGBM] [Warning] No further splits with positive gain, best gain: -inf\n",
      "[LightGBM] [Warning] No further splits with positive gain, best gain: -inf\n",
      "[LightGBM] [Warning] No further splits with positive gain, best gain: -inf\n",
      "[LightGBM] [Warning] No further splits with positive gain, best gain: -inf\n",
      "[LightGBM] [Warning] No further splits with positive gain, best gain: -inf\n",
      "[LightGBM] [Warning] No further splits with positive gain, best gain: -inf\n",
      "[LightGBM] [Warning] No further splits with positive gain, best gain: -inf\n",
      "[LightGBM] [Warning] No further splits with positive gain, best gain: -inf\n",
      "[LightGBM] [Warning] No further splits with positive gain, best gain: -inf\n",
      "[LightGBM] [Warning] No further splits with positive gain, best gain: -inf\n",
      "[LightGBM] [Warning] No further splits with positive gain, best gain: -inf\n",
      "[LightGBM] [Warning] No further splits with positive gain, best gain: -inf\n",
      "[90]\ttraining's cross_entropy: 0.000147083\tvalid_0's cross_entropy: 0.000146892\n",
      "[LightGBM] [Warning] No further splits with positive gain, best gain: -inf\n",
      "[LightGBM] [Warning] No further splits with positive gain, best gain: -inf\n",
      "[LightGBM] [Warning] No further splits with positive gain, best gain: -inf\n",
      "[LightGBM] [Warning] No further splits with positive gain, best gain: -inf\n",
      "[LightGBM] [Warning] No further splits with positive gain, best gain: -inf\n",
      "[LightGBM] [Warning] No further splits with positive gain, best gain: -inf\n",
      "[LightGBM] [Warning] No further splits with positive gain, best gain: -inf\n",
      "[LightGBM] [Warning] No further splits with positive gain, best gain: -inf\n",
      "[LightGBM] [Warning] No further splits with positive gain, best gain: -inf\n",
      "[LightGBM] [Warning] No further splits with positive gain, best gain: -inf\n",
      "[LightGBM] [Warning] No further splits with positive gain, best gain: -inf\n",
      "[LightGBM] [Warning] No further splits with positive gain, best gain: -inf\n",
      "[LightGBM] [Warning] No further splits with positive gain, best gain: -inf\n"
     ]
    },
    {
     "name": "stdout",
     "output_type": "stream",
     "text": [
      "[LightGBM] [Warning] No further splits with positive gain, best gain: -inf\n",
      "[LightGBM] [Warning] No further splits with positive gain, best gain: -inf\n",
      "[LightGBM] [Warning] No further splits with positive gain, best gain: -inf\n",
      "[LightGBM] [Warning] No further splits with positive gain, best gain: -inf\n",
      "[LightGBM] [Warning] No further splits with positive gain, best gain: -inf\n",
      "[LightGBM] [Warning] No further splits with positive gain, best gain: -inf\n",
      "[LightGBM] [Warning] No further splits with positive gain, best gain: -inf\n",
      "[LightGBM] [Warning] No further splits with positive gain, best gain: -inf\n",
      "[LightGBM] [Warning] No further splits with positive gain, best gain: -inf\n",
      "[LightGBM] [Warning] No further splits with positive gain, best gain: -inf\n",
      "[LightGBM] [Warning] No further splits with positive gain, best gain: -inf\n",
      "[LightGBM] [Warning] No further splits with positive gain, best gain: -inf\n",
      "[LightGBM] [Warning] No further splits with positive gain, best gain: -inf\n",
      "[LightGBM] [Warning] No further splits with positive gain, best gain: -inf\n",
      "[LightGBM] [Warning] No further splits with positive gain, best gain: -inf\n",
      "[LightGBM] [Warning] No further splits with positive gain, best gain: -inf\n",
      "[LightGBM] [Warning] No further splits with positive gain, best gain: -inf\n",
      "[120]\ttraining's cross_entropy: 9.88406e-06\tvalid_0's cross_entropy: 9.87124e-06\n",
      "[LightGBM] [Warning] No further splits with positive gain, best gain: -inf\n",
      "[LightGBM] [Warning] No further splits with positive gain, best gain: -inf\n",
      "[LightGBM] [Warning] No further splits with positive gain, best gain: -inf\n",
      "[LightGBM] [Warning] No further splits with positive gain, best gain: -inf\n",
      "[LightGBM] [Warning] No further splits with positive gain, best gain: -inf\n",
      "[LightGBM] [Warning] No further splits with positive gain, best gain: -inf\n",
      "[LightGBM] [Warning] No further splits with positive gain, best gain: -inf\n",
      "[LightGBM] [Warning] No further splits with positive gain, best gain: -inf\n",
      "[LightGBM] [Warning] No further splits with positive gain, best gain: -inf\n",
      "[LightGBM] [Warning] No further splits with positive gain, best gain: -inf\n",
      "[LightGBM] [Warning] No further splits with positive gain, best gain: -inf\n",
      "[LightGBM] [Warning] No further splits with positive gain, best gain: -inf\n",
      "[LightGBM] [Warning] No further splits with positive gain, best gain: -inf\n",
      "[LightGBM] [Warning] No further splits with positive gain, best gain: -inf\n",
      "[LightGBM] [Warning] No further splits with positive gain, best gain: -inf\n",
      "[LightGBM] [Warning] No further splits with positive gain, best gain: -inf\n",
      "[LightGBM] [Warning] No further splits with positive gain, best gain: -inf\n",
      "[LightGBM] [Warning] No further splits with positive gain, best gain: -inf\n",
      "[LightGBM] [Warning] No further splits with positive gain, best gain: -inf\n",
      "[LightGBM] [Warning] No further splits with positive gain, best gain: -inf\n",
      "[LightGBM] [Warning] No further splits with positive gain, best gain: -inf\n",
      "[LightGBM] [Warning] No further splits with positive gain, best gain: -inf\n",
      "[LightGBM] [Warning] No further splits with positive gain, best gain: -inf\n",
      "[LightGBM] [Warning] No further splits with positive gain, best gain: -inf\n",
      "[LightGBM] [Warning] No further splits with positive gain, best gain: -inf\n",
      "[LightGBM] [Warning] No further splits with positive gain, best gain: -inf\n",
      "[LightGBM] [Warning] No further splits with positive gain, best gain: -inf\n",
      "[LightGBM] [Warning] No further splits with positive gain, best gain: -inf\n",
      "[LightGBM] [Warning] No further splits with positive gain, best gain: -inf\n",
      "[LightGBM] [Warning] No further splits with positive gain, best gain: -inf\n",
      "[150]\ttraining's cross_entropy: 6.6426e-07\tvalid_0's cross_entropy: 6.63398e-07\n",
      "[LightGBM] [Warning] No further splits with positive gain, best gain: -inf\n",
      "[LightGBM] [Warning] No further splits with positive gain, best gain: -inf\n",
      "[LightGBM] [Warning] No further splits with positive gain, best gain: -inf\n",
      "[LightGBM] [Warning] No further splits with positive gain, best gain: -inf\n",
      "[LightGBM] [Warning] No further splits with positive gain, best gain: -inf\n",
      "[LightGBM] [Warning] No further splits with positive gain, best gain: -inf\n",
      "[LightGBM] [Warning] No further splits with positive gain, best gain: -inf\n",
      "[LightGBM] [Warning] No further splits with positive gain, best gain: -inf\n",
      "[LightGBM] [Warning] No further splits with positive gain, best gain: -inf\n",
      "[LightGBM] [Warning] No further splits with positive gain, best gain: -inf\n",
      "[LightGBM] [Warning] No further splits with positive gain, best gain: -inf\n",
      "[LightGBM] [Warning] No further splits with positive gain, best gain: -inf\n",
      "[LightGBM] [Warning] No further splits with positive gain, best gain: -inf\n",
      "[LightGBM] [Warning] No further splits with positive gain, best gain: -inf\n",
      "[LightGBM] [Warning] No further splits with positive gain, best gain: -inf\n",
      "[LightGBM] [Warning] No further splits with positive gain, best gain: -inf\n",
      "[LightGBM] [Warning] No further splits with positive gain, best gain: -inf\n",
      "[LightGBM] [Warning] No further splits with positive gain, best gain: -inf\n",
      "[LightGBM] [Warning] No further splits with positive gain, best gain: -inf\n",
      "[LightGBM] [Warning] No further splits with positive gain, best gain: -inf\n",
      "[LightGBM] [Warning] No further splits with positive gain, best gain: -inf\n",
      "[LightGBM] [Warning] No further splits with positive gain, best gain: -inf\n",
      "[LightGBM] [Warning] No further splits with positive gain, best gain: -inf\n",
      "[LightGBM] [Warning] No further splits with positive gain, best gain: -inf\n",
      "[LightGBM] [Warning] No further splits with positive gain, best gain: -inf\n",
      "[LightGBM] [Warning] No further splits with positive gain, best gain: -inf\n",
      "[LightGBM] [Warning] No further splits with positive gain, best gain: -inf\n",
      "[LightGBM] [Warning] No further splits with positive gain, best gain: -inf\n",
      "[180]\ttraining's cross_entropy: 4.46419e-08\tvalid_0's cross_entropy: 4.4584e-08\n",
      "[LightGBM] [Warning] No further splits with positive gain, best gain: -inf\n",
      "[LightGBM] [Warning] No further splits with positive gain, best gain: -inf\n",
      "[LightGBM] [Warning] No further splits with positive gain, best gain: -inf\n",
      "[LightGBM] [Warning] No further splits with positive gain, best gain: -inf\n",
      "[LightGBM] [Warning] No further splits with positive gain, best gain: -inf\n",
      "[LightGBM] [Warning] No further splits with positive gain, best gain: -inf\n",
      "[LightGBM] [Warning] No further splits with positive gain, best gain: -inf\n",
      "[LightGBM] [Warning] No further splits with positive gain, best gain: -inf\n",
      "[LightGBM] [Warning] No further splits with positive gain, best gain: -inf\n",
      "[LightGBM] [Warning] No further splits with positive gain, best gain: -inf\n",
      "[LightGBM] [Warning] No further splits with positive gain, best gain: -inf\n",
      "[LightGBM] [Warning] No further splits with positive gain, best gain: -inf\n",
      "[LightGBM] [Warning] No further splits with positive gain, best gain: -inf\n",
      "[LightGBM] [Warning] No further splits with positive gain, best gain: -inf\n",
      "[LightGBM] [Warning] No further splits with positive gain, best gain: -inf\n",
      "[LightGBM] [Warning] No further splits with positive gain, best gain: -inf\n",
      "[LightGBM] [Warning] No further splits with positive gain, best gain: -inf\n",
      "[LightGBM] [Warning] No further splits with positive gain, best gain: -inf\n",
      "[LightGBM] [Warning] No further splits with positive gain, best gain: -inf\n",
      "[LightGBM] [Warning] No further splits with positive gain, best gain: -inf\n",
      "[LightGBM] [Warning] No further splits with positive gain, best gain: -inf\n",
      "[LightGBM] [Warning] No further splits with positive gain, best gain: -inf\n",
      "[LightGBM] [Warning] No further splits with positive gain, best gain: -inf\n",
      "[LightGBM] [Warning] No further splits with positive gain, best gain: -inf\n",
      "[LightGBM] [Warning] No further splits with positive gain, best gain: -inf\n",
      "[LightGBM] [Warning] No further splits with positive gain, best gain: -inf\n",
      "[LightGBM] [Warning] No further splits with positive gain, best gain: -inf\n",
      "[LightGBM] [Warning] No further splits with positive gain, best gain: -inf\n",
      "[LightGBM] [Warning] No further splits with positive gain, best gain: -inf\n",
      "[LightGBM] [Warning] No further splits with positive gain, best gain: -inf\n",
      "[210]\ttraining's cross_entropy: 3.00018e-09\tvalid_0's cross_entropy: 2.99629e-09\n",
      "[LightGBM] [Warning] No further splits with positive gain, best gain: -inf\n",
      "[LightGBM] [Warning] No further splits with positive gain, best gain: -inf\n",
      "[LightGBM] [Warning] No further splits with positive gain, best gain: -inf\n",
      "[LightGBM] [Warning] No further splits with positive gain, best gain: -inf\n",
      "[LightGBM] [Warning] No further splits with positive gain, best gain: -inf\n",
      "[LightGBM] [Warning] No further splits with positive gain, best gain: -inf\n",
      "[LightGBM] [Warning] No further splits with positive gain, best gain: -inf\n",
      "[LightGBM] [Warning] No further splits with positive gain, best gain: -inf\n"
     ]
    },
    {
     "name": "stdout",
     "output_type": "stream",
     "text": [
      "[LightGBM] [Warning] No further splits with positive gain, best gain: -inf\n",
      "[LightGBM] [Warning] No further splits with positive gain, best gain: -inf\n",
      "[LightGBM] [Warning] No further splits with positive gain, best gain: -inf\n",
      "[LightGBM] [Warning] No further splits with positive gain, best gain: -inf\n",
      "[LightGBM] [Warning] No further splits with positive gain, best gain: -inf\n",
      "[LightGBM] [Warning] No further splits with positive gain, best gain: -inf\n",
      "[LightGBM] [Warning] No further splits with positive gain, best gain: -inf\n",
      "[LightGBM] [Warning] No further splits with positive gain, best gain: -inf\n",
      "[LightGBM] [Warning] No further splits with positive gain, best gain: -inf\n",
      "[LightGBM] [Warning] No further splits with positive gain, best gain: -inf\n",
      "[LightGBM] [Warning] No further splits with positive gain, best gain: -inf\n",
      "[LightGBM] [Warning] No further splits with positive gain, best gain: -inf\n",
      "[LightGBM] [Warning] No further splits with positive gain, best gain: -inf\n",
      "[LightGBM] [Warning] No further splits with positive gain, best gain: -inf\n",
      "[LightGBM] [Warning] No further splits with positive gain, best gain: -inf\n",
      "[LightGBM] [Warning] No further splits with positive gain, best gain: -inf\n",
      "[LightGBM] [Warning] No further splits with positive gain, best gain: -inf\n",
      "[LightGBM] [Warning] No further splits with positive gain, best gain: -inf\n",
      "[LightGBM] [Warning] No further splits with positive gain, best gain: -inf\n",
      "[LightGBM] [Warning] No further splits with positive gain, best gain: -inf\n",
      "[LightGBM] [Warning] No further splits with positive gain, best gain: -inf\n",
      "[LightGBM] [Warning] No further splits with positive gain, best gain: -inf\n",
      "[240]\ttraining's cross_entropy: 2.01629e-10\tvalid_0's cross_entropy: 2.01367e-10\n",
      "[LightGBM] [Warning] No further splits with positive gain, best gain: -inf\n",
      "[LightGBM] [Warning] No further splits with positive gain, best gain: -inf\n",
      "[LightGBM] [Warning] No further splits with positive gain, best gain: -inf\n",
      "[LightGBM] [Warning] No further splits with positive gain, best gain: -inf\n",
      "[LightGBM] [Warning] No further splits with positive gain, best gain: -inf\n",
      "[LightGBM] [Warning] No further splits with positive gain, best gain: -inf\n",
      "[LightGBM] [Warning] No further splits with positive gain, best gain: -inf\n",
      "[LightGBM] [Warning] No further splits with positive gain, best gain: -inf\n",
      "[LightGBM] [Warning] No further splits with positive gain, best gain: -inf\n",
      "[LightGBM] [Warning] No further splits with positive gain, best gain: -inf\n",
      "[LightGBM] [Warning] No further splits with positive gain, best gain: -inf\n",
      "[LightGBM] [Warning] No further splits with positive gain, best gain: -inf\n",
      "[LightGBM] [Warning] No further splits with positive gain, best gain: -inf\n",
      "[LightGBM] [Warning] No further splits with positive gain, best gain: -inf\n",
      "[LightGBM] [Warning] No further splits with positive gain, best gain: -inf\n",
      "[LightGBM] [Warning] No further splits with positive gain, best gain: -inf\n",
      "[LightGBM] [Warning] No further splits with positive gain, best gain: -inf\n",
      "[LightGBM] [Warning] No further splits with positive gain, best gain: -inf\n",
      "[LightGBM] [Warning] No further splits with positive gain, best gain: -inf\n",
      "[LightGBM] [Warning] No further splits with positive gain, best gain: -inf\n",
      "[LightGBM] [Warning] No further splits with positive gain, best gain: -inf\n",
      "[LightGBM] [Warning] No further splits with positive gain, best gain: -inf\n",
      "[LightGBM] [Warning] No further splits with positive gain, best gain: -inf\n",
      "[LightGBM] [Warning] No further splits with positive gain, best gain: -inf\n",
      "[LightGBM] [Warning] No further splits with positive gain, best gain: -inf\n",
      "[LightGBM] [Warning] Stopped training because there are no more leaves that meet the split requirements\n",
      "[LightGBM] [Warning] No further splits with positive gain, best gain: -inf\n",
      "[LightGBM] [Warning] Stopped training because there are no more leaves that meet the split requirements\n",
      "[LightGBM] [Warning] No further splits with positive gain, best gain: -inf\n",
      "[LightGBM] [Warning] Stopped training because there are no more leaves that meet the split requirements\n",
      "[LightGBM] [Warning] No further splits with positive gain, best gain: -inf\n",
      "[LightGBM] [Warning] Stopped training because there are no more leaves that meet the split requirements\n",
      "[LightGBM] [Warning] No further splits with positive gain, best gain: -inf\n",
      "[LightGBM] [Warning] Stopped training because there are no more leaves that meet the split requirements\n",
      "[LightGBM] [Warning] No further splits with positive gain, best gain: -inf\n",
      "[LightGBM] [Warning] Stopped training because there are no more leaves that meet the split requirements\n",
      "[270]\ttraining's cross_entropy: 2.32529e-11\tvalid_0's cross_entropy: 2.32227e-11\n",
      "[LightGBM] [Warning] No further splits with positive gain, best gain: -inf\n",
      "[LightGBM] [Warning] Stopped training because there are no more leaves that meet the split requirements\n",
      "[LightGBM] [Warning] No further splits with positive gain, best gain: -inf\n",
      "[LightGBM] [Warning] Stopped training because there are no more leaves that meet the split requirements\n",
      "[LightGBM] [Warning] No further splits with positive gain, best gain: -inf\n",
      "[LightGBM] [Warning] Stopped training because there are no more leaves that meet the split requirements\n",
      "[LightGBM] [Warning] No further splits with positive gain, best gain: -inf\n",
      "[LightGBM] [Warning] Stopped training because there are no more leaves that meet the split requirements\n",
      "[LightGBM] [Warning] No further splits with positive gain, best gain: -inf\n",
      "[LightGBM] [Warning] Stopped training because there are no more leaves that meet the split requirements\n",
      "[LightGBM] [Warning] No further splits with positive gain, best gain: -inf\n",
      "[LightGBM] [Warning] Stopped training because there are no more leaves that meet the split requirements\n",
      "[LightGBM] [Warning] No further splits with positive gain, best gain: -inf\n",
      "[LightGBM] [Warning] Stopped training because there are no more leaves that meet the split requirements\n",
      "[LightGBM] [Warning] No further splits with positive gain, best gain: -inf\n",
      "[LightGBM] [Warning] Stopped training because there are no more leaves that meet the split requirements\n",
      "[LightGBM] [Warning] No further splits with positive gain, best gain: -inf\n",
      "[LightGBM] [Warning] Stopped training because there are no more leaves that meet the split requirements\n",
      "[LightGBM] [Warning] No further splits with positive gain, best gain: -inf\n",
      "[LightGBM] [Warning] Stopped training because there are no more leaves that meet the split requirements\n",
      "[LightGBM] [Warning] No further splits with positive gain, best gain: -inf\n",
      "[LightGBM] [Warning] Stopped training because there are no more leaves that meet the split requirements\n",
      "[LightGBM] [Warning] No further splits with positive gain, best gain: -inf\n",
      "[LightGBM] [Warning] Stopped training because there are no more leaves that meet the split requirements\n",
      "[LightGBM] [Warning] No further splits with positive gain, best gain: -inf\n",
      "[LightGBM] [Warning] Stopped training because there are no more leaves that meet the split requirements\n",
      "[LightGBM] [Warning] No further splits with positive gain, best gain: -inf\n",
      "[LightGBM] [Warning] Stopped training because there are no more leaves that meet the split requirements\n",
      "[LightGBM] [Warning] No further splits with positive gain, best gain: -inf\n",
      "[LightGBM] [Warning] Stopped training because there are no more leaves that meet the split requirements\n",
      "[LightGBM] [Warning] No further splits with positive gain, best gain: -inf\n",
      "[LightGBM] [Warning] Stopped training because there are no more leaves that meet the split requirements\n",
      "[LightGBM] [Warning] No further splits with positive gain, best gain: -inf\n",
      "[LightGBM] [Warning] Stopped training because there are no more leaves that meet the split requirements\n",
      "[LightGBM] [Warning] No further splits with positive gain, best gain: -inf\n",
      "[LightGBM] [Warning] Stopped training because there are no more leaves that meet the split requirements\n",
      "Early stopping, best iteration is:\n",
      "[268]\ttraining's cross_entropy: 2.32529e-11\tvalid_0's cross_entropy: 2.32227e-11\n"
     ]
    },
    {
     "data": {
      "text/plain": [
       "LGBMClassifier(is_unbalance=True, learning_rate=0.09, max_depth=-5,\n",
       "               n_estimators=1000, num_leaves=30, objective='xentropy',\n",
       "               random_state=42)"
      ]
     },
     "execution_count": 47,
     "metadata": {},
     "output_type": "execute_result"
    }
   ],
   "source": [
    "model.fit(x_train,\n",
    "          y_train,\n",
    "          eval_set=[(x_test,y_test),(x_train,y_train)],\n",
    "          eval_metric='xentropy', \n",
    "          sample_weight=wdf_train[\"weight\"],\n",
    "          eval_sample_weight=[wdf_test[\"weight\"],\n",
    "                              wdf_train[\"weight\"]\n",
    "                             ],\n",
    "          #is_unbalance = True,\n",
    "          callbacks=[lgb.early_stopping(stopping_rounds=20),lgb.log_evaluation(30)])"
   ]
  },
  {
   "cell_type": "code",
   "execution_count": null,
   "id": "4b414634",
   "metadata": {},
   "outputs": [],
   "source": []
  }
 ],
 "metadata": {
  "kernelspec": {
   "display_name": "venv-lcg-103",
   "language": "python",
   "name": "venv-lcg-103"
  },
  "language_info": {
   "codemirror_mode": {
    "name": "ipython",
    "version": 3
   },
   "file_extension": ".py",
   "mimetype": "text/x-python",
   "name": "python",
   "nbconvert_exporter": "python",
   "pygments_lexer": "ipython3",
   "version": "3.9.12"
  }
 },
 "nbformat": 4,
 "nbformat_minor": 5
}
